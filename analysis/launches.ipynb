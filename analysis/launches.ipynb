{
 "cells": [
  {
   "cell_type": "code",
   "execution_count": 1,
   "metadata": {},
   "outputs": [],
   "source": [
    "import pandas as pd\n",
    "from sqlite_utils import Database"
   ]
  },
  {
   "cell_type": "code",
   "execution_count": 2,
   "metadata": {},
   "outputs": [],
   "source": [
    "db = Database(\"mybinder_archive.db\")"
   ]
  },
  {
   "cell_type": "code",
   "execution_count": 3,
   "metadata": {},
   "outputs": [
    {
     "data": {
      "text/plain": [
       "['mybinderlaunch', 'repo']"
      ]
     },
     "execution_count": 3,
     "metadata": {},
     "output_type": "execute_result"
    }
   ],
   "source": [
    "# get table names\n",
    "db.table_names()"
   ]
  },
  {
   "cell_type": "code",
   "execution_count": 4,
   "metadata": {},
   "outputs": [],
   "source": [
    "launch_table = 'mybinderlaunch'"
   ]
  },
  {
   "cell_type": "code",
   "execution_count": 5,
   "metadata": {},
   "outputs": [
    {
     "data": {
      "text/plain": [
       "{'timestamp': float,\n",
       " 'version': int,\n",
       " 'origin': str,\n",
       " 'provider': str,\n",
       " 'spec': str,\n",
       " 'org': str,\n",
       " 'ref': str,\n",
       " 'resolved_ref': str,\n",
       " 'repo_url': str}"
      ]
     },
     "execution_count": 5,
     "metadata": {},
     "output_type": "execute_result"
    }
   ],
   "source": [
    "# db[launch_table].columns\n",
    "db[launch_table].columns_dict"
   ]
  },
  {
   "cell_type": "code",
   "execution_count": 6,
   "metadata": {},
   "outputs": [
    {
     "data": {
      "text/html": [
       "<div>\n",
       "<style scoped>\n",
       "    .dataframe tbody tr th:only-of-type {\n",
       "        vertical-align: middle;\n",
       "    }\n",
       "\n",
       "    .dataframe tbody tr th {\n",
       "        vertical-align: top;\n",
       "    }\n",
       "\n",
       "    .dataframe thead th {\n",
       "        text-align: right;\n",
       "    }\n",
       "</style>\n",
       "<table border=\"1\" class=\"dataframe\">\n",
       "  <thead>\n",
       "    <tr style=\"text-align: right;\">\n",
       "      <th></th>\n",
       "      <th>timestamp</th>\n",
       "      <th>version</th>\n",
       "      <th>origin</th>\n",
       "      <th>provider</th>\n",
       "      <th>spec</th>\n",
       "      <th>org</th>\n",
       "      <th>ref</th>\n",
       "      <th>resolved_ref</th>\n",
       "      <th>repo_url</th>\n",
       "    </tr>\n",
       "  </thead>\n",
       "  <tbody>\n",
       "    <tr>\n",
       "      <th>0</th>\n",
       "      <td>2018-12-04 08:53:00+00:00</td>\n",
       "      <td>1</td>\n",
       "      <td>mybinder.org</td>\n",
       "      <td>GitHub</td>\n",
       "      <td>jupyterlab/jupyterlab-demo/master</td>\n",
       "      <td>jupyterlab</td>\n",
       "      <td>master</td>\n",
       "      <td></td>\n",
       "      <td>https://github.com/jupyterlab/jupyterlab-demo</td>\n",
       "    </tr>\n",
       "    <tr>\n",
       "      <th>1</th>\n",
       "      <td>2019-02-18 00:35:00+00:00</td>\n",
       "      <td>1</td>\n",
       "      <td>mybinder.org</td>\n",
       "      <td>GitHub</td>\n",
       "      <td>JohnLaTwC/Shared/master</td>\n",
       "      <td>JohnLaTwC</td>\n",
       "      <td>master</td>\n",
       "      <td></td>\n",
       "      <td>https://github.com/johnlatwc/shared</td>\n",
       "    </tr>\n",
       "    <tr>\n",
       "      <th>2</th>\n",
       "      <td>2019-11-20 18:15:00+00:00</td>\n",
       "      <td>3</td>\n",
       "      <td>gke.mybinder.org</td>\n",
       "      <td>GitHub</td>\n",
       "      <td>mwouts/itables/master</td>\n",
       "      <td>mwouts</td>\n",
       "      <td>master</td>\n",
       "      <td></td>\n",
       "      <td>https://github.com/mwouts/itables</td>\n",
       "    </tr>\n",
       "    <tr>\n",
       "      <th>3</th>\n",
       "      <td>2019-12-21 10:19:00+00:00</td>\n",
       "      <td>3</td>\n",
       "      <td>notebooks.gesis.org</td>\n",
       "      <td>GitHub</td>\n",
       "      <td>ipython/ipython-in-depth/master</td>\n",
       "      <td>ipython</td>\n",
       "      <td>master</td>\n",
       "      <td></td>\n",
       "      <td>https://github.com/ipython/ipython-in-depth</td>\n",
       "    </tr>\n",
       "    <tr>\n",
       "      <th>4</th>\n",
       "      <td>2020-04-28 04:47:00+00:00</td>\n",
       "      <td>3</td>\n",
       "      <td>gke.mybinder.org</td>\n",
       "      <td>GitHub</td>\n",
       "      <td>clumdee/quantum_well_solver/master</td>\n",
       "      <td>clumdee</td>\n",
       "      <td>master</td>\n",
       "      <td></td>\n",
       "      <td>https://github.com/clumdee/quantum_well_solver</td>\n",
       "    </tr>\n",
       "    <tr>\n",
       "      <th>...</th>\n",
       "      <td>...</td>\n",
       "      <td>...</td>\n",
       "      <td>...</td>\n",
       "      <td>...</td>\n",
       "      <td>...</td>\n",
       "      <td>...</td>\n",
       "      <td>...</td>\n",
       "      <td>...</td>\n",
       "      <td>...</td>\n",
       "    </tr>\n",
       "    <tr>\n",
       "      <th>95</th>\n",
       "      <td>2019-11-03 15:09:00+00:00</td>\n",
       "      <td>3</td>\n",
       "      <td>notebooks.gesis.org</td>\n",
       "      <td>GitHub</td>\n",
       "      <td>ipython/ipython-in-depth/master</td>\n",
       "      <td>ipython</td>\n",
       "      <td>master</td>\n",
       "      <td></td>\n",
       "      <td>https://github.com/ipython/ipython-in-depth</td>\n",
       "    </tr>\n",
       "    <tr>\n",
       "      <th>96</th>\n",
       "      <td>2019-10-10 13:14:00+00:00</td>\n",
       "      <td>3</td>\n",
       "      <td>gke.mybinder.org</td>\n",
       "      <td>GitHub</td>\n",
       "      <td>jupyterlab/jupyterlab-demo/try.jupyter.org</td>\n",
       "      <td>jupyterlab</td>\n",
       "      <td>try.jupyter.org</td>\n",
       "      <td></td>\n",
       "      <td>https://github.com/jupyterlab/jupyterlab-demo</td>\n",
       "    </tr>\n",
       "    <tr>\n",
       "      <th>97</th>\n",
       "      <td>2020-05-14 01:48:00+00:00</td>\n",
       "      <td>3</td>\n",
       "      <td>gesis.mybinder.org</td>\n",
       "      <td>GitHub</td>\n",
       "      <td>ipython/ipython-in-depth/master</td>\n",
       "      <td>ipython</td>\n",
       "      <td>master</td>\n",
       "      <td></td>\n",
       "      <td>https://github.com/ipython/ipython-in-depth</td>\n",
       "    </tr>\n",
       "    <tr>\n",
       "      <th>98</th>\n",
       "      <td>2019-08-22 08:20:00+00:00</td>\n",
       "      <td>3</td>\n",
       "      <td>gke.mybinder.org</td>\n",
       "      <td>GitHub</td>\n",
       "      <td>ipython/ipython-in-depth/master</td>\n",
       "      <td>ipython</td>\n",
       "      <td>master</td>\n",
       "      <td></td>\n",
       "      <td>https://github.com/ipython/ipython-in-depth</td>\n",
       "    </tr>\n",
       "    <tr>\n",
       "      <th>99</th>\n",
       "      <td>2019-06-28 11:58:00+00:00</td>\n",
       "      <td>3</td>\n",
       "      <td>gke.mybinder.org</td>\n",
       "      <td>GitHub</td>\n",
       "      <td>KevinMMendez/Poster_Metabolomics2019/master</td>\n",
       "      <td>KevinMMendez</td>\n",
       "      <td>master</td>\n",
       "      <td></td>\n",
       "      <td>https://github.com/kevinmmendez/poster_metabol...</td>\n",
       "    </tr>\n",
       "  </tbody>\n",
       "</table>\n",
       "<p>100 rows × 9 columns</p>\n",
       "</div>"
      ],
      "text/plain": [
       "                    timestamp  version               origin provider  \\\n",
       "0   2018-12-04 08:53:00+00:00        1         mybinder.org   GitHub   \n",
       "1   2019-02-18 00:35:00+00:00        1         mybinder.org   GitHub   \n",
       "2   2019-11-20 18:15:00+00:00        3     gke.mybinder.org   GitHub   \n",
       "3   2019-12-21 10:19:00+00:00        3  notebooks.gesis.org   GitHub   \n",
       "4   2020-04-28 04:47:00+00:00        3     gke.mybinder.org   GitHub   \n",
       "..                        ...      ...                  ...      ...   \n",
       "95  2019-11-03 15:09:00+00:00        3  notebooks.gesis.org   GitHub   \n",
       "96  2019-10-10 13:14:00+00:00        3     gke.mybinder.org   GitHub   \n",
       "97  2020-05-14 01:48:00+00:00        3   gesis.mybinder.org   GitHub   \n",
       "98  2019-08-22 08:20:00+00:00        3     gke.mybinder.org   GitHub   \n",
       "99  2019-06-28 11:58:00+00:00        3     gke.mybinder.org   GitHub   \n",
       "\n",
       "                                           spec           org  \\\n",
       "0             jupyterlab/jupyterlab-demo/master    jupyterlab   \n",
       "1                       JohnLaTwC/Shared/master     JohnLaTwC   \n",
       "2                         mwouts/itables/master        mwouts   \n",
       "3               ipython/ipython-in-depth/master       ipython   \n",
       "4            clumdee/quantum_well_solver/master       clumdee   \n",
       "..                                          ...           ...   \n",
       "95              ipython/ipython-in-depth/master       ipython   \n",
       "96   jupyterlab/jupyterlab-demo/try.jupyter.org    jupyterlab   \n",
       "97              ipython/ipython-in-depth/master       ipython   \n",
       "98              ipython/ipython-in-depth/master       ipython   \n",
       "99  KevinMMendez/Poster_Metabolomics2019/master  KevinMMendez   \n",
       "\n",
       "                ref resolved_ref  \\\n",
       "0            master                \n",
       "1            master                \n",
       "2            master                \n",
       "3            master                \n",
       "4            master                \n",
       "..              ...          ...   \n",
       "95           master                \n",
       "96  try.jupyter.org                \n",
       "97           master                \n",
       "98           master                \n",
       "99           master                \n",
       "\n",
       "                                             repo_url  \n",
       "0       https://github.com/jupyterlab/jupyterlab-demo  \n",
       "1                 https://github.com/johnlatwc/shared  \n",
       "2                   https://github.com/mwouts/itables  \n",
       "3         https://github.com/ipython/ipython-in-depth  \n",
       "4      https://github.com/clumdee/quantum_well_solver  \n",
       "..                                                ...  \n",
       "95        https://github.com/ipython/ipython-in-depth  \n",
       "96      https://github.com/jupyterlab/jupyterlab-demo  \n",
       "97        https://github.com/ipython/ipython-in-depth  \n",
       "98        https://github.com/ipython/ipython-in-depth  \n",
       "99  https://github.com/kevinmmendez/poster_metabol...  \n",
       "\n",
       "[100 rows x 9 columns]"
      ]
     },
     "execution_count": 6,
     "metadata": {},
     "output_type": "execute_result"
    }
   ],
   "source": [
    "# NOTE: this notebook wont have same output (nbs_same_output)\n",
    "query = f'SELECT * FROM {launch_table} ORDER BY RANDOM() LIMIT 100'\n",
    "pd.read_sql_query(query, db.conn)"
   ]
  },
  {
   "cell_type": "markdown",
   "metadata": {},
   "source": [
    "### Total number of launches"
   ]
  },
  {
   "cell_type": "code",
   "execution_count": 7,
   "metadata": {
    "scrolled": true
   },
   "outputs": [
    {
     "data": {
      "text/plain": [
       "9624058"
      ]
     },
     "execution_count": 7,
     "metadata": {},
     "output_type": "execute_result"
    }
   ],
   "source": [
    "db[launch_table].count"
   ]
  },
  {
   "cell_type": "markdown",
   "metadata": {},
   "source": [
    "First timestamp"
   ]
  },
  {
   "cell_type": "code",
   "execution_count": 8,
   "metadata": {},
   "outputs": [
    {
     "data": {
      "text/plain": [
       "'2018-11-03 00:00:00+00:00'"
      ]
     },
     "execution_count": 8,
     "metadata": {},
     "output_type": "execute_result"
    }
   ],
   "source": [
    "launches = db[launch_table].rows_where(order_by=\"timestamp\")\n",
    "first_launch_timestamp = next(launches)[\"timestamp\"]\n",
    "del launches\n",
    "\n",
    "first_launch_timestamp"
   ]
  },
  {
   "cell_type": "markdown",
   "metadata": {},
   "source": [
    "Last timestamp"
   ]
  },
  {
   "cell_type": "code",
   "execution_count": 9,
   "metadata": {},
   "outputs": [
    {
     "data": {
      "text/plain": [
       "'2020-06-30 23:59:00+00:00'"
      ]
     },
     "execution_count": 9,
     "metadata": {},
     "output_type": "execute_result"
    }
   ],
   "source": [
    "launches = db[launch_table].rows_where(order_by=\"timestamp desc\")\n",
    "last_launch_timestamp = next(launches)[\"timestamp\"]\n",
    "del launches\n",
    "\n",
    "last_launch_timestamp"
   ]
  },
  {
   "cell_type": "markdown",
   "metadata": {},
   "source": [
    "### Launches per origin"
   ]
  },
  {
   "cell_type": "code",
   "execution_count": 10,
   "metadata": {},
   "outputs": [
    {
     "data": {
      "text/html": [
       "<div>\n",
       "<style scoped>\n",
       "    .dataframe tbody tr th:only-of-type {\n",
       "        vertical-align: middle;\n",
       "    }\n",
       "\n",
       "    .dataframe tbody tr th {\n",
       "        vertical-align: top;\n",
       "    }\n",
       "\n",
       "    .dataframe thead th {\n",
       "        text-align: right;\n",
       "    }\n",
       "</style>\n",
       "<table border=\"1\" class=\"dataframe\">\n",
       "  <thead>\n",
       "    <tr style=\"text-align: right;\">\n",
       "      <th></th>\n",
       "      <th>origin</th>\n",
       "      <th>count(origin)</th>\n",
       "    </tr>\n",
       "  </thead>\n",
       "  <tbody>\n",
       "    <tr>\n",
       "      <th>0</th>\n",
       "      <td>binder.mybinder.ovh</td>\n",
       "      <td>556</td>\n",
       "    </tr>\n",
       "    <tr>\n",
       "      <th>1</th>\n",
       "      <td>binder.mybinder.turing.ac.uk</td>\n",
       "      <td>129</td>\n",
       "    </tr>\n",
       "    <tr>\n",
       "      <th>2</th>\n",
       "      <td>gesis.mybinder.org</td>\n",
       "      <td>681920</td>\n",
       "    </tr>\n",
       "    <tr>\n",
       "      <th>3</th>\n",
       "      <td>gke.mybinder.org</td>\n",
       "      <td>4754321</td>\n",
       "    </tr>\n",
       "    <tr>\n",
       "      <th>4</th>\n",
       "      <td>gke.mybinder.org:443</td>\n",
       "      <td>1</td>\n",
       "    </tr>\n",
       "    <tr>\n",
       "      <th>5</th>\n",
       "      <td>mybinder.org</td>\n",
       "      <td>2741924</td>\n",
       "    </tr>\n",
       "    <tr>\n",
       "      <th>6</th>\n",
       "      <td>notebooks.gesis.org</td>\n",
       "      <td>668369</td>\n",
       "    </tr>\n",
       "    <tr>\n",
       "      <th>7</th>\n",
       "      <td>ovh.mybinder.org</td>\n",
       "      <td>535332</td>\n",
       "    </tr>\n",
       "    <tr>\n",
       "      <th>8</th>\n",
       "      <td>turing.mybinder.org</td>\n",
       "      <td>241506</td>\n",
       "    </tr>\n",
       "  </tbody>\n",
       "</table>\n",
       "</div>"
      ],
      "text/plain": [
       "                         origin  count(origin)\n",
       "0           binder.mybinder.ovh            556\n",
       "1  binder.mybinder.turing.ac.uk            129\n",
       "2            gesis.mybinder.org         681920\n",
       "3              gke.mybinder.org        4754321\n",
       "4          gke.mybinder.org:443              1\n",
       "5                  mybinder.org        2741924\n",
       "6           notebooks.gesis.org         668369\n",
       "7              ovh.mybinder.org         535332\n",
       "8           turing.mybinder.org         241506"
      ]
     },
     "execution_count": 10,
     "metadata": {},
     "output_type": "execute_result"
    }
   ],
   "source": [
    "query = f'SELECT origin, count(origin) FROM {launch_table} GROUP BY \"origin\";'\n",
    "launches_per_origin = pd.read_sql_query(query, db.conn)\n",
    "launches_per_origin"
   ]
  },
  {
   "cell_type": "code",
   "execution_count": 11,
   "metadata": {},
   "outputs": [
    {
     "data": {
      "text/html": [
       "<div>\n",
       "<style scoped>\n",
       "    .dataframe tbody tr th:only-of-type {\n",
       "        vertical-align: middle;\n",
       "    }\n",
       "\n",
       "    .dataframe tbody tr th {\n",
       "        vertical-align: top;\n",
       "    }\n",
       "\n",
       "    .dataframe thead th {\n",
       "        text-align: right;\n",
       "    }\n",
       "</style>\n",
       "<table border=\"1\" class=\"dataframe\">\n",
       "  <thead>\n",
       "    <tr style=\"text-align: right;\">\n",
       "      <th></th>\n",
       "      <th>launches</th>\n",
       "    </tr>\n",
       "  </thead>\n",
       "  <tbody>\n",
       "    <tr>\n",
       "      <th>gke</th>\n",
       "      <td>7496246</td>\n",
       "    </tr>\n",
       "    <tr>\n",
       "      <th>gesis</th>\n",
       "      <td>1350289</td>\n",
       "    </tr>\n",
       "    <tr>\n",
       "      <th>ovh</th>\n",
       "      <td>535888</td>\n",
       "    </tr>\n",
       "    <tr>\n",
       "      <th>turing</th>\n",
       "      <td>241635</td>\n",
       "    </tr>\n",
       "  </tbody>\n",
       "</table>\n",
       "</div>"
      ],
      "text/plain": [
       "        launches\n",
       "gke      7496246\n",
       "gesis    1350289\n",
       "ovh       535888\n",
       "turing    241635"
      ]
     },
     "execution_count": 11,
     "metadata": {},
     "output_type": "execute_result"
    }
   ],
   "source": [
    "launches_per_origin_dict = {\"gke\": 0, \"gesis\": 0, \"turing\": 0, \"ovh\": 0}\n",
    "for index, row in launches_per_origin.iterrows():\n",
    "    if row[\"origin\"] == \"mybinder.org\":\n",
    "        launches_per_origin_dict[\"gke\"] += row[\"count(origin)\"]\n",
    "    for origin in launches_per_origin_dict.keys():\n",
    "        if origin in row[\"origin\"]:\n",
    "            # print(origin, row[\"origin\"])\n",
    "            launches_per_origin_dict[origin] += row[\"count(origin)\"]\n",
    "\n",
    "assert sum(launches_per_origin_dict.values()) == db[launch_table].count\n",
    "\n",
    "pd.DataFrame.from_dict(\n",
    "    launches_per_origin_dict, \n",
    "    orient=\"index\", \n",
    "    columns=[\"launches\"]\n",
    ").sort_values(by=[\"launches\"], ascending=False)"
   ]
  },
  {
   "cell_type": "markdown",
   "metadata": {},
   "source": [
    "### Launches per provider"
   ]
  },
  {
   "cell_type": "code",
   "execution_count": 12,
   "metadata": {},
   "outputs": [
    {
     "data": {
      "text/html": [
       "<div>\n",
       "<style scoped>\n",
       "    .dataframe tbody tr th:only-of-type {\n",
       "        vertical-align: middle;\n",
       "    }\n",
       "\n",
       "    .dataframe tbody tr th {\n",
       "        vertical-align: top;\n",
       "    }\n",
       "\n",
       "    .dataframe thead th {\n",
       "        text-align: right;\n",
       "    }\n",
       "</style>\n",
       "<table border=\"1\" class=\"dataframe\">\n",
       "  <thead>\n",
       "    <tr style=\"text-align: right;\">\n",
       "      <th></th>\n",
       "      <th>provider</th>\n",
       "      <th>count(provider)</th>\n",
       "    </tr>\n",
       "  </thead>\n",
       "  <tbody>\n",
       "    <tr>\n",
       "      <th>4</th>\n",
       "      <td>GitHub</td>\n",
       "      <td>9388681</td>\n",
       "    </tr>\n",
       "    <tr>\n",
       "      <th>2</th>\n",
       "      <td>Gist</td>\n",
       "      <td>131204</td>\n",
       "    </tr>\n",
       "    <tr>\n",
       "      <th>3</th>\n",
       "      <td>Git</td>\n",
       "      <td>63858</td>\n",
       "    </tr>\n",
       "    <tr>\n",
       "      <th>5</th>\n",
       "      <td>GitLab</td>\n",
       "      <td>38556</td>\n",
       "    </tr>\n",
       "    <tr>\n",
       "      <th>7</th>\n",
       "      <td>Zenodo</td>\n",
       "      <td>943</td>\n",
       "    </tr>\n",
       "    <tr>\n",
       "      <th>6</th>\n",
       "      <td>Hydroshare</td>\n",
       "      <td>383</td>\n",
       "    </tr>\n",
       "    <tr>\n",
       "      <th>1</th>\n",
       "      <td>Figshare</td>\n",
       "      <td>306</td>\n",
       "    </tr>\n",
       "    <tr>\n",
       "      <th>0</th>\n",
       "      <td>Dataverse</td>\n",
       "      <td>127</td>\n",
       "    </tr>\n",
       "  </tbody>\n",
       "</table>\n",
       "</div>"
      ],
      "text/plain": [
       "     provider  count(provider)\n",
       "4      GitHub          9388681\n",
       "2        Gist           131204\n",
       "3         Git            63858\n",
       "5      GitLab            38556\n",
       "7      Zenodo              943\n",
       "6  Hydroshare              383\n",
       "1    Figshare              306\n",
       "0   Dataverse              127"
      ]
     },
     "execution_count": 12,
     "metadata": {},
     "output_type": "execute_result"
    }
   ],
   "source": [
    "query = f'SELECT provider, count(provider) FROM {launch_table} GROUP BY \"provider\";'\n",
    "launches_per_provider = pd.read_sql_query(query, db.conn).sort_values(by=[\"count(provider)\"], ascending=False)\n",
    "\n",
    "launches_per_provider"
   ]
  },
  {
   "cell_type": "code",
   "execution_count": 13,
   "metadata": {},
   "outputs": [
    {
     "data": {
      "text/plain": [
       "98.91757718002115"
      ]
     },
     "execution_count": 13,
     "metadata": {},
     "output_type": "execute_result"
    }
   ],
   "source": [
    "# percentage of first 2 providers\n",
    "(sum(launches_per_provider.head(2)[\"count(provider)\"])*100)/sum(launches_per_provider[\"count(provider)\"])"
   ]
  },
  {
   "cell_type": "markdown",
   "metadata": {},
   "source": [
    "### Organisations/Users in repos"
   ]
  },
  {
   "cell_type": "code",
   "execution_count": 14,
   "metadata": {},
   "outputs": [
    {
     "data": {
      "text/plain": [
       "33514"
      ]
     },
     "execution_count": 14,
     "metadata": {},
     "output_type": "execute_result"
    }
   ],
   "source": [
    "# number of different orgs\n",
    "query = \"select count(distinct org) from mybinderlaunch;\"\n",
    "db.conn.execute(query).fetchone()[0]"
   ]
  },
  {
   "cell_type": "code",
   "execution_count": null,
   "metadata": {},
   "outputs": [],
   "source": []
  }
 ],
 "metadata": {
  "kernelspec": {
   "display_name": "Python 3",
   "language": "python",
   "name": "python3"
  },
  "language_info": {
   "codemirror_mode": {
    "name": "ipython",
    "version": 3
   },
   "file_extension": ".py",
   "mimetype": "text/x-python",
   "name": "python",
   "nbconvert_exporter": "python",
   "pygments_lexer": "ipython3",
   "version": "3.7.6"
  }
 },
 "nbformat": 4,
 "nbformat_minor": 4
}
