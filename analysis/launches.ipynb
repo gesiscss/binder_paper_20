{
 "cells": [
  {
   "cell_type": "code",
   "execution_count": 1,
   "metadata": {},
   "outputs": [],
   "source": [
    "import pandas as pd\n",
    "from sqlite_utils import Database"
   ]
  },
  {
   "cell_type": "code",
   "execution_count": 2,
   "metadata": {},
   "outputs": [],
   "source": [
    "db = Database(\"mybinder_archive.db\")"
   ]
  },
  {
   "cell_type": "code",
   "execution_count": 3,
   "metadata": {},
   "outputs": [
    {
     "data": {
      "text/plain": [
       "['mybinderlaunch', 'repo', 'notebook']"
      ]
     },
     "execution_count": 3,
     "metadata": {},
     "output_type": "execute_result"
    }
   ],
   "source": [
    "# get table names\n",
    "db.table_names()"
   ]
  },
  {
   "cell_type": "code",
   "execution_count": 4,
   "metadata": {},
   "outputs": [],
   "source": [
    "launch_table = 'mybinderlaunch'"
   ]
  },
  {
   "cell_type": "code",
   "execution_count": 5,
   "metadata": {},
   "outputs": [
    {
     "data": {
      "text/plain": [
       "{'timestamp': str,\n",
       " 'version': int,\n",
       " 'origin': str,\n",
       " 'provider': str,\n",
       " 'spec': str,\n",
       " 'org': str,\n",
       " 'ref': str,\n",
       " 'resolved_ref': str,\n",
       " 'r2d_version': str,\n",
       " 'repo_url': str,\n",
       " 'repo_id': str}"
      ]
     },
     "execution_count": 5,
     "metadata": {},
     "output_type": "execute_result"
    }
   ],
   "source": [
    "# db[launch_table].columns\n",
    "db[launch_table].columns_dict"
   ]
  },
  {
   "cell_type": "code",
   "execution_count": 6,
   "metadata": {},
   "outputs": [
    {
     "data": {
      "text/html": [
       "<div>\n",
       "<style scoped>\n",
       "    .dataframe tbody tr th:only-of-type {\n",
       "        vertical-align: middle;\n",
       "    }\n",
       "\n",
       "    .dataframe tbody tr th {\n",
       "        vertical-align: top;\n",
       "    }\n",
       "\n",
       "    .dataframe thead th {\n",
       "        text-align: right;\n",
       "    }\n",
       "</style>\n",
       "<table border=\"1\" class=\"dataframe\">\n",
       "  <thead>\n",
       "    <tr style=\"text-align: right;\">\n",
       "      <th></th>\n",
       "      <th>timestamp</th>\n",
       "      <th>version</th>\n",
       "      <th>origin</th>\n",
       "      <th>provider</th>\n",
       "      <th>spec</th>\n",
       "      <th>org</th>\n",
       "      <th>ref</th>\n",
       "      <th>resolved_ref</th>\n",
       "      <th>r2d_version</th>\n",
       "      <th>repo_url</th>\n",
       "      <th>repo_id</th>\n",
       "    </tr>\n",
       "  </thead>\n",
       "  <tbody>\n",
       "    <tr>\n",
       "      <th>0</th>\n",
       "      <td>2019-10-10T11:40:00</td>\n",
       "      <td>3</td>\n",
       "      <td>gke.mybinder.org</td>\n",
       "      <td>GitHub</td>\n",
       "      <td>McKemmish-Group/Workshop3_CHEM3011/master</td>\n",
       "      <td>McKemmish-Group</td>\n",
       "      <td>master</td>\n",
       "      <td></td>\n",
       "      <td>jupyter/repo2docker:0.10.0-100.g0dba611</td>\n",
       "      <td>https://github.com/mckemmish-group/workshop3_c...</td>\n",
       "      <td>26723</td>\n",
       "    </tr>\n",
       "    <tr>\n",
       "      <th>1</th>\n",
       "      <td>2019-02-04T03:32:00</td>\n",
       "      <td>1</td>\n",
       "      <td>mybinder.org</td>\n",
       "      <td>GitHub</td>\n",
       "      <td>ipython/ipython-in-depth/master</td>\n",
       "      <td>ipython</td>\n",
       "      <td>master</td>\n",
       "      <td></td>\n",
       "      <td>jupyter/repo2docker:ff894f44</td>\n",
       "      <td>https://github.com/ipython/ipython-in-depth</td>\n",
       "      <td>1</td>\n",
       "    </tr>\n",
       "    <tr>\n",
       "      <th>2</th>\n",
       "      <td>2020-04-26T22:13:00</td>\n",
       "      <td>3</td>\n",
       "      <td>gke.mybinder.org</td>\n",
       "      <td>Gist</td>\n",
       "      <td>ELC/380e584b87227b15727ec886223d9d4a/master</td>\n",
       "      <td>ELC</td>\n",
       "      <td>master</td>\n",
       "      <td></td>\n",
       "      <td>jupyter/repo2docker:0.11.0-52.g175b930</td>\n",
       "      <td>https://gist.github.com/elc/380e584b87227b1572...</td>\n",
       "      <td>12808</td>\n",
       "    </tr>\n",
       "    <tr>\n",
       "      <th>3</th>\n",
       "      <td>2019-09-18T14:10:00</td>\n",
       "      <td>3</td>\n",
       "      <td>gke.mybinder.org</td>\n",
       "      <td>GitHub</td>\n",
       "      <td>jupyterlab/jupyterlab-demo/try.jupyter.org</td>\n",
       "      <td>jupyterlab</td>\n",
       "      <td>try.jupyter.org</td>\n",
       "      <td></td>\n",
       "      <td>jupyter/repo2docker:0.10.0-80.g2ee3230</td>\n",
       "      <td>https://github.com/jupyterlab/jupyterlab-demo</td>\n",
       "      <td>4</td>\n",
       "    </tr>\n",
       "    <tr>\n",
       "      <th>4</th>\n",
       "      <td>2019-11-05T15:35:00</td>\n",
       "      <td>3</td>\n",
       "      <td>ovh.mybinder.org</td>\n",
       "      <td>GitHub</td>\n",
       "      <td>VincentZ112/conda.git/master</td>\n",
       "      <td>VincentZ112</td>\n",
       "      <td>master</td>\n",
       "      <td></td>\n",
       "      <td>jupyter/repo2docker:0.10.0-100.g0dba611</td>\n",
       "      <td>https://github.com/vincentz112/conda</td>\n",
       "      <td>29907</td>\n",
       "    </tr>\n",
       "    <tr>\n",
       "      <th>...</th>\n",
       "      <td>...</td>\n",
       "      <td>...</td>\n",
       "      <td>...</td>\n",
       "      <td>...</td>\n",
       "      <td>...</td>\n",
       "      <td>...</td>\n",
       "      <td>...</td>\n",
       "      <td>...</td>\n",
       "      <td>...</td>\n",
       "      <td>...</td>\n",
       "      <td>...</td>\n",
       "    </tr>\n",
       "    <tr>\n",
       "      <th>95</th>\n",
       "      <td>2019-02-07T07:57:00</td>\n",
       "      <td>1</td>\n",
       "      <td>mybinder.org</td>\n",
       "      <td>GitHub</td>\n",
       "      <td>ipython/ipython-in-depth/master</td>\n",
       "      <td>ipython</td>\n",
       "      <td>master</td>\n",
       "      <td></td>\n",
       "      <td>jupyter/repo2docker:9c2c7b6a</td>\n",
       "      <td>https://github.com/ipython/ipython-in-depth</td>\n",
       "      <td>1</td>\n",
       "    </tr>\n",
       "    <tr>\n",
       "      <th>96</th>\n",
       "      <td>2019-06-19T00:01:00</td>\n",
       "      <td>3</td>\n",
       "      <td>gke.mybinder.org</td>\n",
       "      <td>GitHub</td>\n",
       "      <td>noamross/gams-in-r-course/master</td>\n",
       "      <td>noamross</td>\n",
       "      <td>master</td>\n",
       "      <td></td>\n",
       "      <td>jupyter/repo2docker:9f110584</td>\n",
       "      <td>https://github.com/noamross/gams-in-r-course</td>\n",
       "      <td>16837</td>\n",
       "    </tr>\n",
       "    <tr>\n",
       "      <th>97</th>\n",
       "      <td>2020-02-11T03:05:00</td>\n",
       "      <td>3</td>\n",
       "      <td>turing.mybinder.org</td>\n",
       "      <td>GitHub</td>\n",
       "      <td>ipython/ipython-in-depth/master</td>\n",
       "      <td>ipython</td>\n",
       "      <td>master</td>\n",
       "      <td></td>\n",
       "      <td>jupyter/repo2docker:0.11.0-5.g8d490cf</td>\n",
       "      <td>https://github.com/ipython/ipython-in-depth</td>\n",
       "      <td>1</td>\n",
       "    </tr>\n",
       "    <tr>\n",
       "      <th>98</th>\n",
       "      <td>2019-03-10T18:34:00</td>\n",
       "      <td>1</td>\n",
       "      <td>mybinder.org</td>\n",
       "      <td>GitHub</td>\n",
       "      <td>ipython/ipython-in-depth/master</td>\n",
       "      <td>ipython</td>\n",
       "      <td>master</td>\n",
       "      <td></td>\n",
       "      <td>jupyter/repo2docker:9766c954</td>\n",
       "      <td>https://github.com/ipython/ipython-in-depth</td>\n",
       "      <td>1</td>\n",
       "    </tr>\n",
       "    <tr>\n",
       "      <th>99</th>\n",
       "      <td>2019-01-11T14:04:00</td>\n",
       "      <td>1</td>\n",
       "      <td>mybinder.org</td>\n",
       "      <td>GitHub</td>\n",
       "      <td>DS-100/textbook/master</td>\n",
       "      <td>DS-100</td>\n",
       "      <td>master</td>\n",
       "      <td></td>\n",
       "      <td>jupyter/repo2docker:36641f3</td>\n",
       "      <td>https://github.com/ds-100/textbook</td>\n",
       "      <td>7</td>\n",
       "    </tr>\n",
       "  </tbody>\n",
       "</table>\n",
       "<p>100 rows × 11 columns</p>\n",
       "</div>"
      ],
      "text/plain": [
       "              timestamp  version               origin provider  \\\n",
       "0   2019-10-10T11:40:00        3     gke.mybinder.org   GitHub   \n",
       "1   2019-02-04T03:32:00        1         mybinder.org   GitHub   \n",
       "2   2020-04-26T22:13:00        3     gke.mybinder.org     Gist   \n",
       "3   2019-09-18T14:10:00        3     gke.mybinder.org   GitHub   \n",
       "4   2019-11-05T15:35:00        3     ovh.mybinder.org   GitHub   \n",
       "..                  ...      ...                  ...      ...   \n",
       "95  2019-02-07T07:57:00        1         mybinder.org   GitHub   \n",
       "96  2019-06-19T00:01:00        3     gke.mybinder.org   GitHub   \n",
       "97  2020-02-11T03:05:00        3  turing.mybinder.org   GitHub   \n",
       "98  2019-03-10T18:34:00        1         mybinder.org   GitHub   \n",
       "99  2019-01-11T14:04:00        1         mybinder.org   GitHub   \n",
       "\n",
       "                                           spec              org  \\\n",
       "0     McKemmish-Group/Workshop3_CHEM3011/master  McKemmish-Group   \n",
       "1               ipython/ipython-in-depth/master          ipython   \n",
       "2   ELC/380e584b87227b15727ec886223d9d4a/master              ELC   \n",
       "3    jupyterlab/jupyterlab-demo/try.jupyter.org       jupyterlab   \n",
       "4                  VincentZ112/conda.git/master      VincentZ112   \n",
       "..                                          ...              ...   \n",
       "95              ipython/ipython-in-depth/master          ipython   \n",
       "96             noamross/gams-in-r-course/master         noamross   \n",
       "97              ipython/ipython-in-depth/master          ipython   \n",
       "98              ipython/ipython-in-depth/master          ipython   \n",
       "99                       DS-100/textbook/master           DS-100   \n",
       "\n",
       "                ref resolved_ref                              r2d_version  \\\n",
       "0            master               jupyter/repo2docker:0.10.0-100.g0dba611   \n",
       "1            master                          jupyter/repo2docker:ff894f44   \n",
       "2            master                jupyter/repo2docker:0.11.0-52.g175b930   \n",
       "3   try.jupyter.org                jupyter/repo2docker:0.10.0-80.g2ee3230   \n",
       "4            master               jupyter/repo2docker:0.10.0-100.g0dba611   \n",
       "..              ...          ...                                      ...   \n",
       "95           master                          jupyter/repo2docker:9c2c7b6a   \n",
       "96           master                          jupyter/repo2docker:9f110584   \n",
       "97           master                 jupyter/repo2docker:0.11.0-5.g8d490cf   \n",
       "98           master                          jupyter/repo2docker:9766c954   \n",
       "99           master                           jupyter/repo2docker:36641f3   \n",
       "\n",
       "                                             repo_url repo_id  \n",
       "0   https://github.com/mckemmish-group/workshop3_c...   26723  \n",
       "1         https://github.com/ipython/ipython-in-depth       1  \n",
       "2   https://gist.github.com/elc/380e584b87227b1572...   12808  \n",
       "3       https://github.com/jupyterlab/jupyterlab-demo       4  \n",
       "4                https://github.com/vincentz112/conda   29907  \n",
       "..                                                ...     ...  \n",
       "95        https://github.com/ipython/ipython-in-depth       1  \n",
       "96       https://github.com/noamross/gams-in-r-course   16837  \n",
       "97        https://github.com/ipython/ipython-in-depth       1  \n",
       "98        https://github.com/ipython/ipython-in-depth       1  \n",
       "99                 https://github.com/ds-100/textbook       7  \n",
       "\n",
       "[100 rows x 11 columns]"
      ]
     },
     "execution_count": 6,
     "metadata": {},
     "output_type": "execute_result"
    }
   ],
   "source": [
    "# NOTE: this notebook wont have same output (nbs_same_output)\n",
    "query = f'SELECT * FROM {launch_table} ORDER BY RANDOM() LIMIT 100'\n",
    "pd.read_sql_query(query, db.conn)"
   ]
  },
  {
   "cell_type": "markdown",
   "metadata": {},
   "source": [
    "### Total number of launches"
   ]
  },
  {
   "cell_type": "code",
   "execution_count": 7,
   "metadata": {},
   "outputs": [
    {
     "data": {
      "text/plain": [
       "9624058"
      ]
     },
     "execution_count": 7,
     "metadata": {},
     "output_type": "execute_result"
    }
   ],
   "source": [
    "db[launch_table].count"
   ]
  },
  {
   "cell_type": "markdown",
   "metadata": {},
   "source": [
    "First timestamp"
   ]
  },
  {
   "cell_type": "code",
   "execution_count": 8,
   "metadata": {},
   "outputs": [
    {
     "data": {
      "text/plain": [
       "'2018-11-03T00:00:00'"
      ]
     },
     "execution_count": 8,
     "metadata": {},
     "output_type": "execute_result"
    }
   ],
   "source": [
    "launches = db[launch_table].rows_where(order_by=\"timestamp\")\n",
    "first_launch_timestamp = next(launches)[\"timestamp\"]\n",
    "del launches\n",
    "\n",
    "first_launch_timestamp"
   ]
  },
  {
   "cell_type": "markdown",
   "metadata": {},
   "source": [
    "Last timestamp"
   ]
  },
  {
   "cell_type": "code",
   "execution_count": 9,
   "metadata": {},
   "outputs": [
    {
     "data": {
      "text/plain": [
       "'2020-06-30T23:59:00'"
      ]
     },
     "execution_count": 9,
     "metadata": {},
     "output_type": "execute_result"
    }
   ],
   "source": [
    "launches = db[launch_table].rows_where(order_by=\"timestamp desc\")\n",
    "last_launch_timestamp = next(launches)[\"timestamp\"]\n",
    "del launches\n",
    "\n",
    "last_launch_timestamp"
   ]
  },
  {
   "cell_type": "markdown",
   "metadata": {},
   "source": [
    "### Launches per origin"
   ]
  },
  {
   "cell_type": "code",
   "execution_count": 10,
   "metadata": {},
   "outputs": [
    {
     "data": {
      "text/html": [
       "<div>\n",
       "<style scoped>\n",
       "    .dataframe tbody tr th:only-of-type {\n",
       "        vertical-align: middle;\n",
       "    }\n",
       "\n",
       "    .dataframe tbody tr th {\n",
       "        vertical-align: top;\n",
       "    }\n",
       "\n",
       "    .dataframe thead th {\n",
       "        text-align: right;\n",
       "    }\n",
       "</style>\n",
       "<table border=\"1\" class=\"dataframe\">\n",
       "  <thead>\n",
       "    <tr style=\"text-align: right;\">\n",
       "      <th></th>\n",
       "      <th>origin</th>\n",
       "      <th>count(origin)</th>\n",
       "    </tr>\n",
       "  </thead>\n",
       "  <tbody>\n",
       "    <tr>\n",
       "      <th>0</th>\n",
       "      <td>binder.mybinder.ovh</td>\n",
       "      <td>556</td>\n",
       "    </tr>\n",
       "    <tr>\n",
       "      <th>1</th>\n",
       "      <td>binder.mybinder.turing.ac.uk</td>\n",
       "      <td>129</td>\n",
       "    </tr>\n",
       "    <tr>\n",
       "      <th>2</th>\n",
       "      <td>gesis.mybinder.org</td>\n",
       "      <td>681920</td>\n",
       "    </tr>\n",
       "    <tr>\n",
       "      <th>3</th>\n",
       "      <td>gke.mybinder.org</td>\n",
       "      <td>4754321</td>\n",
       "    </tr>\n",
       "    <tr>\n",
       "      <th>4</th>\n",
       "      <td>gke.mybinder.org:443</td>\n",
       "      <td>1</td>\n",
       "    </tr>\n",
       "    <tr>\n",
       "      <th>5</th>\n",
       "      <td>mybinder.org</td>\n",
       "      <td>2741924</td>\n",
       "    </tr>\n",
       "    <tr>\n",
       "      <th>6</th>\n",
       "      <td>notebooks.gesis.org</td>\n",
       "      <td>668369</td>\n",
       "    </tr>\n",
       "    <tr>\n",
       "      <th>7</th>\n",
       "      <td>ovh.mybinder.org</td>\n",
       "      <td>535332</td>\n",
       "    </tr>\n",
       "    <tr>\n",
       "      <th>8</th>\n",
       "      <td>turing.mybinder.org</td>\n",
       "      <td>241506</td>\n",
       "    </tr>\n",
       "  </tbody>\n",
       "</table>\n",
       "</div>"
      ],
      "text/plain": [
       "                         origin  count(origin)\n",
       "0           binder.mybinder.ovh            556\n",
       "1  binder.mybinder.turing.ac.uk            129\n",
       "2            gesis.mybinder.org         681920\n",
       "3              gke.mybinder.org        4754321\n",
       "4          gke.mybinder.org:443              1\n",
       "5                  mybinder.org        2741924\n",
       "6           notebooks.gesis.org         668369\n",
       "7              ovh.mybinder.org         535332\n",
       "8           turing.mybinder.org         241506"
      ]
     },
     "execution_count": 10,
     "metadata": {},
     "output_type": "execute_result"
    }
   ],
   "source": [
    "query = f'SELECT origin, count(origin) FROM {launch_table} GROUP BY \"origin\";'\n",
    "launches_per_origin = pd.read_sql_query(query, db.conn)\n",
    "launches_per_origin"
   ]
  },
  {
   "cell_type": "code",
   "execution_count": 11,
   "metadata": {},
   "outputs": [
    {
     "data": {
      "text/html": [
       "<div>\n",
       "<style scoped>\n",
       "    .dataframe tbody tr th:only-of-type {\n",
       "        vertical-align: middle;\n",
       "    }\n",
       "\n",
       "    .dataframe tbody tr th {\n",
       "        vertical-align: top;\n",
       "    }\n",
       "\n",
       "    .dataframe thead th {\n",
       "        text-align: right;\n",
       "    }\n",
       "</style>\n",
       "<table border=\"1\" class=\"dataframe\">\n",
       "  <thead>\n",
       "    <tr style=\"text-align: right;\">\n",
       "      <th></th>\n",
       "      <th>launches</th>\n",
       "    </tr>\n",
       "  </thead>\n",
       "  <tbody>\n",
       "    <tr>\n",
       "      <th>gke</th>\n",
       "      <td>7496246</td>\n",
       "    </tr>\n",
       "    <tr>\n",
       "      <th>gesis</th>\n",
       "      <td>1350289</td>\n",
       "    </tr>\n",
       "    <tr>\n",
       "      <th>ovh</th>\n",
       "      <td>535888</td>\n",
       "    </tr>\n",
       "    <tr>\n",
       "      <th>turing</th>\n",
       "      <td>241635</td>\n",
       "    </tr>\n",
       "  </tbody>\n",
       "</table>\n",
       "</div>"
      ],
      "text/plain": [
       "        launches\n",
       "gke      7496246\n",
       "gesis    1350289\n",
       "ovh       535888\n",
       "turing    241635"
      ]
     },
     "execution_count": 11,
     "metadata": {},
     "output_type": "execute_result"
    }
   ],
   "source": [
    "launches_per_origin_dict = {\"gke\": 0, \"gesis\": 0, \"turing\": 0, \"ovh\": 0}\n",
    "for index, row in launches_per_origin.iterrows():\n",
    "    if row[\"origin\"] == \"mybinder.org\":\n",
    "        launches_per_origin_dict[\"gke\"] += row[\"count(origin)\"]\n",
    "    for origin in launches_per_origin_dict.keys():\n",
    "        if origin in row[\"origin\"]:\n",
    "            # print(origin, row[\"origin\"])\n",
    "            launches_per_origin_dict[origin] += row[\"count(origin)\"]\n",
    "\n",
    "assert sum(launches_per_origin_dict.values()) == db[launch_table].count\n",
    "\n",
    "pd.DataFrame.from_dict(\n",
    "    launches_per_origin_dict, \n",
    "    orient=\"index\", \n",
    "    columns=[\"launches\"]\n",
    ").sort_values(by=[\"launches\"], ascending=False)"
   ]
  },
  {
   "cell_type": "markdown",
   "metadata": {},
   "source": [
    "### Launches per provider"
   ]
  },
  {
   "cell_type": "code",
   "execution_count": 12,
   "metadata": {},
   "outputs": [
    {
     "data": {
      "text/html": [
       "<div>\n",
       "<style scoped>\n",
       "    .dataframe tbody tr th:only-of-type {\n",
       "        vertical-align: middle;\n",
       "    }\n",
       "\n",
       "    .dataframe tbody tr th {\n",
       "        vertical-align: top;\n",
       "    }\n",
       "\n",
       "    .dataframe thead th {\n",
       "        text-align: right;\n",
       "    }\n",
       "</style>\n",
       "<table border=\"1\" class=\"dataframe\">\n",
       "  <thead>\n",
       "    <tr style=\"text-align: right;\">\n",
       "      <th></th>\n",
       "      <th>provider</th>\n",
       "      <th>count(provider)</th>\n",
       "    </tr>\n",
       "  </thead>\n",
       "  <tbody>\n",
       "    <tr>\n",
       "      <th>4</th>\n",
       "      <td>GitHub</td>\n",
       "      <td>9388681</td>\n",
       "    </tr>\n",
       "    <tr>\n",
       "      <th>2</th>\n",
       "      <td>Gist</td>\n",
       "      <td>131204</td>\n",
       "    </tr>\n",
       "    <tr>\n",
       "      <th>3</th>\n",
       "      <td>Git</td>\n",
       "      <td>63858</td>\n",
       "    </tr>\n",
       "    <tr>\n",
       "      <th>5</th>\n",
       "      <td>GitLab</td>\n",
       "      <td>38556</td>\n",
       "    </tr>\n",
       "    <tr>\n",
       "      <th>7</th>\n",
       "      <td>Zenodo</td>\n",
       "      <td>943</td>\n",
       "    </tr>\n",
       "    <tr>\n",
       "      <th>6</th>\n",
       "      <td>Hydroshare</td>\n",
       "      <td>383</td>\n",
       "    </tr>\n",
       "    <tr>\n",
       "      <th>1</th>\n",
       "      <td>Figshare</td>\n",
       "      <td>306</td>\n",
       "    </tr>\n",
       "    <tr>\n",
       "      <th>0</th>\n",
       "      <td>Dataverse</td>\n",
       "      <td>127</td>\n",
       "    </tr>\n",
       "  </tbody>\n",
       "</table>\n",
       "</div>"
      ],
      "text/plain": [
       "     provider  count(provider)\n",
       "4      GitHub          9388681\n",
       "2        Gist           131204\n",
       "3         Git            63858\n",
       "5      GitLab            38556\n",
       "7      Zenodo              943\n",
       "6  Hydroshare              383\n",
       "1    Figshare              306\n",
       "0   Dataverse              127"
      ]
     },
     "execution_count": 12,
     "metadata": {},
     "output_type": "execute_result"
    }
   ],
   "source": [
    "query = f'SELECT provider, count(provider) FROM {launch_table} GROUP BY \"provider\";'\n",
    "launches_per_provider = pd.read_sql_query(query, db.conn).sort_values(by=[\"count(provider)\"], ascending=False)\n",
    "\n",
    "launches_per_provider"
   ]
  },
  {
   "cell_type": "code",
   "execution_count": 13,
   "metadata": {},
   "outputs": [
    {
     "data": {
      "text/plain": [
       "98.91757718002115"
      ]
     },
     "execution_count": 13,
     "metadata": {},
     "output_type": "execute_result"
    }
   ],
   "source": [
    "# percentage of first 2 providers\n",
    "(sum(launches_per_provider.head(2)[\"count(provider)\"])*100)/sum(launches_per_provider[\"count(provider)\"])"
   ]
  },
  {
   "cell_type": "markdown",
   "metadata": {},
   "source": [
    "### Repos per provider"
   ]
  },
  {
   "cell_type": "code",
   "execution_count": 14,
   "metadata": {},
   "outputs": [
    {
     "data": {
      "text/html": [
       "<div>\n",
       "<style scoped>\n",
       "    .dataframe tbody tr th:only-of-type {\n",
       "        vertical-align: middle;\n",
       "    }\n",
       "\n",
       "    .dataframe tbody tr th {\n",
       "        vertical-align: top;\n",
       "    }\n",
       "\n",
       "    .dataframe thead th {\n",
       "        text-align: right;\n",
       "    }\n",
       "</style>\n",
       "<table border=\"1\" class=\"dataframe\">\n",
       "  <thead>\n",
       "    <tr style=\"text-align: right;\">\n",
       "      <th></th>\n",
       "      <th>provider</th>\n",
       "      <th>count(DISTINCT repo_url)</th>\n",
       "    </tr>\n",
       "  </thead>\n",
       "  <tbody>\n",
       "    <tr>\n",
       "      <th>4</th>\n",
       "      <td>GitHub</td>\n",
       "      <td>48774</td>\n",
       "    </tr>\n",
       "    <tr>\n",
       "      <th>3</th>\n",
       "      <td>Git</td>\n",
       "      <td>10145</td>\n",
       "    </tr>\n",
       "    <tr>\n",
       "      <th>2</th>\n",
       "      <td>Gist</td>\n",
       "      <td>1491</td>\n",
       "    </tr>\n",
       "    <tr>\n",
       "      <th>5</th>\n",
       "      <td>GitLab</td>\n",
       "      <td>894</td>\n",
       "    </tr>\n",
       "    <tr>\n",
       "      <th>7</th>\n",
       "      <td>Zenodo</td>\n",
       "      <td>86</td>\n",
       "    </tr>\n",
       "    <tr>\n",
       "      <th>6</th>\n",
       "      <td>Hydroshare</td>\n",
       "      <td>36</td>\n",
       "    </tr>\n",
       "    <tr>\n",
       "      <th>1</th>\n",
       "      <td>Figshare</td>\n",
       "      <td>30</td>\n",
       "    </tr>\n",
       "    <tr>\n",
       "      <th>0</th>\n",
       "      <td>Dataverse</td>\n",
       "      <td>14</td>\n",
       "    </tr>\n",
       "  </tbody>\n",
       "</table>\n",
       "</div>"
      ],
      "text/plain": [
       "     provider  count(DISTINCT repo_url)\n",
       "4      GitHub                     48774\n",
       "3         Git                     10145\n",
       "2        Gist                      1491\n",
       "5      GitLab                       894\n",
       "7      Zenodo                        86\n",
       "6  Hydroshare                        36\n",
       "1    Figshare                        30\n",
       "0   Dataverse                        14"
      ]
     },
     "execution_count": 14,
     "metadata": {},
     "output_type": "execute_result"
    }
   ],
   "source": [
    "query = f'SELECT provider, count(DISTINCT repo_url) FROM {launch_table} GROUP BY \"provider\";'\n",
    "repos_per_provider = pd.read_sql_query(query, db.conn).\\\n",
    "                        sort_values(by=[\"count(DISTINCT repo_url)\"], ascending=False)\n",
    "\n",
    "repos_per_provider"
   ]
  },
  {
   "cell_type": "code",
   "execution_count": 15,
   "metadata": {},
   "outputs": [],
   "source": [
    "# # this returns 185 repos for Git provider because they have github url but Git as provider, \n",
    "# # which is okay and should work \n",
    "# query = f'SELECT provider, count(DISTINCT repo_id) FROM {launch_table} GROUP BY \"provider\";'\n",
    "# repos_per_provider = pd.read_sql_query(query, db.conn).\\\n",
    "#                         sort_values(by=[\"count(DISTINCT repo_id)\"], ascending=False)\n",
    "\n",
    "# repos_per_provider"
   ]
  },
  {
   "cell_type": "markdown",
   "metadata": {},
   "source": [
    "### Organisations/Users in repos"
   ]
  },
  {
   "cell_type": "code",
   "execution_count": 16,
   "metadata": {},
   "outputs": [
    {
     "data": {
      "text/plain": [
       "33514"
      ]
     },
     "execution_count": 16,
     "metadata": {},
     "output_type": "execute_result"
    }
   ],
   "source": [
    "# number of different orgs\n",
    "query = \"select count(distinct org) from mybinderlaunch;\"\n",
    "db.conn.execute(query).fetchone()[0]"
   ]
  },
  {
   "cell_type": "code",
   "execution_count": null,
   "metadata": {},
   "outputs": [],
   "source": []
  }
 ],
 "metadata": {
  "kernelspec": {
   "display_name": "Python 3",
   "language": "python",
   "name": "python3"
  },
  "language_info": {
   "codemirror_mode": {
    "name": "ipython",
    "version": 3
   },
   "file_extension": ".py",
   "mimetype": "text/x-python",
   "name": "python",
   "nbconvert_exporter": "python",
   "pygments_lexer": "ipython3",
   "version": "3.7.6"
  }
 },
 "nbformat": 4,
 "nbformat_minor": 4
}
