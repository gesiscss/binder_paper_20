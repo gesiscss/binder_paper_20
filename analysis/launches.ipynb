{
 "cells": [
  {
   "cell_type": "markdown",
   "metadata": {},
   "source": [
    "## Repo launches at mybinder.org\n",
    "\n",
    "https://archive.analytics.mybinder.org/"
   ]
  },
  {
   "cell_type": "code",
   "execution_count": 1,
   "metadata": {},
   "outputs": [],
   "source": [
    "import pandas as pd\n",
    "from sqlite_utils import Database"
   ]
  },
  {
   "cell_type": "code",
   "execution_count": 2,
   "metadata": {},
   "outputs": [],
   "source": [
    "db = Database(\"mybinder_archive.db\")"
   ]
  },
  {
   "cell_type": "code",
   "execution_count": 3,
   "metadata": {},
   "outputs": [
    {
     "data": {
      "text/plain": [
       "['mybinderlaunch', 'repo']"
      ]
     },
     "execution_count": 3,
     "metadata": {},
     "output_type": "execute_result"
    }
   ],
   "source": [
    "# get table names\n",
    "db.table_names()"
   ]
  },
  {
   "cell_type": "code",
   "execution_count": 4,
   "metadata": {},
   "outputs": [],
   "source": [
    "launch_table = 'mybinderlaunch'"
   ]
  },
  {
   "cell_type": "code",
   "execution_count": 5,
   "metadata": {},
   "outputs": [
    {
     "data": {
      "text/plain": [
       "{'timestamp': str,\n",
       " 'version': int,\n",
       " 'origin': str,\n",
       " 'provider': str,\n",
       " 'spec': str,\n",
       " 'org': str,\n",
       " 'ref': str,\n",
       " 'resolved_ref': str,\n",
       " 'r2d_version': str,\n",
       " 'repo_url': str,\n",
       " 'repo_id': str}"
      ]
     },
     "execution_count": 5,
     "metadata": {},
     "output_type": "execute_result"
    }
   ],
   "source": [
    "# db[launch_table].columns\n",
    "db[launch_table].columns_dict"
   ]
  },
  {
   "cell_type": "code",
   "execution_count": 6,
   "metadata": {},
   "outputs": [
    {
     "data": {
      "text/html": [
       "<div>\n",
       "<style scoped>\n",
       "    .dataframe tbody tr th:only-of-type {\n",
       "        vertical-align: middle;\n",
       "    }\n",
       "\n",
       "    .dataframe tbody tr th {\n",
       "        vertical-align: top;\n",
       "    }\n",
       "\n",
       "    .dataframe thead th {\n",
       "        text-align: right;\n",
       "    }\n",
       "</style>\n",
       "<table border=\"1\" class=\"dataframe\">\n",
       "  <thead>\n",
       "    <tr style=\"text-align: right;\">\n",
       "      <th></th>\n",
       "      <th>timestamp</th>\n",
       "      <th>version</th>\n",
       "      <th>origin</th>\n",
       "      <th>provider</th>\n",
       "      <th>spec</th>\n",
       "      <th>org</th>\n",
       "      <th>ref</th>\n",
       "      <th>resolved_ref</th>\n",
       "      <th>r2d_version</th>\n",
       "      <th>repo_url</th>\n",
       "      <th>repo_id</th>\n",
       "    </tr>\n",
       "  </thead>\n",
       "  <tbody>\n",
       "    <tr>\n",
       "      <th>0</th>\n",
       "      <td>2019-07-02T14:53:00</td>\n",
       "      <td>3</td>\n",
       "      <td>gke.mybinder.org</td>\n",
       "      <td>GitHub</td>\n",
       "      <td>bokeh/bokeh-notebooks/master</td>\n",
       "      <td>bokeh</td>\n",
       "      <td>master</td>\n",
       "      <td></td>\n",
       "      <td>jupyter/repo2docker:4b0e8381</td>\n",
       "      <td>https://github.com/bokeh/bokeh-notebooks</td>\n",
       "      <td>5</td>\n",
       "    </tr>\n",
       "    <tr>\n",
       "      <th>1</th>\n",
       "      <td>2020-01-18T08:54:00</td>\n",
       "      <td>3</td>\n",
       "      <td>ovh.mybinder.org</td>\n",
       "      <td>GitHub</td>\n",
       "      <td>rani420/cool/master</td>\n",
       "      <td>rani420</td>\n",
       "      <td>master</td>\n",
       "      <td></td>\n",
       "      <td>jupyter/repo2docker:0.10.0-127.gd9335cf</td>\n",
       "      <td>https://github.com/rani420/cool</td>\n",
       "      <td>34912</td>\n",
       "    </tr>\n",
       "    <tr>\n",
       "      <th>2</th>\n",
       "      <td>2019-03-13T07:17:00</td>\n",
       "      <td>1</td>\n",
       "      <td>mybinder.org</td>\n",
       "      <td>GitHub</td>\n",
       "      <td>junpark25/emath-jupyternotebooks/master</td>\n",
       "      <td>junpark25</td>\n",
       "      <td>master</td>\n",
       "      <td></td>\n",
       "      <td>jupyter/repo2docker:9766c954</td>\n",
       "      <td>https://github.com/junpark25/emath-jupyternote...</td>\n",
       "      <td>10797</td>\n",
       "    </tr>\n",
       "    <tr>\n",
       "      <th>3</th>\n",
       "      <td>2020-03-24T18:13:00</td>\n",
       "      <td>3</td>\n",
       "      <td>gesis.mybinder.org</td>\n",
       "      <td>GitHub</td>\n",
       "      <td>ipython/ipython-in-depth/master</td>\n",
       "      <td>ipython</td>\n",
       "      <td>master</td>\n",
       "      <td></td>\n",
       "      <td>jupyter/repo2docker:0.11.0-24.gfce6488</td>\n",
       "      <td>https://github.com/ipython/ipython-in-depth</td>\n",
       "      <td>1</td>\n",
       "    </tr>\n",
       "    <tr>\n",
       "      <th>4</th>\n",
       "      <td>2019-08-23T18:56:00</td>\n",
       "      <td>3</td>\n",
       "      <td>gke.mybinder.org</td>\n",
       "      <td>GitHub</td>\n",
       "      <td>pyviz-demos/glaciers/jsignell/jupyter-panel-se...</td>\n",
       "      <td>pyviz-demos</td>\n",
       "      <td>jsignell/jupyter-panel-server</td>\n",
       "      <td></td>\n",
       "      <td>jupyter/repo2docker:9c559d2a</td>\n",
       "      <td>https://github.com/pyviz-demos/glaciers</td>\n",
       "      <td>16729</td>\n",
       "    </tr>\n",
       "    <tr>\n",
       "      <th>...</th>\n",
       "      <td>...</td>\n",
       "      <td>...</td>\n",
       "      <td>...</td>\n",
       "      <td>...</td>\n",
       "      <td>...</td>\n",
       "      <td>...</td>\n",
       "      <td>...</td>\n",
       "      <td>...</td>\n",
       "      <td>...</td>\n",
       "      <td>...</td>\n",
       "      <td>...</td>\n",
       "    </tr>\n",
       "    <tr>\n",
       "      <th>95</th>\n",
       "      <td>2019-08-23T09:10:00</td>\n",
       "      <td>3</td>\n",
       "      <td>gke.mybinder.org</td>\n",
       "      <td>GitHub</td>\n",
       "      <td>ines/spacy-io-binder/live</td>\n",
       "      <td>ines</td>\n",
       "      <td>live</td>\n",
       "      <td></td>\n",
       "      <td>jupyter/repo2docker:9c559d2a</td>\n",
       "      <td>https://github.com/ines/spacy-io-binder</td>\n",
       "      <td>25</td>\n",
       "    </tr>\n",
       "    <tr>\n",
       "      <th>96</th>\n",
       "      <td>2020-01-02T06:21:00</td>\n",
       "      <td>3</td>\n",
       "      <td>notebooks.gesis.org</td>\n",
       "      <td>GitHub</td>\n",
       "      <td>quantopian/qgrid-notebooks/master</td>\n",
       "      <td>quantopian</td>\n",
       "      <td>master</td>\n",
       "      <td></td>\n",
       "      <td>jupyter/repo2docker:0.10.0-123.gf79bf04</td>\n",
       "      <td>https://github.com/quantopian/qgrid-notebooks</td>\n",
       "      <td>49</td>\n",
       "    </tr>\n",
       "    <tr>\n",
       "      <th>97</th>\n",
       "      <td>2019-10-21T17:12:00</td>\n",
       "      <td>3</td>\n",
       "      <td>gke.mybinder.org</td>\n",
       "      <td>GitHub</td>\n",
       "      <td>binder-examples/requirements/master</td>\n",
       "      <td>binder-examples</td>\n",
       "      <td>master</td>\n",
       "      <td></td>\n",
       "      <td>jupyter/repo2docker:0.10.0-100.g0dba611</td>\n",
       "      <td>https://github.com/binder-examples/requirements</td>\n",
       "      <td>165</td>\n",
       "    </tr>\n",
       "    <tr>\n",
       "      <th>98</th>\n",
       "      <td>2020-06-10T21:00:00</td>\n",
       "      <td>3</td>\n",
       "      <td>turing.mybinder.org</td>\n",
       "      <td>GitHub</td>\n",
       "      <td>binder-examples/r/master</td>\n",
       "      <td>binder-examples</td>\n",
       "      <td>master</td>\n",
       "      <td></td>\n",
       "      <td>jupyter/repo2docker:0.11.0-87.g8d85a51</td>\n",
       "      <td>https://github.com/binder-examples/r</td>\n",
       "      <td>17</td>\n",
       "    </tr>\n",
       "    <tr>\n",
       "      <th>99</th>\n",
       "      <td>2020-02-20T09:08:00</td>\n",
       "      <td>3</td>\n",
       "      <td>gke.mybinder.org</td>\n",
       "      <td>GitHub</td>\n",
       "      <td>ipython/ipython-in-depth/master</td>\n",
       "      <td>ipython</td>\n",
       "      <td>master</td>\n",
       "      <td></td>\n",
       "      <td>jupyter/repo2docker:0.11.0-10.gd8ccf36</td>\n",
       "      <td>https://github.com/ipython/ipython-in-depth</td>\n",
       "      <td>1</td>\n",
       "    </tr>\n",
       "  </tbody>\n",
       "</table>\n",
       "<p>100 rows × 11 columns</p>\n",
       "</div>"
      ],
      "text/plain": [
       "              timestamp  version               origin provider  \\\n",
       "0   2019-07-02T14:53:00        3     gke.mybinder.org   GitHub   \n",
       "1   2020-01-18T08:54:00        3     ovh.mybinder.org   GitHub   \n",
       "2   2019-03-13T07:17:00        1         mybinder.org   GitHub   \n",
       "3   2020-03-24T18:13:00        3   gesis.mybinder.org   GitHub   \n",
       "4   2019-08-23T18:56:00        3     gke.mybinder.org   GitHub   \n",
       "..                  ...      ...                  ...      ...   \n",
       "95  2019-08-23T09:10:00        3     gke.mybinder.org   GitHub   \n",
       "96  2020-01-02T06:21:00        3  notebooks.gesis.org   GitHub   \n",
       "97  2019-10-21T17:12:00        3     gke.mybinder.org   GitHub   \n",
       "98  2020-06-10T21:00:00        3  turing.mybinder.org   GitHub   \n",
       "99  2020-02-20T09:08:00        3     gke.mybinder.org   GitHub   \n",
       "\n",
       "                                                 spec              org  \\\n",
       "0                        bokeh/bokeh-notebooks/master            bokeh   \n",
       "1                                 rani420/cool/master          rani420   \n",
       "2             junpark25/emath-jupyternotebooks/master        junpark25   \n",
       "3                     ipython/ipython-in-depth/master          ipython   \n",
       "4   pyviz-demos/glaciers/jsignell/jupyter-panel-se...      pyviz-demos   \n",
       "..                                                ...              ...   \n",
       "95                          ines/spacy-io-binder/live             ines   \n",
       "96                  quantopian/qgrid-notebooks/master       quantopian   \n",
       "97                binder-examples/requirements/master  binder-examples   \n",
       "98                           binder-examples/r/master  binder-examples   \n",
       "99                    ipython/ipython-in-depth/master          ipython   \n",
       "\n",
       "                              ref resolved_ref  \\\n",
       "0                          master                \n",
       "1                          master                \n",
       "2                          master                \n",
       "3                          master                \n",
       "4   jsignell/jupyter-panel-server                \n",
       "..                            ...          ...   \n",
       "95                           live                \n",
       "96                         master                \n",
       "97                         master                \n",
       "98                         master                \n",
       "99                         master                \n",
       "\n",
       "                                r2d_version  \\\n",
       "0              jupyter/repo2docker:4b0e8381   \n",
       "1   jupyter/repo2docker:0.10.0-127.gd9335cf   \n",
       "2              jupyter/repo2docker:9766c954   \n",
       "3    jupyter/repo2docker:0.11.0-24.gfce6488   \n",
       "4              jupyter/repo2docker:9c559d2a   \n",
       "..                                      ...   \n",
       "95             jupyter/repo2docker:9c559d2a   \n",
       "96  jupyter/repo2docker:0.10.0-123.gf79bf04   \n",
       "97  jupyter/repo2docker:0.10.0-100.g0dba611   \n",
       "98   jupyter/repo2docker:0.11.0-87.g8d85a51   \n",
       "99   jupyter/repo2docker:0.11.0-10.gd8ccf36   \n",
       "\n",
       "                                             repo_url repo_id  \n",
       "0            https://github.com/bokeh/bokeh-notebooks       5  \n",
       "1                     https://github.com/rani420/cool   34912  \n",
       "2   https://github.com/junpark25/emath-jupyternote...   10797  \n",
       "3         https://github.com/ipython/ipython-in-depth       1  \n",
       "4             https://github.com/pyviz-demos/glaciers   16729  \n",
       "..                                                ...     ...  \n",
       "95            https://github.com/ines/spacy-io-binder      25  \n",
       "96      https://github.com/quantopian/qgrid-notebooks      49  \n",
       "97    https://github.com/binder-examples/requirements     165  \n",
       "98               https://github.com/binder-examples/r      17  \n",
       "99        https://github.com/ipython/ipython-in-depth       1  \n",
       "\n",
       "[100 rows x 11 columns]"
      ]
     },
     "execution_count": 6,
     "metadata": {},
     "output_type": "execute_result"
    }
   ],
   "source": [
    "# NOTE: this notebook wont have same output (nbs_same_output)\n",
    "query = f'SELECT * FROM {launch_table} ORDER BY RANDOM() LIMIT 100'\n",
    "pd.read_sql_query(query, db.conn)"
   ]
  },
  {
   "cell_type": "markdown",
   "metadata": {},
   "source": [
    "### Total number of launches"
   ]
  },
  {
   "cell_type": "code",
   "execution_count": 7,
   "metadata": {},
   "outputs": [
    {
     "data": {
      "text/plain": [
       "10140585"
      ]
     },
     "execution_count": 7,
     "metadata": {},
     "output_type": "execute_result"
    }
   ],
   "source": [
    "db[launch_table].count"
   ]
  },
  {
   "cell_type": "markdown",
   "metadata": {},
   "source": [
    "First timestamp"
   ]
  },
  {
   "cell_type": "code",
   "execution_count": 8,
   "metadata": {},
   "outputs": [
    {
     "data": {
      "text/plain": [
       "'2018-11-03T00:00:00'"
      ]
     },
     "execution_count": 8,
     "metadata": {},
     "output_type": "execute_result"
    }
   ],
   "source": [
    "launches = db[launch_table].rows_where(order_by=\"timestamp\")\n",
    "first_launch_timestamp = next(launches)[\"timestamp\"]\n",
    "del launches\n",
    "\n",
    "first_launch_timestamp"
   ]
  },
  {
   "cell_type": "markdown",
   "metadata": {},
   "source": [
    "Last timestamp"
   ]
  },
  {
   "cell_type": "code",
   "execution_count": 9,
   "metadata": {},
   "outputs": [
    {
     "data": {
      "text/plain": [
       "'2020-07-29T23:59:00'"
      ]
     },
     "execution_count": 9,
     "metadata": {},
     "output_type": "execute_result"
    }
   ],
   "source": [
    "launches = db[launch_table].rows_where(order_by=\"timestamp desc\")\n",
    "last_launch_timestamp = next(launches)[\"timestamp\"]\n",
    "del launches\n",
    "\n",
    "last_launch_timestamp"
   ]
  },
  {
   "cell_type": "markdown",
   "metadata": {},
   "source": [
    "### Launches per origin"
   ]
  },
  {
   "cell_type": "code",
   "execution_count": 10,
   "metadata": {},
   "outputs": [
    {
     "data": {
      "text/html": [
       "<div>\n",
       "<style scoped>\n",
       "    .dataframe tbody tr th:only-of-type {\n",
       "        vertical-align: middle;\n",
       "    }\n",
       "\n",
       "    .dataframe tbody tr th {\n",
       "        vertical-align: top;\n",
       "    }\n",
       "\n",
       "    .dataframe thead th {\n",
       "        text-align: right;\n",
       "    }\n",
       "</style>\n",
       "<table border=\"1\" class=\"dataframe\">\n",
       "  <thead>\n",
       "    <tr style=\"text-align: right;\">\n",
       "      <th></th>\n",
       "      <th>origin</th>\n",
       "      <th>count(origin)</th>\n",
       "    </tr>\n",
       "  </thead>\n",
       "  <tbody>\n",
       "    <tr>\n",
       "      <th>0</th>\n",
       "      <td>binder.mybinder.ovh</td>\n",
       "      <td>598</td>\n",
       "    </tr>\n",
       "    <tr>\n",
       "      <th>1</th>\n",
       "      <td>binder.mybinder.turing.ac.uk</td>\n",
       "      <td>137</td>\n",
       "    </tr>\n",
       "    <tr>\n",
       "      <th>2</th>\n",
       "      <td>gesis.mybinder.org</td>\n",
       "      <td>852211</td>\n",
       "    </tr>\n",
       "    <tr>\n",
       "      <th>3</th>\n",
       "      <td>gke.mybinder.org</td>\n",
       "      <td>5046450</td>\n",
       "    </tr>\n",
       "    <tr>\n",
       "      <th>4</th>\n",
       "      <td>gke.mybinder.org:443</td>\n",
       "      <td>1</td>\n",
       "    </tr>\n",
       "    <tr>\n",
       "      <th>5</th>\n",
       "      <td>mybinder.org</td>\n",
       "      <td>2741924</td>\n",
       "    </tr>\n",
       "    <tr>\n",
       "      <th>6</th>\n",
       "      <td>notebooks.gesis.org</td>\n",
       "      <td>671093</td>\n",
       "    </tr>\n",
       "    <tr>\n",
       "      <th>7</th>\n",
       "      <td>ovh.mybinder.org</td>\n",
       "      <td>568783</td>\n",
       "    </tr>\n",
       "    <tr>\n",
       "      <th>8</th>\n",
       "      <td>turing.mybinder.org</td>\n",
       "      <td>259388</td>\n",
       "    </tr>\n",
       "  </tbody>\n",
       "</table>\n",
       "</div>"
      ],
      "text/plain": [
       "                         origin  count(origin)\n",
       "0           binder.mybinder.ovh            598\n",
       "1  binder.mybinder.turing.ac.uk            137\n",
       "2            gesis.mybinder.org         852211\n",
       "3              gke.mybinder.org        5046450\n",
       "4          gke.mybinder.org:443              1\n",
       "5                  mybinder.org        2741924\n",
       "6           notebooks.gesis.org         671093\n",
       "7              ovh.mybinder.org         568783\n",
       "8           turing.mybinder.org         259388"
      ]
     },
     "execution_count": 10,
     "metadata": {},
     "output_type": "execute_result"
    }
   ],
   "source": [
    "query = f'SELECT origin, count(origin) FROM {launch_table} GROUP BY \"origin\";'\n",
    "launches_per_origin = pd.read_sql_query(query, db.conn)\n",
    "launches_per_origin"
   ]
  },
  {
   "cell_type": "code",
   "execution_count": 11,
   "metadata": {},
   "outputs": [
    {
     "data": {
      "text/html": [
       "<div>\n",
       "<style scoped>\n",
       "    .dataframe tbody tr th:only-of-type {\n",
       "        vertical-align: middle;\n",
       "    }\n",
       "\n",
       "    .dataframe tbody tr th {\n",
       "        vertical-align: top;\n",
       "    }\n",
       "\n",
       "    .dataframe thead th {\n",
       "        text-align: right;\n",
       "    }\n",
       "</style>\n",
       "<table border=\"1\" class=\"dataframe\">\n",
       "  <thead>\n",
       "    <tr style=\"text-align: right;\">\n",
       "      <th></th>\n",
       "      <th>launches</th>\n",
       "    </tr>\n",
       "  </thead>\n",
       "  <tbody>\n",
       "    <tr>\n",
       "      <th>gke</th>\n",
       "      <td>7788375</td>\n",
       "    </tr>\n",
       "    <tr>\n",
       "      <th>gesis</th>\n",
       "      <td>1523304</td>\n",
       "    </tr>\n",
       "    <tr>\n",
       "      <th>ovh</th>\n",
       "      <td>569381</td>\n",
       "    </tr>\n",
       "    <tr>\n",
       "      <th>turing</th>\n",
       "      <td>259525</td>\n",
       "    </tr>\n",
       "  </tbody>\n",
       "</table>\n",
       "</div>"
      ],
      "text/plain": [
       "        launches\n",
       "gke      7788375\n",
       "gesis    1523304\n",
       "ovh       569381\n",
       "turing    259525"
      ]
     },
     "execution_count": 11,
     "metadata": {},
     "output_type": "execute_result"
    }
   ],
   "source": [
    "launches_per_origin_dict = {\"gke\": 0, \"gesis\": 0, \"turing\": 0, \"ovh\": 0}\n",
    "for index, row in launches_per_origin.iterrows():\n",
    "    if row[\"origin\"] == \"mybinder.org\":\n",
    "        launches_per_origin_dict[\"gke\"] += row[\"count(origin)\"]\n",
    "    for origin in launches_per_origin_dict.keys():\n",
    "        if origin in row[\"origin\"]:\n",
    "            # print(origin, row[\"origin\"])\n",
    "            launches_per_origin_dict[origin] += row[\"count(origin)\"]\n",
    "\n",
    "assert sum(launches_per_origin_dict.values()) == db[launch_table].count\n",
    "\n",
    "pd.DataFrame.from_dict(\n",
    "    launches_per_origin_dict, \n",
    "    orient=\"index\", \n",
    "    columns=[\"launches\"]\n",
    ").sort_values(by=[\"launches\"], ascending=False)"
   ]
  },
  {
   "cell_type": "markdown",
   "metadata": {},
   "source": [
    "### Launches per provider"
   ]
  },
  {
   "cell_type": "code",
   "execution_count": 12,
   "metadata": {},
   "outputs": [
    {
     "data": {
      "text/html": [
       "<div>\n",
       "<style scoped>\n",
       "    .dataframe tbody tr th:only-of-type {\n",
       "        vertical-align: middle;\n",
       "    }\n",
       "\n",
       "    .dataframe tbody tr th {\n",
       "        vertical-align: top;\n",
       "    }\n",
       "\n",
       "    .dataframe thead th {\n",
       "        text-align: right;\n",
       "    }\n",
       "</style>\n",
       "<table border=\"1\" class=\"dataframe\">\n",
       "  <thead>\n",
       "    <tr style=\"text-align: right;\">\n",
       "      <th></th>\n",
       "      <th>provider</th>\n",
       "      <th>count(provider)</th>\n",
       "    </tr>\n",
       "  </thead>\n",
       "  <tbody>\n",
       "    <tr>\n",
       "      <th>4</th>\n",
       "      <td>GitHub</td>\n",
       "      <td>9880400</td>\n",
       "    </tr>\n",
       "    <tr>\n",
       "      <th>2</th>\n",
       "      <td>Gist</td>\n",
       "      <td>145219</td>\n",
       "    </tr>\n",
       "    <tr>\n",
       "      <th>3</th>\n",
       "      <td>Git</td>\n",
       "      <td>71185</td>\n",
       "    </tr>\n",
       "    <tr>\n",
       "      <th>5</th>\n",
       "      <td>GitLab</td>\n",
       "      <td>41907</td>\n",
       "    </tr>\n",
       "    <tr>\n",
       "      <th>7</th>\n",
       "      <td>Zenodo</td>\n",
       "      <td>1038</td>\n",
       "    </tr>\n",
       "    <tr>\n",
       "      <th>6</th>\n",
       "      <td>Hydroshare</td>\n",
       "      <td>395</td>\n",
       "    </tr>\n",
       "    <tr>\n",
       "      <th>1</th>\n",
       "      <td>Figshare</td>\n",
       "      <td>309</td>\n",
       "    </tr>\n",
       "    <tr>\n",
       "      <th>0</th>\n",
       "      <td>Dataverse</td>\n",
       "      <td>132</td>\n",
       "    </tr>\n",
       "  </tbody>\n",
       "</table>\n",
       "</div>"
      ],
      "text/plain": [
       "     provider  count(provider)\n",
       "4      GitHub          9880400\n",
       "2        Gist           145219\n",
       "3         Git            71185\n",
       "5      GitLab            41907\n",
       "7      Zenodo             1038\n",
       "6  Hydroshare              395\n",
       "1    Figshare              309\n",
       "0   Dataverse              132"
      ]
     },
     "execution_count": 12,
     "metadata": {},
     "output_type": "execute_result"
    }
   ],
   "source": [
    "query = f'SELECT provider, count(provider) FROM {launch_table} GROUP BY \"provider\";'\n",
    "launches_per_provider = pd.read_sql_query(query, db.conn).sort_values(by=[\"count(provider)\"], ascending=False)\n",
    "\n",
    "launches_per_provider"
   ]
  },
  {
   "cell_type": "code",
   "execution_count": 13,
   "metadata": {},
   "outputs": [
    {
     "data": {
      "text/plain": [
       "98.86627842476544"
      ]
     },
     "execution_count": 13,
     "metadata": {},
     "output_type": "execute_result"
    }
   ],
   "source": [
    "# percentage of first 2 providers\n",
    "(sum(launches_per_provider.head(2)[\"count(provider)\"])*100)/sum(launches_per_provider[\"count(provider)\"])"
   ]
  },
  {
   "cell_type": "markdown",
   "metadata": {},
   "source": [
    "### Repos per provider"
   ]
  },
  {
   "cell_type": "code",
   "execution_count": 14,
   "metadata": {},
   "outputs": [
    {
     "data": {
      "text/html": [
       "<div>\n",
       "<style scoped>\n",
       "    .dataframe tbody tr th:only-of-type {\n",
       "        vertical-align: middle;\n",
       "    }\n",
       "\n",
       "    .dataframe tbody tr th {\n",
       "        vertical-align: top;\n",
       "    }\n",
       "\n",
       "    .dataframe thead th {\n",
       "        text-align: right;\n",
       "    }\n",
       "</style>\n",
       "<table border=\"1\" class=\"dataframe\">\n",
       "  <thead>\n",
       "    <tr style=\"text-align: right;\">\n",
       "      <th></th>\n",
       "      <th>provider</th>\n",
       "      <th>count(DISTINCT repo_url)</th>\n",
       "    </tr>\n",
       "  </thead>\n",
       "  <tbody>\n",
       "    <tr>\n",
       "      <th>4</th>\n",
       "      <td>GitHub</td>\n",
       "      <td>51354</td>\n",
       "    </tr>\n",
       "    <tr>\n",
       "      <th>3</th>\n",
       "      <td>Git</td>\n",
       "      <td>10640</td>\n",
       "    </tr>\n",
       "    <tr>\n",
       "      <th>2</th>\n",
       "      <td>Gist</td>\n",
       "      <td>1595</td>\n",
       "    </tr>\n",
       "    <tr>\n",
       "      <th>5</th>\n",
       "      <td>GitLab</td>\n",
       "      <td>939</td>\n",
       "    </tr>\n",
       "    <tr>\n",
       "      <th>7</th>\n",
       "      <td>Zenodo</td>\n",
       "      <td>92</td>\n",
       "    </tr>\n",
       "    <tr>\n",
       "      <th>6</th>\n",
       "      <td>Hydroshare</td>\n",
       "      <td>39</td>\n",
       "    </tr>\n",
       "    <tr>\n",
       "      <th>1</th>\n",
       "      <td>Figshare</td>\n",
       "      <td>30</td>\n",
       "    </tr>\n",
       "    <tr>\n",
       "      <th>0</th>\n",
       "      <td>Dataverse</td>\n",
       "      <td>15</td>\n",
       "    </tr>\n",
       "  </tbody>\n",
       "</table>\n",
       "</div>"
      ],
      "text/plain": [
       "     provider  count(DISTINCT repo_url)\n",
       "4      GitHub                     51354\n",
       "3         Git                     10640\n",
       "2        Gist                      1595\n",
       "5      GitLab                       939\n",
       "7      Zenodo                        92\n",
       "6  Hydroshare                        39\n",
       "1    Figshare                        30\n",
       "0   Dataverse                        15"
      ]
     },
     "execution_count": 14,
     "metadata": {},
     "output_type": "execute_result"
    }
   ],
   "source": [
    "query = f'SELECT provider, count(DISTINCT repo_url) FROM {launch_table} GROUP BY \"provider\";'\n",
    "repos_per_provider = pd.read_sql_query(query, db.conn).\\\n",
    "                        sort_values(by=[\"count(DISTINCT repo_url)\"], ascending=False)\n",
    "\n",
    "repos_per_provider"
   ]
  },
  {
   "cell_type": "code",
   "execution_count": 15,
   "metadata": {},
   "outputs": [],
   "source": [
    "# # this returns 197 repos for Git provider because they have github url but Git as provider, \n",
    "# # which is okay and should work \n",
    "# query = f'SELECT provider, count(DISTINCT repo_id) FROM {launch_table} GROUP BY \"provider\";'\n",
    "# repos_per_provider = pd.read_sql_query(query, db.conn).\\\n",
    "#                         sort_values(by=[\"count(DISTINCT repo_id)\"], ascending=False)\n",
    "\n",
    "# repos_per_provider"
   ]
  },
  {
   "cell_type": "markdown",
   "metadata": {},
   "source": [
    "### Organisations/Users in repos"
   ]
  },
  {
   "cell_type": "code",
   "execution_count": 16,
   "metadata": {},
   "outputs": [
    {
     "data": {
      "text/plain": [
       "35153"
      ]
     },
     "execution_count": 16,
     "metadata": {},
     "output_type": "execute_result"
    }
   ],
   "source": [
    "# number of different orgs\n",
    "query = \"select count(distinct org) from mybinderlaunch;\"\n",
    "db.conn.execute(query).fetchone()[0]"
   ]
  },
  {
   "cell_type": "code",
   "execution_count": null,
   "metadata": {},
   "outputs": [],
   "source": []
  }
 ],
 "metadata": {
  "kernelspec": {
   "display_name": "Python 3",
   "language": "python",
   "name": "python3"
  },
  "language_info": {
   "codemirror_mode": {
    "name": "ipython",
    "version": 3
   },
   "file_extension": ".py",
   "mimetype": "text/x-python",
   "name": "python",
   "nbconvert_exporter": "python",
   "pygments_lexer": "ipython3",
   "version": "3.7.8"
  },
  "toc": {
   "base_numbering": 1,
   "nav_menu": {},
   "number_sections": true,
   "sideBar": true,
   "skip_h1_title": false,
   "title_cell": "Table of Contents",
   "title_sidebar": "Contents",
   "toc_cell": false,
   "toc_position": {},
   "toc_section_display": true,
   "toc_window_display": true
  }
 },
 "nbformat": 4,
 "nbformat_minor": 4
}
