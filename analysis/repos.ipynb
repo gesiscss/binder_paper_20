{
 "cells": [
  {
   "cell_type": "markdown",
   "metadata": {},
   "source": [
    "## Repos"
   ]
  },
  {
   "cell_type": "code",
   "execution_count": 1,
   "metadata": {},
   "outputs": [],
   "source": [
    "%matplotlib inline\n",
    "import pandas as pd\n",
    "import matplotlib.pyplot as plt\n",
    "import seaborn as sns\n",
    "from sqlite_utils import Database\n",
    "\n",
    "sns.set(color_codes=True)"
   ]
  },
  {
   "cell_type": "code",
   "execution_count": 2,
   "metadata": {},
   "outputs": [],
   "source": [
    "db = Database(\"mybinder_archive.db\")"
   ]
  },
  {
   "cell_type": "code",
   "execution_count": 3,
   "metadata": {},
   "outputs": [
    {
     "data": {
      "text/plain": [
       "['mybinderlaunch', 'repo']"
      ]
     },
     "execution_count": 3,
     "metadata": {},
     "output_type": "execute_result"
    }
   ],
   "source": [
    "# get table names\n",
    "db.table_names()"
   ]
  },
  {
   "cell_type": "code",
   "execution_count": 4,
   "metadata": {},
   "outputs": [],
   "source": [
    "repo_table = 'repo'"
   ]
  },
  {
   "cell_type": "code",
   "execution_count": 5,
   "metadata": {},
   "outputs": [
    {
     "data": {
      "text/plain": [
       "{'id': int,\n",
       " 'remote_id': str,\n",
       " 'provider': str,\n",
       " 'repo_url': str,\n",
       " 'first_launch_ts': str,\n",
       " 'last_launch_ts': str,\n",
       " 'last_spec': str,\n",
       " 'ref': str,\n",
       " 'resolved_ref': str,\n",
       " 'resolved_date': str,\n",
       " 'resolved_ref_date': str,\n",
       " 'fork': int,\n",
       " 'renamed': int,\n",
       " 'launch_count': int,\n",
       " 'binder_dir': str,\n",
       " 'buildpack': str}"
      ]
     },
     "execution_count": 5,
     "metadata": {},
     "output_type": "execute_result"
    }
   ],
   "source": [
    "# db[repo_table].columns\n",
    "db[repo_table].columns_dict"
   ]
  },
  {
   "cell_type": "code",
   "execution_count": 6,
   "metadata": {},
   "outputs": [],
   "source": [
    "query = f'SELECT * FROM {repo_table} ORDER BY first_launch_ts;'\n",
    "repos = pd.read_sql_query(query, db.conn)\n",
    "# repos = repos[\n",
    "#     [\"id\", \"remote_id\", \"provider\", \"repo_url\", \n",
    "#      \"last_spec\", \"resolved_ref\", \"launch_count\", \n",
    "#      \"fork\",\"renamed\", \"launch_count\", \n",
    "#      \"binder_dir\", \"buildpack\", \"nbs_count\"]]"
   ]
  },
  {
   "cell_type": "code",
   "execution_count": 7,
   "metadata": {},
   "outputs": [],
   "source": [
    "# def make_clickable(val):\n",
    "#     return '<a target=\"_blank\" href=\"{}\">{}</a>'.format(val, val)"
   ]
  },
  {
   "cell_type": "code",
   "execution_count": 8,
   "metadata": {},
   "outputs": [],
   "source": [
    "# repos.style.format({'repo_url': make_clickable})"
   ]
  },
  {
   "cell_type": "code",
   "execution_count": 9,
   "metadata": {},
   "outputs": [
    {
     "data": {
      "text/plain": [
       "52949"
      ]
     },
     "execution_count": 9,
     "metadata": {},
     "output_type": "execute_result"
    }
   ],
   "source": [
    "len(repos)"
   ]
  },
  {
   "cell_type": "code",
   "execution_count": 10,
   "metadata": {
    "scrolled": true
   },
   "outputs": [
    {
     "data": {
      "text/html": [
       "<div>\n",
       "<style scoped>\n",
       "    .dataframe tbody tr th:only-of-type {\n",
       "        vertical-align: middle;\n",
       "    }\n",
       "\n",
       "    .dataframe tbody tr th {\n",
       "        vertical-align: top;\n",
       "    }\n",
       "\n",
       "    .dataframe thead th {\n",
       "        text-align: right;\n",
       "    }\n",
       "</style>\n",
       "<table border=\"1\" class=\"dataframe\">\n",
       "  <thead>\n",
       "    <tr style=\"text-align: right;\">\n",
       "      <th></th>\n",
       "      <th>id</th>\n",
       "      <th>remote_id</th>\n",
       "      <th>provider</th>\n",
       "      <th>repo_url</th>\n",
       "      <th>first_launch_ts</th>\n",
       "      <th>last_launch_ts</th>\n",
       "      <th>last_spec</th>\n",
       "      <th>ref</th>\n",
       "      <th>resolved_ref</th>\n",
       "      <th>resolved_date</th>\n",
       "      <th>resolved_ref_date</th>\n",
       "      <th>fork</th>\n",
       "      <th>renamed</th>\n",
       "      <th>launch_count</th>\n",
       "      <th>binder_dir</th>\n",
       "      <th>buildpack</th>\n",
       "    </tr>\n",
       "  </thead>\n",
       "  <tbody>\n",
       "    <tr>\n",
       "      <th>0</th>\n",
       "      <td>1</td>\n",
       "      <td>3641953</td>\n",
       "      <td>GitHub</td>\n",
       "      <td>https://github.com/ipython/ipython-in-depth</td>\n",
       "      <td>2018-11-03T00:00:00</td>\n",
       "      <td>2020-07-29T23:59:00</td>\n",
       "      <td>ipython/ipython-in-depth/master</td>\n",
       "      <td>master</td>\n",
       "      <td>7e5ce96cc9251083979efdfc393425f1229a4a68</td>\n",
       "      <td>2020-07-30T15:48:00</td>\n",
       "      <td>2019-04-22T15:12:08</td>\n",
       "      <td>0</td>\n",
       "      <td>0.0</td>\n",
       "      <td>3739537</td>\n",
       "      <td>binder</td>\n",
       "      <td>CondaBuildPack</td>\n",
       "    </tr>\n",
       "    <tr>\n",
       "      <th>1</th>\n",
       "      <td>2</td>\n",
       "      <td>99244384</td>\n",
       "      <td>GitHub</td>\n",
       "      <td>https://github.com/qiskit/qiskit-tutorial</td>\n",
       "      <td>2018-11-03T00:00:00</td>\n",
       "      <td>2020-07-27T08:31:00</td>\n",
       "      <td>QISKit/qiskit-tutorial/master</td>\n",
       "      <td>master</td>\n",
       "      <td>4c68381b725da201d938b9bd213b83eee4f5dc5e</td>\n",
       "      <td>2020-07-30T15:48:00</td>\n",
       "      <td>2020-07-27T20:01:02</td>\n",
       "      <td>0</td>\n",
       "      <td>2.0</td>\n",
       "      <td>22342</td>\n",
       "      <td></td>\n",
       "      <td>CondaBuildPack</td>\n",
       "    </tr>\n",
       "    <tr>\n",
       "      <th>2</th>\n",
       "      <td>3</td>\n",
       "      <td>None</td>\n",
       "      <td>GitHub</td>\n",
       "      <td>https://github.com/eniocsj/dados</td>\n",
       "      <td>2018-11-03T00:01:00</td>\n",
       "      <td>2018-11-14T12:15:00</td>\n",
       "      <td>eniocsj/dados/master</td>\n",
       "      <td>master</td>\n",
       "      <td>None</td>\n",
       "      <td>None</td>\n",
       "      <td>None</td>\n",
       "      <td>404</td>\n",
       "      <td>NaN</td>\n",
       "      <td>42</td>\n",
       "      <td>None</td>\n",
       "      <td>None</td>\n",
       "    </tr>\n",
       "    <tr>\n",
       "      <th>3</th>\n",
       "      <td>4</td>\n",
       "      <td>69698350</td>\n",
       "      <td>GitHub</td>\n",
       "      <td>https://github.com/jupyterlab/jupyterlab-demo</td>\n",
       "      <td>2018-11-03T00:01:00</td>\n",
       "      <td>2020-07-29T23:55:00</td>\n",
       "      <td>jupyterlab/jupyterlab-demo/try.jupyter.org</td>\n",
       "      <td>try.jupyter.org</td>\n",
       "      <td>71b616307dcb9cba18262d8e5fa46ad828ca51e4</td>\n",
       "      <td>2020-07-30T15:48:00</td>\n",
       "      <td>2019-07-10T17:08:41</td>\n",
       "      <td>0</td>\n",
       "      <td>0.0</td>\n",
       "      <td>1780442</td>\n",
       "      <td>binder</td>\n",
       "      <td>CondaBuildPack</td>\n",
       "    </tr>\n",
       "    <tr>\n",
       "      <th>4</th>\n",
       "      <td>5</td>\n",
       "      <td>21578345</td>\n",
       "      <td>GitHub</td>\n",
       "      <td>https://github.com/bokeh/bokeh-notebooks</td>\n",
       "      <td>2018-11-03T00:02:00</td>\n",
       "      <td>2020-07-29T23:48:00</td>\n",
       "      <td>bokeh/bokeh-notebooks/master</td>\n",
       "      <td>master</td>\n",
       "      <td>7b6da26945e284b19df07daecc6beabdb7adbe81</td>\n",
       "      <td>2020-07-30T15:48:00</td>\n",
       "      <td>2020-07-20T22:34:18</td>\n",
       "      <td>0</td>\n",
       "      <td>0.0</td>\n",
       "      <td>152590</td>\n",
       "      <td></td>\n",
       "      <td>CondaBuildPack</td>\n",
       "    </tr>\n",
       "  </tbody>\n",
       "</table>\n",
       "</div>"
      ],
      "text/plain": [
       "   id remote_id provider                                       repo_url  \\\n",
       "0   1   3641953   GitHub    https://github.com/ipython/ipython-in-depth   \n",
       "1   2  99244384   GitHub      https://github.com/qiskit/qiskit-tutorial   \n",
       "2   3      None   GitHub               https://github.com/eniocsj/dados   \n",
       "3   4  69698350   GitHub  https://github.com/jupyterlab/jupyterlab-demo   \n",
       "4   5  21578345   GitHub       https://github.com/bokeh/bokeh-notebooks   \n",
       "\n",
       "       first_launch_ts       last_launch_ts  \\\n",
       "0  2018-11-03T00:00:00  2020-07-29T23:59:00   \n",
       "1  2018-11-03T00:00:00  2020-07-27T08:31:00   \n",
       "2  2018-11-03T00:01:00  2018-11-14T12:15:00   \n",
       "3  2018-11-03T00:01:00  2020-07-29T23:55:00   \n",
       "4  2018-11-03T00:02:00  2020-07-29T23:48:00   \n",
       "\n",
       "                                    last_spec              ref  \\\n",
       "0             ipython/ipython-in-depth/master           master   \n",
       "1               QISKit/qiskit-tutorial/master           master   \n",
       "2                        eniocsj/dados/master           master   \n",
       "3  jupyterlab/jupyterlab-demo/try.jupyter.org  try.jupyter.org   \n",
       "4                bokeh/bokeh-notebooks/master           master   \n",
       "\n",
       "                               resolved_ref        resolved_date  \\\n",
       "0  7e5ce96cc9251083979efdfc393425f1229a4a68  2020-07-30T15:48:00   \n",
       "1  4c68381b725da201d938b9bd213b83eee4f5dc5e  2020-07-30T15:48:00   \n",
       "2                                      None                 None   \n",
       "3  71b616307dcb9cba18262d8e5fa46ad828ca51e4  2020-07-30T15:48:00   \n",
       "4  7b6da26945e284b19df07daecc6beabdb7adbe81  2020-07-30T15:48:00   \n",
       "\n",
       "     resolved_ref_date  fork  renamed  launch_count binder_dir       buildpack  \n",
       "0  2019-04-22T15:12:08     0      0.0       3739537     binder  CondaBuildPack  \n",
       "1  2020-07-27T20:01:02     0      2.0         22342             CondaBuildPack  \n",
       "2                 None   404      NaN            42       None            None  \n",
       "3  2019-07-10T17:08:41     0      0.0       1780442     binder  CondaBuildPack  \n",
       "4  2020-07-20T22:34:18     0      0.0        152590             CondaBuildPack  "
      ]
     },
     "execution_count": 10,
     "metadata": {},
     "output_type": "execute_result"
    }
   ],
   "source": [
    "repos.head()"
   ]
  },
  {
   "cell_type": "markdown",
   "metadata": {},
   "source": [
    "### Understanding repos table"
   ]
  },
  {
   "cell_type": "markdown",
   "metadata": {},
   "source": [
    "#### Forks"
   ]
  },
  {
   "cell_type": "code",
   "execution_count": 11,
   "metadata": {},
   "outputs": [
    {
     "data": {
      "text/plain": [
       "fork\n",
       "0      41958\n",
       "1       4875\n",
       "404     6114\n",
       "451        2\n",
       "dtype: int64"
      ]
     },
     "execution_count": 11,
     "metadata": {},
     "output_type": "execute_result"
    }
   ],
   "source": [
    "repos.fillna(-1).groupby(\"fork\").size()\n",
    "# query = f'select fork, count(*) from {repo_table} group by \"fork\";'\n",
    "# forks = pd.read_sql_query(query, db.conn)"
   ]
  },
  {
   "cell_type": "markdown",
   "metadata": {},
   "source": [
    "fork=404 means that repo doesnt exist anymore.\n",
    "\n",
    "now check those 2 repos which have fork as 451"
   ]
  },
  {
   "cell_type": "code",
   "execution_count": 12,
   "metadata": {},
   "outputs": [
    {
     "data": {
      "text/html": [
       "<div>\n",
       "<style scoped>\n",
       "    .dataframe tbody tr th:only-of-type {\n",
       "        vertical-align: middle;\n",
       "    }\n",
       "\n",
       "    .dataframe tbody tr th {\n",
       "        vertical-align: top;\n",
       "    }\n",
       "\n",
       "    .dataframe thead th {\n",
       "        text-align: right;\n",
       "    }\n",
       "</style>\n",
       "<table border=\"1\" class=\"dataframe\">\n",
       "  <thead>\n",
       "    <tr style=\"text-align: right;\">\n",
       "      <th></th>\n",
       "      <th>resolved_ref</th>\n",
       "      <th>repo_url</th>\n",
       "    </tr>\n",
       "  </thead>\n",
       "  <tbody>\n",
       "    <tr>\n",
       "      <th>16580</th>\n",
       "      <td>None</td>\n",
       "      <td>https://github.com/doublelabyrinth/mobaxterm-k...</td>\n",
       "    </tr>\n",
       "    <tr>\n",
       "      <th>25415</th>\n",
       "      <td>None</td>\n",
       "      <td>https://github.com/abhat222/data-science--chea...</td>\n",
       "    </tr>\n",
       "  </tbody>\n",
       "</table>\n",
       "</div>"
      ],
      "text/plain": [
       "      resolved_ref                                           repo_url\n",
       "16580         None  https://github.com/doublelabyrinth/mobaxterm-k...\n",
       "25415         None  https://github.com/abhat222/data-science--chea..."
      ]
     },
     "execution_count": 12,
     "metadata": {},
     "output_type": "execute_result"
    }
   ],
   "source": [
    "repos[repos[\"fork\"] == 451][[\"resolved_ref\", \"repo_url\"]]"
   ]
  },
  {
   "cell_type": "markdown",
   "metadata": {},
   "source": [
    "These 2 repos returns \"Repository access blocked\" (\"HTTP 451: Unavailable for Legal Reasons\")\n",
    "- https://github.com/doublelabyrinth/mobaxterm-keygen\n",
    "- https://github.com/abhat222/data-science--cheat-sheet"
   ]
  },
  {
   "cell_type": "code",
   "execution_count": 13,
   "metadata": {},
   "outputs": [
    {
     "data": {
      "text/plain": [
       "6116"
      ]
     },
     "execution_count": 13,
     "metadata": {},
     "output_type": "execute_result"
    }
   ],
   "source": [
    "len(repos[repos[\"fork\"].isin([404, 451])])"
   ]
  },
  {
   "cell_type": "code",
   "execution_count": 14,
   "metadata": {},
   "outputs": [
    {
     "data": {
      "text/plain": [
       "fork\n",
       "404    6114\n",
       "451       2\n",
       "dtype: int64"
      ]
     },
     "execution_count": 14,
     "metadata": {},
     "output_type": "execute_result"
    }
   ],
   "source": [
    "# if fork is 404, remote_id should be null (not available)\n",
    "repos[repos[\"remote_id\"].isnull()].fillna(-1).groupby(\"fork\", as_index = False).size()"
   ]
  },
  {
   "cell_type": "code",
   "execution_count": 15,
   "metadata": {},
   "outputs": [
    {
     "data": {
      "text/html": [
       "<div>\n",
       "<style scoped>\n",
       "    .dataframe tbody tr th:only-of-type {\n",
       "        vertical-align: middle;\n",
       "    }\n",
       "\n",
       "    .dataframe tbody tr th {\n",
       "        vertical-align: top;\n",
       "    }\n",
       "\n",
       "    .dataframe thead th {\n",
       "        text-align: right;\n",
       "    }\n",
       "</style>\n",
       "<table border=\"1\" class=\"dataframe\">\n",
       "  <thead>\n",
       "    <tr style=\"text-align: right;\">\n",
       "      <th></th>\n",
       "      <th>repo_url</th>\n",
       "      <th>remote_id</th>\n",
       "      <th>last_spec</th>\n",
       "      <th>ref</th>\n",
       "      <th>resolved_ref</th>\n",
       "      <th>resolved_date</th>\n",
       "      <th>resolved_ref_date</th>\n",
       "      <th>binder_dir</th>\n",
       "      <th>buildpack</th>\n",
       "    </tr>\n",
       "  </thead>\n",
       "  <tbody>\n",
       "    <tr>\n",
       "      <th>2</th>\n",
       "      <td>https://github.com/eniocsj/dados</td>\n",
       "      <td>None</td>\n",
       "      <td>eniocsj/dados/master</td>\n",
       "      <td>master</td>\n",
       "      <td>None</td>\n",
       "      <td>None</td>\n",
       "      <td>None</td>\n",
       "      <td>None</td>\n",
       "      <td>None</td>\n",
       "    </tr>\n",
       "    <tr>\n",
       "      <th>15</th>\n",
       "      <td>https://github.com/udm88/home_work_2</td>\n",
       "      <td>None</td>\n",
       "      <td>udm88/home_work_2/master</td>\n",
       "      <td>master</td>\n",
       "      <td>None</td>\n",
       "      <td>None</td>\n",
       "      <td>None</td>\n",
       "      <td>None</td>\n",
       "      <td>None</td>\n",
       "    </tr>\n",
       "    <tr>\n",
       "      <th>17</th>\n",
       "      <td>https://github.com/liviu-anita/calcul-numeric</td>\n",
       "      <td>None</td>\n",
       "      <td>liviu-anita/Calcul-Numeric/master</td>\n",
       "      <td>master</td>\n",
       "      <td>None</td>\n",
       "      <td>None</td>\n",
       "      <td>None</td>\n",
       "      <td>None</td>\n",
       "      <td>None</td>\n",
       "    </tr>\n",
       "    <tr>\n",
       "      <th>38</th>\n",
       "      <td>https://github.com/bengal-tiger/youcandothermo...</td>\n",
       "      <td>None</td>\n",
       "      <td>BENGAL-TIGER/YOUcanDoThermodynamics/master</td>\n",
       "      <td>master</td>\n",
       "      <td>None</td>\n",
       "      <td>None</td>\n",
       "      <td>None</td>\n",
       "      <td>None</td>\n",
       "      <td>None</td>\n",
       "    </tr>\n",
       "    <tr>\n",
       "      <th>39</th>\n",
       "      <td>https://github.com/marlohaering/se1-notebook</td>\n",
       "      <td>None</td>\n",
       "      <td>marlohaering/SE1-Notebook/master</td>\n",
       "      <td>master</td>\n",
       "      <td>None</td>\n",
       "      <td>None</td>\n",
       "      <td>None</td>\n",
       "      <td>None</td>\n",
       "      <td>None</td>\n",
       "    </tr>\n",
       "    <tr>\n",
       "      <th>...</th>\n",
       "      <td>...</td>\n",
       "      <td>...</td>\n",
       "      <td>...</td>\n",
       "      <td>...</td>\n",
       "      <td>...</td>\n",
       "      <td>...</td>\n",
       "      <td>...</td>\n",
       "      <td>...</td>\n",
       "      <td>...</td>\n",
       "    </tr>\n",
       "    <tr>\n",
       "      <th>52817</th>\n",
       "      <td>https://github.com/jan-janssen/fec-elastic-pyiron</td>\n",
       "      <td>None</td>\n",
       "      <td>jan-janssen/FeC-elastic-pyiron/master</td>\n",
       "      <td>master</td>\n",
       "      <td>None</td>\n",
       "      <td>None</td>\n",
       "      <td>None</td>\n",
       "      <td>None</td>\n",
       "      <td>None</td>\n",
       "    </tr>\n",
       "    <tr>\n",
       "      <th>52818</th>\n",
       "      <td>https://github.com/neutvd/swirrl-snapshot-test...</td>\n",
       "      <td>None</td>\n",
       "      <td>neutvd/swirrl-snapshot-test-c5aa2617.git/master</td>\n",
       "      <td>master</td>\n",
       "      <td>None</td>\n",
       "      <td>None</td>\n",
       "      <td>None</td>\n",
       "      <td>None</td>\n",
       "      <td>None</td>\n",
       "    </tr>\n",
       "    <tr>\n",
       "      <th>52822</th>\n",
       "      <td>https://github.com/swirrl-api/numpy-505-2d61714b</td>\n",
       "      <td>None</td>\n",
       "      <td>swirrl-api/numpy-505-2d61714b/master</td>\n",
       "      <td>master</td>\n",
       "      <td>None</td>\n",
       "      <td>None</td>\n",
       "      <td>None</td>\n",
       "      <td>None</td>\n",
       "      <td>None</td>\n",
       "    </tr>\n",
       "    <tr>\n",
       "      <th>52858</th>\n",
       "      <td>https://gist.github.com/williampolley/302cde1d...</td>\n",
       "      <td>None</td>\n",
       "      <td>williampolley/302cde1d5ee4bbb4c85677907a302f2c...</td>\n",
       "      <td>master</td>\n",
       "      <td>None</td>\n",
       "      <td>None</td>\n",
       "      <td>None</td>\n",
       "      <td>None</td>\n",
       "      <td>None</td>\n",
       "    </tr>\n",
       "    <tr>\n",
       "      <th>52880</th>\n",
       "      <td>https://github.com/neutvd/swirrl-snapshot-test...</td>\n",
       "      <td>None</td>\n",
       "      <td>neutvd/swirrl-snapshot-test-345956cc.git/master</td>\n",
       "      <td>master</td>\n",
       "      <td>None</td>\n",
       "      <td>None</td>\n",
       "      <td>None</td>\n",
       "      <td>None</td>\n",
       "      <td>None</td>\n",
       "    </tr>\n",
       "  </tbody>\n",
       "</table>\n",
       "<p>6116 rows × 9 columns</p>\n",
       "</div>"
      ],
      "text/plain": [
       "                                                repo_url remote_id  \\\n",
       "2                       https://github.com/eniocsj/dados      None   \n",
       "15                  https://github.com/udm88/home_work_2      None   \n",
       "17         https://github.com/liviu-anita/calcul-numeric      None   \n",
       "38     https://github.com/bengal-tiger/youcandothermo...      None   \n",
       "39          https://github.com/marlohaering/se1-notebook      None   \n",
       "...                                                  ...       ...   \n",
       "52817  https://github.com/jan-janssen/fec-elastic-pyiron      None   \n",
       "52818  https://github.com/neutvd/swirrl-snapshot-test...      None   \n",
       "52822   https://github.com/swirrl-api/numpy-505-2d61714b      None   \n",
       "52858  https://gist.github.com/williampolley/302cde1d...      None   \n",
       "52880  https://github.com/neutvd/swirrl-snapshot-test...      None   \n",
       "\n",
       "                                               last_spec     ref resolved_ref  \\\n",
       "2                                   eniocsj/dados/master  master         None   \n",
       "15                              udm88/home_work_2/master  master         None   \n",
       "17                     liviu-anita/Calcul-Numeric/master  master         None   \n",
       "38            BENGAL-TIGER/YOUcanDoThermodynamics/master  master         None   \n",
       "39                      marlohaering/SE1-Notebook/master  master         None   \n",
       "...                                                  ...     ...          ...   \n",
       "52817              jan-janssen/FeC-elastic-pyiron/master  master         None   \n",
       "52818    neutvd/swirrl-snapshot-test-c5aa2617.git/master  master         None   \n",
       "52822               swirrl-api/numpy-505-2d61714b/master  master         None   \n",
       "52858  williampolley/302cde1d5ee4bbb4c85677907a302f2c...  master         None   \n",
       "52880    neutvd/swirrl-snapshot-test-345956cc.git/master  master         None   \n",
       "\n",
       "      resolved_date resolved_ref_date binder_dir buildpack  \n",
       "2              None              None       None      None  \n",
       "15             None              None       None      None  \n",
       "17             None              None       None      None  \n",
       "38             None              None       None      None  \n",
       "39             None              None       None      None  \n",
       "...             ...               ...        ...       ...  \n",
       "52817          None              None       None      None  \n",
       "52818          None              None       None      None  \n",
       "52822          None              None       None      None  \n",
       "52858          None              None       None      None  \n",
       "52880          None              None       None      None  \n",
       "\n",
       "[6116 rows x 9 columns]"
      ]
     },
     "execution_count": 15,
     "metadata": {},
     "output_type": "execute_result"
    }
   ],
   "source": [
    "repos[repos[\"fork\"].isin([404, 451])][[\"repo_url\", \"remote_id\", \"last_spec\", \"ref\", \"resolved_ref\",\n",
    "                                   \"resolved_date\", \"resolved_ref_date\", \"binder_dir\", \n",
    "                                    \"buildpack\"]]"
   ]
  },
  {
   "cell_type": "markdown",
   "metadata": {},
   "source": [
    "#### Resolved refs\n",
    "\n",
    "`create_repo_table.py` fetches resolved ref of the last spec at the time that the script is running (resolved_date).\n",
    "`resolved_ref=\"404\"` means that the specs is not valid anymore."
   ]
  },
  {
   "cell_type": "code",
   "execution_count": 16,
   "metadata": {},
   "outputs": [
    {
     "data": {
      "text/html": [
       "<div>\n",
       "<style scoped>\n",
       "    .dataframe tbody tr th:only-of-type {\n",
       "        vertical-align: middle;\n",
       "    }\n",
       "\n",
       "    .dataframe tbody tr th {\n",
       "        vertical-align: top;\n",
       "    }\n",
       "\n",
       "    .dataframe thead th {\n",
       "        text-align: right;\n",
       "    }\n",
       "</style>\n",
       "<table border=\"1\" class=\"dataframe\">\n",
       "  <thead>\n",
       "    <tr style=\"text-align: right;\">\n",
       "      <th></th>\n",
       "      <th>repo_url</th>\n",
       "      <th>last_spec</th>\n",
       "      <th>ref</th>\n",
       "      <th>resolved_ref</th>\n",
       "      <th>fork</th>\n",
       "    </tr>\n",
       "  </thead>\n",
       "  <tbody>\n",
       "    <tr>\n",
       "      <th>0</th>\n",
       "      <td>https://github.com/ipython/ipython-in-depth</td>\n",
       "      <td>ipython/ipython-in-depth/master</td>\n",
       "      <td>master</td>\n",
       "      <td>7e5ce96cc9251083979efdfc393425f1229a4a68</td>\n",
       "      <td>0</td>\n",
       "    </tr>\n",
       "    <tr>\n",
       "      <th>1</th>\n",
       "      <td>https://github.com/qiskit/qiskit-tutorial</td>\n",
       "      <td>QISKit/qiskit-tutorial/master</td>\n",
       "      <td>master</td>\n",
       "      <td>4c68381b725da201d938b9bd213b83eee4f5dc5e</td>\n",
       "      <td>0</td>\n",
       "    </tr>\n",
       "    <tr>\n",
       "      <th>2</th>\n",
       "      <td>https://github.com/eniocsj/dados</td>\n",
       "      <td>eniocsj/dados/master</td>\n",
       "      <td>master</td>\n",
       "      <td>None</td>\n",
       "      <td>404</td>\n",
       "    </tr>\n",
       "    <tr>\n",
       "      <th>3</th>\n",
       "      <td>https://github.com/jupyterlab/jupyterlab-demo</td>\n",
       "      <td>jupyterlab/jupyterlab-demo/try.jupyter.org</td>\n",
       "      <td>try.jupyter.org</td>\n",
       "      <td>71b616307dcb9cba18262d8e5fa46ad828ca51e4</td>\n",
       "      <td>0</td>\n",
       "    </tr>\n",
       "    <tr>\n",
       "      <th>4</th>\n",
       "      <td>https://github.com/bokeh/bokeh-notebooks</td>\n",
       "      <td>bokeh/bokeh-notebooks/master</td>\n",
       "      <td>master</td>\n",
       "      <td>7b6da26945e284b19df07daecc6beabdb7adbe81</td>\n",
       "      <td>0</td>\n",
       "    </tr>\n",
       "    <tr>\n",
       "      <th>...</th>\n",
       "      <td>...</td>\n",
       "      <td>...</td>\n",
       "      <td>...</td>\n",
       "      <td>...</td>\n",
       "      <td>...</td>\n",
       "    </tr>\n",
       "    <tr>\n",
       "      <th>52944</th>\n",
       "      <td>https://github.com/lecampusazure/jupyter-noteb...</td>\n",
       "      <td>LeCampusAzure/jupyter-notebooks/master</td>\n",
       "      <td>master</td>\n",
       "      <td>1357b4e669f5251f9498ab46f77436c6e1d674ea</td>\n",
       "      <td>0</td>\n",
       "    </tr>\n",
       "    <tr>\n",
       "      <th>52945</th>\n",
       "      <td>https://github.com/gerrymanoim/jupyterlab</td>\n",
       "      <td>gerrymanoim/jupyterlab/master</td>\n",
       "      <td>master</td>\n",
       "      <td>52a55dca3318ff43f356f8e339c1fe809bb5619a</td>\n",
       "      <td>1</td>\n",
       "    </tr>\n",
       "    <tr>\n",
       "      <th>52946</th>\n",
       "      <td>https://github.com/fonsp/vscode-binder</td>\n",
       "      <td>fonsp/vscode-binder/master</td>\n",
       "      <td>master</td>\n",
       "      <td>08c6552663088e72478234c6758659df3bffb1ab</td>\n",
       "      <td>1</td>\n",
       "    </tr>\n",
       "    <tr>\n",
       "      <th>52947</th>\n",
       "      <td>https://github.com/tyronsamaroo/binder_notebooks</td>\n",
       "      <td>TyronSamaroo/binder_notebooks/master</td>\n",
       "      <td>master</td>\n",
       "      <td>a57b6b9aa53be5a3bc99eaf46e043b98b482e2f2</td>\n",
       "      <td>0</td>\n",
       "    </tr>\n",
       "    <tr>\n",
       "      <th>52948</th>\n",
       "      <td>https://github.com/thedatasociety/lab-cassandra</td>\n",
       "      <td>thedatasociety/lab-cassandra/master</td>\n",
       "      <td>master</td>\n",
       "      <td>d4a8d465a2c1a360d7059b4f11fa0b1e166b75fb</td>\n",
       "      <td>0</td>\n",
       "    </tr>\n",
       "  </tbody>\n",
       "</table>\n",
       "<p>52949 rows × 5 columns</p>\n",
       "</div>"
      ],
      "text/plain": [
       "                                                repo_url  \\\n",
       "0            https://github.com/ipython/ipython-in-depth   \n",
       "1              https://github.com/qiskit/qiskit-tutorial   \n",
       "2                       https://github.com/eniocsj/dados   \n",
       "3          https://github.com/jupyterlab/jupyterlab-demo   \n",
       "4               https://github.com/bokeh/bokeh-notebooks   \n",
       "...                                                  ...   \n",
       "52944  https://github.com/lecampusazure/jupyter-noteb...   \n",
       "52945          https://github.com/gerrymanoim/jupyterlab   \n",
       "52946             https://github.com/fonsp/vscode-binder   \n",
       "52947   https://github.com/tyronsamaroo/binder_notebooks   \n",
       "52948    https://github.com/thedatasociety/lab-cassandra   \n",
       "\n",
       "                                        last_spec              ref  \\\n",
       "0                 ipython/ipython-in-depth/master           master   \n",
       "1                   QISKit/qiskit-tutorial/master           master   \n",
       "2                            eniocsj/dados/master           master   \n",
       "3      jupyterlab/jupyterlab-demo/try.jupyter.org  try.jupyter.org   \n",
       "4                    bokeh/bokeh-notebooks/master           master   \n",
       "...                                           ...              ...   \n",
       "52944      LeCampusAzure/jupyter-notebooks/master           master   \n",
       "52945               gerrymanoim/jupyterlab/master           master   \n",
       "52946                  fonsp/vscode-binder/master           master   \n",
       "52947        TyronSamaroo/binder_notebooks/master           master   \n",
       "52948         thedatasociety/lab-cassandra/master           master   \n",
       "\n",
       "                                   resolved_ref  fork  \n",
       "0      7e5ce96cc9251083979efdfc393425f1229a4a68     0  \n",
       "1      4c68381b725da201d938b9bd213b83eee4f5dc5e     0  \n",
       "2                                          None   404  \n",
       "3      71b616307dcb9cba18262d8e5fa46ad828ca51e4     0  \n",
       "4      7b6da26945e284b19df07daecc6beabdb7adbe81     0  \n",
       "...                                         ...   ...  \n",
       "52944  1357b4e669f5251f9498ab46f77436c6e1d674ea     0  \n",
       "52945  52a55dca3318ff43f356f8e339c1fe809bb5619a     1  \n",
       "52946  08c6552663088e72478234c6758659df3bffb1ab     1  \n",
       "52947  a57b6b9aa53be5a3bc99eaf46e043b98b482e2f2     0  \n",
       "52948  d4a8d465a2c1a360d7059b4f11fa0b1e166b75fb     0  \n",
       "\n",
       "[52949 rows x 5 columns]"
      ]
     },
     "execution_count": 16,
     "metadata": {},
     "output_type": "execute_result"
    }
   ],
   "source": [
    "repos[[\"repo_url\", \"last_spec\", \"ref\", \"resolved_ref\", \"fork\"]]"
   ]
  },
  {
   "cell_type": "code",
   "execution_count": 17,
   "metadata": {},
   "outputs": [
    {
     "data": {
      "text/plain": [
       "6467"
      ]
     },
     "execution_count": 17,
     "metadata": {},
     "output_type": "execute_result"
    }
   ],
   "source": [
    "len(repos[repos[\"resolved_ref\"].isnull() |  (repos[\"resolved_ref\"] == \"404\")])"
   ]
  },
  {
   "cell_type": "markdown",
   "metadata": {},
   "source": [
    "resolved ref is null, if fork is 404 or 451"
   ]
  },
  {
   "cell_type": "code",
   "execution_count": 18,
   "metadata": {},
   "outputs": [
    {
     "name": "stdout",
     "output_type": "stream",
     "text": [
      "6123\n",
      "6116\n"
     ]
    }
   ],
   "source": [
    "print(len(repos[repos[\"resolved_ref\"].isnull()]))\n",
    "print(len(repos[repos[\"resolved_ref\"].isnull() & repos[\"fork\"].isin([404, 451])]))"
   ]
  },
  {
   "cell_type": "markdown",
   "metadata": {},
   "source": [
    "These 7 repos exist but had error while getting the resolved ref info:\n",
    "\n",
    "- https://github.com/twbs/bootstrap : \n",
    "```\n",
    "Exception: ['git', 'checkout', 'gh-pages']: error: Your local changes to the following files would be overwritten by checkout:\n",
    "...\n",
    "Please, commit your changes or stash them before you can switch branches.\n",
    "```\n",
    "- https://github.com/lakarstens/controllingcontaminants16s:\n",
    "```\n",
    "Exception: ['git', 'clone', 'https://github.com/lakarstens/controllingcontaminants16s', '/tmp/tmplvvc0_ux']: Cloning into '/tmp/tmplvvc0_ux'...\n",
    "error: Invalid path '.git:info:exclude'\n",
    "fatal: unable to checkout working tree\n",
    "warning: Clone succeeded, but checkout failed.\n",
    "You can inspect what was checked out with 'git status'\n",
    "and retry the checkout with 'git checkout -f HEAD'\n",
    "```\n",
    "- https://github.com/noahgriff99/320-final-project: \n",
    "```\n",
    "Exception: ['git', 'checkout', '925075b4aec9bf4f2329bd60e6d5fd5fbc8c2bd3']: error: Your local changes to the following files would be overwritten by checkout:\n",
    "\tBillboardNSpotify.html\n",
    "\tindex.html\n",
    "\tindex.html.html\n",
    "Please, commit your changes or stash them before you can switch branches.\n",
    "```\n",
    "- https://gist.github.com/vb16/0827905b1e8f4a0a76ff: \n",
    "```\n",
    "Exception: ['git', 'clone', 'https://gist.github.com/vb16/0827905b1e8f4a0a76ff', '/tmp/tmp2amqsj1u']: Cloning into '/tmp/tmp2amqsj1u'...\n",
    "fatal: could not read Username for 'https://gist.github.com': terminal prompts disabled\n",
    "```\n",
    "- https://github.com/koldanya/water:\n",
    "```\n",
    "Exception: ['git', 'checkout', '96b97b2ec30213b29ee602c76f14ea515fbd97a4']: error: Your local changes to the following files would be overwritten by checkout:\n",
    "\tREADME.md\n",
    "Please, commit your changes or stash them before you can switch branches.\n",
    "```\n",
    "- https://github.com/dsyme/diffsharp:\n",
    "```\n",
    "Exception: ['git', 'checkout', 'gh-pages']: error: Your local changes to the following files would be overwritten by checkout:\n",
    "        DiffSharp.sln\n",
    "        src/DiffSharp.Core/Tensor.fs\n",
    "```\n",
    "- https://github.com/1-2-3-4-5ggg/melnikov.zhuravlev:\n",
    "```\n",
    "Exception: ['git', 'checkout', 'Titanic']: error: Your local changes to the following files would be overwritten by checkout:\n",
    "        titanic-machine-learning-from-disaster.html\n",
    "```"
   ]
  },
  {
   "cell_type": "code",
   "execution_count": null,
   "metadata": {},
   "outputs": [],
   "source": []
  },
  {
   "cell_type": "markdown",
   "metadata": {},
   "source": [
    "Some repos exists but resolved_ref of their spec doesn't\n",
    "\n",
    "TODO what are reasons for this?\n",
    "1. spec is not valid anymore, e.g. branch is deleted"
   ]
  },
  {
   "cell_type": "code",
   "execution_count": 19,
   "metadata": {},
   "outputs": [
    {
     "data": {
      "text/plain": [
       "344"
      ]
     },
     "execution_count": 19,
     "metadata": {},
     "output_type": "execute_result"
    }
   ],
   "source": [
    "len(repos[repos[\"resolved_ref\"] == \"404\"])"
   ]
  },
  {
   "cell_type": "code",
   "execution_count": 20,
   "metadata": {
    "scrolled": false
   },
   "outputs": [
    {
     "data": {
      "text/html": [
       "<div>\n",
       "<style scoped>\n",
       "    .dataframe tbody tr th:only-of-type {\n",
       "        vertical-align: middle;\n",
       "    }\n",
       "\n",
       "    .dataframe tbody tr th {\n",
       "        vertical-align: top;\n",
       "    }\n",
       "\n",
       "    .dataframe thead th {\n",
       "        text-align: right;\n",
       "    }\n",
       "</style>\n",
       "<table border=\"1\" class=\"dataframe\">\n",
       "  <thead>\n",
       "    <tr style=\"text-align: right;\">\n",
       "      <th></th>\n",
       "      <th>repo_url</th>\n",
       "      <th>last_spec</th>\n",
       "      <th>ref</th>\n",
       "      <th>resolved_ref</th>\n",
       "      <th>resolved_date</th>\n",
       "      <th>resolved_ref_date</th>\n",
       "      <th>binder_dir</th>\n",
       "      <th>buildpack</th>\n",
       "    </tr>\n",
       "  </thead>\n",
       "  <tbody>\n",
       "    <tr>\n",
       "      <th>70</th>\n",
       "      <td>https://github.com/delsim/jupyter-plotly-dash</td>\n",
       "      <td>delsim/jupyter-plotly-dash/messaging</td>\n",
       "      <td>messaging</td>\n",
       "      <td>404</td>\n",
       "      <td>2020-07-30T15:48:00</td>\n",
       "      <td>None</td>\n",
       "      <td>None</td>\n",
       "      <td>None</td>\n",
       "    </tr>\n",
       "    <tr>\n",
       "      <th>87</th>\n",
       "      <td>https://github.com/jiaweizhuang/geoschem-pytho...</td>\n",
       "      <td>JiaweiZhuang/GEOSChem-python-tutorial/master</td>\n",
       "      <td>master</td>\n",
       "      <td>404</td>\n",
       "      <td>2020-07-30T15:48:00</td>\n",
       "      <td>None</td>\n",
       "      <td>None</td>\n",
       "      <td>None</td>\n",
       "    </tr>\n",
       "    <tr>\n",
       "      <th>270</th>\n",
       "      <td>https://github.com/jhamman/dask-examples</td>\n",
       "      <td>jhamman/dask-examples/xarray</td>\n",
       "      <td>xarray</td>\n",
       "      <td>404</td>\n",
       "      <td>2020-07-30T15:51:00</td>\n",
       "      <td>None</td>\n",
       "      <td>None</td>\n",
       "      <td>None</td>\n",
       "    </tr>\n",
       "    <tr>\n",
       "      <th>455</th>\n",
       "      <td>https://github.com/pymlvizard/mlpyviz</td>\n",
       "      <td>PyMLVizard/MLPyViz/develop_GD</td>\n",
       "      <td>develop_GD</td>\n",
       "      <td>404</td>\n",
       "      <td>2020-07-30T15:54:00</td>\n",
       "      <td>None</td>\n",
       "      <td>None</td>\n",
       "      <td>None</td>\n",
       "    </tr>\n",
       "    <tr>\n",
       "      <th>785</th>\n",
       "      <td>https://github.com/binderhub-ci-repos/requirem...</td>\n",
       "      <td>binderhub-ci-repos/requirements/1596022820.958...</td>\n",
       "      <td>1596022820.9587471</td>\n",
       "      <td>404</td>\n",
       "      <td>2020-07-30T15:57:00</td>\n",
       "      <td>None</td>\n",
       "      <td>None</td>\n",
       "      <td>None</td>\n",
       "    </tr>\n",
       "    <tr>\n",
       "      <th>...</th>\n",
       "      <td>...</td>\n",
       "      <td>...</td>\n",
       "      <td>...</td>\n",
       "      <td>...</td>\n",
       "      <td>...</td>\n",
       "      <td>...</td>\n",
       "      <td>...</td>\n",
       "      <td>...</td>\n",
       "    </tr>\n",
       "    <tr>\n",
       "      <th>52315</th>\n",
       "      <td>https://github.com/jgwerner/julia</td>\n",
       "      <td>jgwerner/julia/feat/update-packages</td>\n",
       "      <td>feat/update-packages</td>\n",
       "      <td>404</td>\n",
       "      <td>2020-07-31T07:05:00</td>\n",
       "      <td>None</td>\n",
       "      <td>None</td>\n",
       "      <td>None</td>\n",
       "    </tr>\n",
       "    <tr>\n",
       "      <th>52504</th>\n",
       "      <td>https://github.com/zuphilip/artikel-vorlage</td>\n",
       "      <td>zuphilip/artikel-vorlage/make</td>\n",
       "      <td>make</td>\n",
       "      <td>404</td>\n",
       "      <td>2020-07-31T07:06:00</td>\n",
       "      <td>None</td>\n",
       "      <td>None</td>\n",
       "      <td>None</td>\n",
       "    </tr>\n",
       "    <tr>\n",
       "      <th>52555</th>\n",
       "      <td>https://github.com/obar1/books</td>\n",
       "      <td>obar1/books/book/9781449359034</td>\n",
       "      <td>book/9781449359034</td>\n",
       "      <td>404</td>\n",
       "      <td>2020-07-31T07:06:00</td>\n",
       "      <td>None</td>\n",
       "      <td>None</td>\n",
       "      <td>None</td>\n",
       "    </tr>\n",
       "    <tr>\n",
       "      <th>52639</th>\n",
       "      <td>https://github.com/ccordoba12/spyder</td>\n",
       "      <td>ccordoba12/spyder/improve-binder</td>\n",
       "      <td>improve-binder</td>\n",
       "      <td>404</td>\n",
       "      <td>2020-07-31T07:07:00</td>\n",
       "      <td>None</td>\n",
       "      <td>None</td>\n",
       "      <td>None</td>\n",
       "    </tr>\n",
       "    <tr>\n",
       "      <th>52695</th>\n",
       "      <td>https://github.com/thmasker/dante</td>\n",
       "      <td>thmasker/DAntE/dev</td>\n",
       "      <td>dev</td>\n",
       "      <td>404</td>\n",
       "      <td>2020-07-31T07:07:00</td>\n",
       "      <td>None</td>\n",
       "      <td>None</td>\n",
       "      <td>None</td>\n",
       "    </tr>\n",
       "  </tbody>\n",
       "</table>\n",
       "<p>344 rows × 8 columns</p>\n",
       "</div>"
      ],
      "text/plain": [
       "                                                repo_url  \\\n",
       "70         https://github.com/delsim/jupyter-plotly-dash   \n",
       "87     https://github.com/jiaweizhuang/geoschem-pytho...   \n",
       "270             https://github.com/jhamman/dask-examples   \n",
       "455                https://github.com/pymlvizard/mlpyviz   \n",
       "785    https://github.com/binderhub-ci-repos/requirem...   \n",
       "...                                                  ...   \n",
       "52315                  https://github.com/jgwerner/julia   \n",
       "52504        https://github.com/zuphilip/artikel-vorlage   \n",
       "52555                     https://github.com/obar1/books   \n",
       "52639               https://github.com/ccordoba12/spyder   \n",
       "52695                  https://github.com/thmasker/dante   \n",
       "\n",
       "                                               last_spec  \\\n",
       "70                  delsim/jupyter-plotly-dash/messaging   \n",
       "87          JiaweiZhuang/GEOSChem-python-tutorial/master   \n",
       "270                         jhamman/dask-examples/xarray   \n",
       "455                        PyMLVizard/MLPyViz/develop_GD   \n",
       "785    binderhub-ci-repos/requirements/1596022820.958...   \n",
       "...                                                  ...   \n",
       "52315                jgwerner/julia/feat/update-packages   \n",
       "52504                      zuphilip/artikel-vorlage/make   \n",
       "52555                     obar1/books/book/9781449359034   \n",
       "52639                   ccordoba12/spyder/improve-binder   \n",
       "52695                                 thmasker/DAntE/dev   \n",
       "\n",
       "                        ref resolved_ref        resolved_date  \\\n",
       "70                messaging          404  2020-07-30T15:48:00   \n",
       "87                   master          404  2020-07-30T15:48:00   \n",
       "270                  xarray          404  2020-07-30T15:51:00   \n",
       "455              develop_GD          404  2020-07-30T15:54:00   \n",
       "785      1596022820.9587471          404  2020-07-30T15:57:00   \n",
       "...                     ...          ...                  ...   \n",
       "52315  feat/update-packages          404  2020-07-31T07:05:00   \n",
       "52504                  make          404  2020-07-31T07:06:00   \n",
       "52555    book/9781449359034          404  2020-07-31T07:06:00   \n",
       "52639        improve-binder          404  2020-07-31T07:07:00   \n",
       "52695                   dev          404  2020-07-31T07:07:00   \n",
       "\n",
       "      resolved_ref_date binder_dir buildpack  \n",
       "70                 None       None      None  \n",
       "87                 None       None      None  \n",
       "270                None       None      None  \n",
       "455                None       None      None  \n",
       "785                None       None      None  \n",
       "...                 ...        ...       ...  \n",
       "52315              None       None      None  \n",
       "52504              None       None      None  \n",
       "52555              None       None      None  \n",
       "52639              None       None      None  \n",
       "52695              None       None      None  \n",
       "\n",
       "[344 rows x 8 columns]"
      ]
     },
     "execution_count": 20,
     "metadata": {},
     "output_type": "execute_result"
    }
   ],
   "source": [
    "# select fork, remote_id, last_spec, resolved_ref,refs,repo_url from repo where resolved_ref=404 and fork!=404;\n",
    "repos[(repos[\"resolved_ref\"] == \"404\") & \n",
    "      (repos[\"fork\"].isin([0,1]))][[\"repo_url\", \"last_spec\", \"ref\", \"resolved_ref\",\n",
    "                                   \"resolved_date\", \"resolved_ref_date\", \"binder_dir\", \n",
    "                                    \"buildpack\"]]"
   ]
  },
  {
   "cell_type": "markdown",
   "metadata": {},
   "source": [
    "There are repos that have same resolved ref but have different remote ids.\n",
    "\n",
    "One reason could be that a user creates a new repo with history of another repo (without using github forking)"
   ]
  },
  {
   "cell_type": "code",
   "execution_count": 21,
   "metadata": {
    "scrolled": true
   },
   "outputs": [
    {
     "data": {
      "text/html": [
       "<div>\n",
       "<style scoped>\n",
       "    .dataframe tbody tr th:only-of-type {\n",
       "        vertical-align: middle;\n",
       "    }\n",
       "\n",
       "    .dataframe tbody tr th {\n",
       "        vertical-align: top;\n",
       "    }\n",
       "\n",
       "    .dataframe thead th {\n",
       "        text-align: right;\n",
       "    }\n",
       "</style>\n",
       "<table border=\"1\" class=\"dataframe\">\n",
       "  <thead>\n",
       "    <tr style=\"text-align: right;\">\n",
       "      <th></th>\n",
       "      <th>fork</th>\n",
       "      <th>renamed</th>\n",
       "      <th>rr_count</th>\n",
       "      <th>resolved_ref</th>\n",
       "      <th>repo_urls</th>\n",
       "    </tr>\n",
       "  </thead>\n",
       "  <tbody>\n",
       "    <tr>\n",
       "      <th>0</th>\n",
       "      <td>0</td>\n",
       "      <td>0</td>\n",
       "      <td>2</td>\n",
       "      <td>051d6dc57f10b605485bea0c3565130eaf064ec8</td>\n",
       "      <td>https://github.com/data-8/materials-su18,https...</td>\n",
       "    </tr>\n",
       "    <tr>\n",
       "      <th>1</th>\n",
       "      <td>0</td>\n",
       "      <td>0</td>\n",
       "      <td>2</td>\n",
       "      <td>13b1be597a25a1ce3c99e0aa3e714514b515346f</td>\n",
       "      <td>https://github.com/teaglesj/queueing-theory,ht...</td>\n",
       "    </tr>\n",
       "    <tr>\n",
       "      <th>2</th>\n",
       "      <td>0</td>\n",
       "      <td>0</td>\n",
       "      <td>6</td>\n",
       "      <td>20095e168f0d76da5787f914684cc3b6a58ce660</td>\n",
       "      <td>https://github.com/wshuyi/demo-spacy-text-proc...</td>\n",
       "    </tr>\n",
       "    <tr>\n",
       "      <th>3</th>\n",
       "      <td>0</td>\n",
       "      <td>0</td>\n",
       "      <td>2</td>\n",
       "      <td>218183a0845ec89cd4d27e8f350ccdc595855d87</td>\n",
       "      <td>https://github.com/ines/course-starter-python,...</td>\n",
       "    </tr>\n",
       "    <tr>\n",
       "      <th>4</th>\n",
       "      <td>0</td>\n",
       "      <td>0</td>\n",
       "      <td>2</td>\n",
       "      <td>2d2668d3b9a54546c681bc27efbbc9b326af1ab1</td>\n",
       "      <td>https://github.com/deep-diver/smartwork-with-p...</td>\n",
       "    </tr>\n",
       "    <tr>\n",
       "      <th>5</th>\n",
       "      <td>0</td>\n",
       "      <td>0</td>\n",
       "      <td>2</td>\n",
       "      <td>34f27959e509527945e3f2dfa6996f5f43b93750</td>\n",
       "      <td>https://github.com/ines/course-starter-r,https...</td>\n",
       "    </tr>\n",
       "    <tr>\n",
       "      <th>6</th>\n",
       "      <td>0</td>\n",
       "      <td>0</td>\n",
       "      <td>4</td>\n",
       "      <td>36bc4827ea1b53afd099e79a91d73614a6116bfe</td>\n",
       "      <td>https://github.com/eminentspade/codingai-pub,h...</td>\n",
       "    </tr>\n",
       "    <tr>\n",
       "      <th>7</th>\n",
       "      <td>0</td>\n",
       "      <td>0</td>\n",
       "      <td>2</td>\n",
       "      <td>3a95d118f9df5a86826e1791c5c100817f0fd924</td>\n",
       "      <td>https://github.com/udacity/deep-learning-v2-py...</td>\n",
       "    </tr>\n",
       "    <tr>\n",
       "      <th>8</th>\n",
       "      <td>0</td>\n",
       "      <td>0</td>\n",
       "      <td>2</td>\n",
       "      <td>3d0c70ddaa5c63606a043aaca35b64f4272651e0</td>\n",
       "      <td>https://github.com/jason2249/section-8-a,https...</td>\n",
       "    </tr>\n",
       "    <tr>\n",
       "      <th>9</th>\n",
       "      <td>0</td>\n",
       "      <td>0</td>\n",
       "      <td>148</td>\n",
       "      <td>404</td>\n",
       "      <td>https://github.com/jiaweizhuang/geoschem-pytho...</td>\n",
       "    </tr>\n",
       "    <tr>\n",
       "      <th>10</th>\n",
       "      <td>0</td>\n",
       "      <td>0</td>\n",
       "      <td>2</td>\n",
       "      <td>407bbe93bbfd2d0a1e3bcd10e2571a61a55661aa</td>\n",
       "      <td>https://github.com/binder-examples/bokeh,https...</td>\n",
       "    </tr>\n",
       "    <tr>\n",
       "      <th>11</th>\n",
       "      <td>0</td>\n",
       "      <td>0</td>\n",
       "      <td>2</td>\n",
       "      <td>43541f4f7f0d41b7941bc2920c6cb95b3f1ae2d3</td>\n",
       "      <td>https://github.com/sungkeunlim/markjay4k,https...</td>\n",
       "    </tr>\n",
       "    <tr>\n",
       "      <th>12</th>\n",
       "      <td>0</td>\n",
       "      <td>0</td>\n",
       "      <td>2</td>\n",
       "      <td>43730859d5bc7441de486e8f66219a001e2e13a3</td>\n",
       "      <td>https://github.com/valquir/labaqua,https://git...</td>\n",
       "    </tr>\n",
       "    <tr>\n",
       "      <th>13</th>\n",
       "      <td>0</td>\n",
       "      <td>0</td>\n",
       "      <td>2</td>\n",
       "      <td>48d0455e138cc44c329ae92c486b8b5522c47b62</td>\n",
       "      <td>https://github.com/arokem/cnn,https://github.c...</td>\n",
       "    </tr>\n",
       "    <tr>\n",
       "      <th>14</th>\n",
       "      <td>0</td>\n",
       "      <td>0</td>\n",
       "      <td>2</td>\n",
       "      <td>50ebd1d9048dfbdc0cc010095a7e6fed086b0b9d</td>\n",
       "      <td>https://github.com/philot789/data_science_2,ht...</td>\n",
       "    </tr>\n",
       "    <tr>\n",
       "      <th>15</th>\n",
       "      <td>0</td>\n",
       "      <td>0</td>\n",
       "      <td>2</td>\n",
       "      <td>5a472b2aa70faf0adf4462358d9eaf3e67e8b665</td>\n",
       "      <td>https://github.com/jafar-khan/chexnet-classifi...</td>\n",
       "    </tr>\n",
       "    <tr>\n",
       "      <th>16</th>\n",
       "      <td>0</td>\n",
       "      <td>0</td>\n",
       "      <td>2</td>\n",
       "      <td>5a6e76179ad7c1facc7314900955b9410e1d58ed</td>\n",
       "      <td>https://github.com/rasbt/matplotlib-gallery,ht...</td>\n",
       "    </tr>\n",
       "    <tr>\n",
       "      <th>17</th>\n",
       "      <td>0</td>\n",
       "      <td>0</td>\n",
       "      <td>2</td>\n",
       "      <td>69f950d356a0d9372a619ea0fd90d8e03f1279b0</td>\n",
       "      <td>https://github.com/jmportilla/python-for-algor...</td>\n",
       "    </tr>\n",
       "    <tr>\n",
       "      <th>18</th>\n",
       "      <td>0</td>\n",
       "      <td>0</td>\n",
       "      <td>2</td>\n",
       "      <td>747c506eb978dd2986d34cecccf988b37eb10533</td>\n",
       "      <td>https://github.com/ug4/xeus-ug4,https://github...</td>\n",
       "    </tr>\n",
       "    <tr>\n",
       "      <th>19</th>\n",
       "      <td>0</td>\n",
       "      <td>0</td>\n",
       "      <td>2</td>\n",
       "      <td>8a30b90fed187aaddaaf1fc868ec8e0ac92bca40</td>\n",
       "      <td>https://github.com/fchollet/deep-learning-with...</td>\n",
       "    </tr>\n",
       "    <tr>\n",
       "      <th>20</th>\n",
       "      <td>0</td>\n",
       "      <td>0</td>\n",
       "      <td>2</td>\n",
       "      <td>997fdb2e2db67acd45d29ae418212463a54be06d</td>\n",
       "      <td>https://github.com/kulbear/deep-learning-cours...</td>\n",
       "    </tr>\n",
       "    <tr>\n",
       "      <th>21</th>\n",
       "      <td>0</td>\n",
       "      <td>0</td>\n",
       "      <td>3</td>\n",
       "      <td>ae97e2fb6eb11671016c3abf492d22a9fae743b0</td>\n",
       "      <td>https://github.com/steffens/conda,https://gith...</td>\n",
       "    </tr>\n",
       "    <tr>\n",
       "      <th>22</th>\n",
       "      <td>0</td>\n",
       "      <td>0</td>\n",
       "      <td>2</td>\n",
       "      <td>b1e1fa75ca6982f3170254d70c87be52d525d743</td>\n",
       "      <td>https://github.com/shubh-kr/machinelearningusi...</td>\n",
       "    </tr>\n",
       "    <tr>\n",
       "      <th>23</th>\n",
       "      <td>0</td>\n",
       "      <td>0</td>\n",
       "      <td>2</td>\n",
       "      <td>b33a43a49b29ac6d89f04675584fa6a6ed192750</td>\n",
       "      <td>https://github.com/geo-python-2018/exercise-1-...</td>\n",
       "    </tr>\n",
       "    <tr>\n",
       "      <th>24</th>\n",
       "      <td>0</td>\n",
       "      <td>0</td>\n",
       "      <td>2</td>\n",
       "      <td>bf06a6d12a02baea17a4e31fce954cf691c74392</td>\n",
       "      <td>https://github.com/justmarkham/pycon-2018-tuto...</td>\n",
       "    </tr>\n",
       "    <tr>\n",
       "      <th>25</th>\n",
       "      <td>0</td>\n",
       "      <td>0</td>\n",
       "      <td>3</td>\n",
       "      <td>c2407e5f71f48d23e029eb66d0beb366bcb0e3c9</td>\n",
       "      <td>https://github.com/savignesh/python-bootcamp,h...</td>\n",
       "    </tr>\n",
       "    <tr>\n",
       "      <th>26</th>\n",
       "      <td>0</td>\n",
       "      <td>0</td>\n",
       "      <td>2</td>\n",
       "      <td>dca67de2fe644ae68cc50d3baab067effa47f30e</td>\n",
       "      <td>https://github.com/tyarkoni/ssi2019,https://gi...</td>\n",
       "    </tr>\n",
       "    <tr>\n",
       "      <th>27</th>\n",
       "      <td>0</td>\n",
       "      <td>0</td>\n",
       "      <td>2</td>\n",
       "      <td>e2ffee0673e854492ddaa0d65609f2035f59dda5</td>\n",
       "      <td>https://github.com/dchaimow/columnsfmri,https:...</td>\n",
       "    </tr>\n",
       "    <tr>\n",
       "      <th>28</th>\n",
       "      <td>0</td>\n",
       "      <td>0</td>\n",
       "      <td>2</td>\n",
       "      <td>e31ba16f650e1a25c52842962af2d7c1ae772522</td>\n",
       "      <td>https://github.com/biof309/group-project-marie...</td>\n",
       "    </tr>\n",
       "    <tr>\n",
       "      <th>29</th>\n",
       "      <td>0</td>\n",
       "      <td>0</td>\n",
       "      <td>2</td>\n",
       "      <td>e8dd7fb8a10c3106754ee5adda16f7db33e65be8</td>\n",
       "      <td>https://github.com/taflong/bi393,https://githu...</td>\n",
       "    </tr>\n",
       "    <tr>\n",
       "      <th>30</th>\n",
       "      <td>0</td>\n",
       "      <td>0</td>\n",
       "      <td>2</td>\n",
       "      <td>ef75c7441c84552edc437cf54da061e57d4ccea8</td>\n",
       "      <td>https://github.com/fastai/bear_voila,https://g...</td>\n",
       "    </tr>\n",
       "    <tr>\n",
       "      <th>31</th>\n",
       "      <td>0</td>\n",
       "      <td>0</td>\n",
       "      <td>2</td>\n",
       "      <td>f4ae4357f9c750bdf402b8cd1f7c269306357c8a</td>\n",
       "      <td>https://github.com/dokturpjoter/test_1,https:/...</td>\n",
       "    </tr>\n",
       "    <tr>\n",
       "      <th>32</th>\n",
       "      <td>0</td>\n",
       "      <td>0</td>\n",
       "      <td>5</td>\n",
       "      <td>fd884086961ceb1a8b884c5dae3eda615c319ec6</td>\n",
       "      <td>https://github.com/eminentspade/codingai-pub1t...</td>\n",
       "    </tr>\n",
       "    <tr>\n",
       "      <th>33</th>\n",
       "      <td>0</td>\n",
       "      <td>0</td>\n",
       "      <td>2</td>\n",
       "      <td>fe9d730f31d950528b771ba5b7cf39de72cd8b1b</td>\n",
       "      <td>https://github.com/kisgyorgy/ai_learn,https://...</td>\n",
       "    </tr>\n",
       "  </tbody>\n",
       "</table>\n",
       "</div>"
      ],
      "text/plain": [
       "    fork  renamed  rr_count                              resolved_ref  \\\n",
       "0      0        0         2  051d6dc57f10b605485bea0c3565130eaf064ec8   \n",
       "1      0        0         2  13b1be597a25a1ce3c99e0aa3e714514b515346f   \n",
       "2      0        0         6  20095e168f0d76da5787f914684cc3b6a58ce660   \n",
       "3      0        0         2  218183a0845ec89cd4d27e8f350ccdc595855d87   \n",
       "4      0        0         2  2d2668d3b9a54546c681bc27efbbc9b326af1ab1   \n",
       "5      0        0         2  34f27959e509527945e3f2dfa6996f5f43b93750   \n",
       "6      0        0         4  36bc4827ea1b53afd099e79a91d73614a6116bfe   \n",
       "7      0        0         2  3a95d118f9df5a86826e1791c5c100817f0fd924   \n",
       "8      0        0         2  3d0c70ddaa5c63606a043aaca35b64f4272651e0   \n",
       "9      0        0       148                                       404   \n",
       "10     0        0         2  407bbe93bbfd2d0a1e3bcd10e2571a61a55661aa   \n",
       "11     0        0         2  43541f4f7f0d41b7941bc2920c6cb95b3f1ae2d3   \n",
       "12     0        0         2  43730859d5bc7441de486e8f66219a001e2e13a3   \n",
       "13     0        0         2  48d0455e138cc44c329ae92c486b8b5522c47b62   \n",
       "14     0        0         2  50ebd1d9048dfbdc0cc010095a7e6fed086b0b9d   \n",
       "15     0        0         2  5a472b2aa70faf0adf4462358d9eaf3e67e8b665   \n",
       "16     0        0         2  5a6e76179ad7c1facc7314900955b9410e1d58ed   \n",
       "17     0        0         2  69f950d356a0d9372a619ea0fd90d8e03f1279b0   \n",
       "18     0        0         2  747c506eb978dd2986d34cecccf988b37eb10533   \n",
       "19     0        0         2  8a30b90fed187aaddaaf1fc868ec8e0ac92bca40   \n",
       "20     0        0         2  997fdb2e2db67acd45d29ae418212463a54be06d   \n",
       "21     0        0         3  ae97e2fb6eb11671016c3abf492d22a9fae743b0   \n",
       "22     0        0         2  b1e1fa75ca6982f3170254d70c87be52d525d743   \n",
       "23     0        0         2  b33a43a49b29ac6d89f04675584fa6a6ed192750   \n",
       "24     0        0         2  bf06a6d12a02baea17a4e31fce954cf691c74392   \n",
       "25     0        0         3  c2407e5f71f48d23e029eb66d0beb366bcb0e3c9   \n",
       "26     0        0         2  dca67de2fe644ae68cc50d3baab067effa47f30e   \n",
       "27     0        0         2  e2ffee0673e854492ddaa0d65609f2035f59dda5   \n",
       "28     0        0         2  e31ba16f650e1a25c52842962af2d7c1ae772522   \n",
       "29     0        0         2  e8dd7fb8a10c3106754ee5adda16f7db33e65be8   \n",
       "30     0        0         2  ef75c7441c84552edc437cf54da061e57d4ccea8   \n",
       "31     0        0         2  f4ae4357f9c750bdf402b8cd1f7c269306357c8a   \n",
       "32     0        0         5  fd884086961ceb1a8b884c5dae3eda615c319ec6   \n",
       "33     0        0         2  fe9d730f31d950528b771ba5b7cf39de72cd8b1b   \n",
       "\n",
       "                                            repo_urls  \n",
       "0   https://github.com/data-8/materials-su18,https...  \n",
       "1   https://github.com/teaglesj/queueing-theory,ht...  \n",
       "2   https://github.com/wshuyi/demo-spacy-text-proc...  \n",
       "3   https://github.com/ines/course-starter-python,...  \n",
       "4   https://github.com/deep-diver/smartwork-with-p...  \n",
       "5   https://github.com/ines/course-starter-r,https...  \n",
       "6   https://github.com/eminentspade/codingai-pub,h...  \n",
       "7   https://github.com/udacity/deep-learning-v2-py...  \n",
       "8   https://github.com/jason2249/section-8-a,https...  \n",
       "9   https://github.com/jiaweizhuang/geoschem-pytho...  \n",
       "10  https://github.com/binder-examples/bokeh,https...  \n",
       "11  https://github.com/sungkeunlim/markjay4k,https...  \n",
       "12  https://github.com/valquir/labaqua,https://git...  \n",
       "13  https://github.com/arokem/cnn,https://github.c...  \n",
       "14  https://github.com/philot789/data_science_2,ht...  \n",
       "15  https://github.com/jafar-khan/chexnet-classifi...  \n",
       "16  https://github.com/rasbt/matplotlib-gallery,ht...  \n",
       "17  https://github.com/jmportilla/python-for-algor...  \n",
       "18  https://github.com/ug4/xeus-ug4,https://github...  \n",
       "19  https://github.com/fchollet/deep-learning-with...  \n",
       "20  https://github.com/kulbear/deep-learning-cours...  \n",
       "21  https://github.com/steffens/conda,https://gith...  \n",
       "22  https://github.com/shubh-kr/machinelearningusi...  \n",
       "23  https://github.com/geo-python-2018/exercise-1-...  \n",
       "24  https://github.com/justmarkham/pycon-2018-tuto...  \n",
       "25  https://github.com/savignesh/python-bootcamp,h...  \n",
       "26  https://github.com/tyarkoni/ssi2019,https://gi...  \n",
       "27  https://github.com/dchaimow/columnsfmri,https:...  \n",
       "28  https://github.com/biof309/group-project-marie...  \n",
       "29  https://github.com/taflong/bi393,https://githu...  \n",
       "30  https://github.com/fastai/bear_voila,https://g...  \n",
       "31  https://github.com/dokturpjoter/test_1,https:/...  \n",
       "32  https://github.com/eminentspade/codingai-pub1t...  \n",
       "33  https://github.com/kisgyorgy/ai_learn,https://...  "
      ]
     },
     "execution_count": 21,
     "metadata": {},
     "output_type": "execute_result"
    }
   ],
   "source": [
    "query = f'select fork, renamed, count(resolved_ref) as rr_count, resolved_ref, '\\\n",
    "                 f'GROUP_CONCAT(DISTINCT repo_url) AS repo_urls '\\\n",
    "        f'from {repo_table} '\\\n",
    "        f'where fork=0 AND renamed=0 '\\\n",
    "        f'group by \"resolved_ref\" '\\\n",
    "        f'having rr_count>1;'\n",
    "pd.read_sql_query(query, db.conn)\n",
    "# query = 'select fork, renamed, count(resolved_ref) as rrn_count, resolved_ref, GROUP_CONCAT(DISTINCT repo_url) AS repo_urls from repo where fork!=1 AND renamed!=1 group by \"resolved_ref\" having rrn_count>1;'\n",
    "# pd.read_sql_query(query, db.conn)"
   ]
  },
  {
   "cell_type": "markdown",
   "metadata": {},
   "source": [
    "#### Renamed repos\n",
    "If repo x is renamed to y, then both rows have same \"remote_id\" and have \"renamed\" as \"number of times that repo is renamed\""
   ]
  },
  {
   "cell_type": "code",
   "execution_count": 22,
   "metadata": {},
   "outputs": [
    {
     "data": {
      "text/plain": [
       "renamed\n",
       "-1.0     6116\n",
       " 0.0    44741\n",
       " 1.0     1912\n",
       " 2.0      168\n",
       " 3.0       12\n",
       "dtype: int64"
      ]
     },
     "execution_count": 22,
     "metadata": {},
     "output_type": "execute_result"
    }
   ],
   "source": [
    "repos.fillna(-1).groupby(\"renamed\").size()"
   ]
  },
  {
   "cell_type": "code",
   "execution_count": 23,
   "metadata": {},
   "outputs": [
    {
     "data": {
      "text/plain": [
       "fork\n",
       "404    6114\n",
       "451       2\n",
       "dtype: int64"
      ]
     },
     "execution_count": 23,
     "metadata": {},
     "output_type": "execute_result"
    }
   ],
   "source": [
    "# if renamed info is not available, this means repo doesnt exists\n",
    "repos[repos[\"renamed\"].isnull()].groupby(\"fork\", as_index = False).size()"
   ]
  },
  {
   "cell_type": "code",
   "execution_count": 24,
   "metadata": {},
   "outputs": [
    {
     "data": {
      "text/html": [
       "<div>\n",
       "<style scoped>\n",
       "    .dataframe tbody tr th:only-of-type {\n",
       "        vertical-align: middle;\n",
       "    }\n",
       "\n",
       "    .dataframe tbody tr th {\n",
       "        vertical-align: top;\n",
       "    }\n",
       "\n",
       "    .dataframe thead th {\n",
       "        text-align: right;\n",
       "    }\n",
       "</style>\n",
       "<table border=\"1\" class=\"dataframe\">\n",
       "  <thead>\n",
       "    <tr style=\"text-align: right;\">\n",
       "      <th></th>\n",
       "      <th>fork</th>\n",
       "      <th>renamed</th>\n",
       "      <th>remote_id</th>\n",
       "      <th>repo_urls</th>\n",
       "    </tr>\n",
       "  </thead>\n",
       "  <tbody>\n",
       "    <tr>\n",
       "      <th>0</th>\n",
       "      <td>0</td>\n",
       "      <td>1</td>\n",
       "      <td>102113664</td>\n",
       "      <td>https://github.com/eamonnmag/cern-csc-2018,htt...</td>\n",
       "    </tr>\n",
       "    <tr>\n",
       "      <th>1</th>\n",
       "      <td>0</td>\n",
       "      <td>1</td>\n",
       "      <td>102488943</td>\n",
       "      <td>https://github.com/belfasttechtraining/python-...</td>\n",
       "    </tr>\n",
       "    <tr>\n",
       "      <th>2</th>\n",
       "      <td>0</td>\n",
       "      <td>2</td>\n",
       "      <td>103228562</td>\n",
       "      <td>https://github.com/rambasnet/thinkpythonnotebo...</td>\n",
       "    </tr>\n",
       "    <tr>\n",
       "      <th>3</th>\n",
       "      <td>0</td>\n",
       "      <td>1</td>\n",
       "      <td>103370184</td>\n",
       "      <td>https://github.com/stklik/crest,https://github...</td>\n",
       "    </tr>\n",
       "    <tr>\n",
       "      <th>4</th>\n",
       "      <td>0</td>\n",
       "      <td>1</td>\n",
       "      <td>103943609</td>\n",
       "      <td>https://github.com/jordan-melendez/gsum,https:...</td>\n",
       "    </tr>\n",
       "    <tr>\n",
       "      <th>...</th>\n",
       "      <td>...</td>\n",
       "      <td>...</td>\n",
       "      <td>...</td>\n",
       "      <td>...</td>\n",
       "    </tr>\n",
       "    <tr>\n",
       "      <th>1010</th>\n",
       "      <td>0</td>\n",
       "      <td>1</td>\n",
       "      <td>98531561</td>\n",
       "      <td>https://github.com/quantstack/xwidgets,https:/...</td>\n",
       "    </tr>\n",
       "    <tr>\n",
       "      <th>1011</th>\n",
       "      <td>0</td>\n",
       "      <td>1</td>\n",
       "      <td>99154413</td>\n",
       "      <td>https://github.com/swyddfa/stylo,https://githu...</td>\n",
       "    </tr>\n",
       "    <tr>\n",
       "      <th>1012</th>\n",
       "      <td>0</td>\n",
       "      <td>2</td>\n",
       "      <td>99244384</td>\n",
       "      <td>https://github.com/qiskit/qiskit-tutorial,http...</td>\n",
       "    </tr>\n",
       "    <tr>\n",
       "      <th>1013</th>\n",
       "      <td>0</td>\n",
       "      <td>1</td>\n",
       "      <td>d47484ac43a964fcea6547f36a5fdaa0</td>\n",
       "      <td>https://gist.github.com/akuzmanoski/d47484ac43...</td>\n",
       "    </tr>\n",
       "    <tr>\n",
       "      <th>1014</th>\n",
       "      <td>0</td>\n",
       "      <td>1</td>\n",
       "      <td>f7dfbc33bf08158057a4e1517cdd4189</td>\n",
       "      <td>https://gist.github.com/rutuja027/f7dfbc33bf08...</td>\n",
       "    </tr>\n",
       "  </tbody>\n",
       "</table>\n",
       "<p>1015 rows × 4 columns</p>\n",
       "</div>"
      ],
      "text/plain": [
       "      fork  renamed                         remote_id  \\\n",
       "0        0        1                         102113664   \n",
       "1        0        1                         102488943   \n",
       "2        0        2                         103228562   \n",
       "3        0        1                         103370184   \n",
       "4        0        1                         103943609   \n",
       "...    ...      ...                               ...   \n",
       "1010     0        1                          98531561   \n",
       "1011     0        1                          99154413   \n",
       "1012     0        2                          99244384   \n",
       "1013     0        1  d47484ac43a964fcea6547f36a5fdaa0   \n",
       "1014     0        1  f7dfbc33bf08158057a4e1517cdd4189   \n",
       "\n",
       "                                              repo_urls  \n",
       "0     https://github.com/eamonnmag/cern-csc-2018,htt...  \n",
       "1     https://github.com/belfasttechtraining/python-...  \n",
       "2     https://github.com/rambasnet/thinkpythonnotebo...  \n",
       "3     https://github.com/stklik/crest,https://github...  \n",
       "4     https://github.com/jordan-melendez/gsum,https:...  \n",
       "...                                                 ...  \n",
       "1010  https://github.com/quantstack/xwidgets,https:/...  \n",
       "1011  https://github.com/swyddfa/stylo,https://githu...  \n",
       "1012  https://github.com/qiskit/qiskit-tutorial,http...  \n",
       "1013  https://gist.github.com/akuzmanoski/d47484ac43...  \n",
       "1014  https://gist.github.com/rutuja027/f7dfbc33bf08...  \n",
       "\n",
       "[1015 rows x 4 columns]"
      ]
     },
     "execution_count": 24,
     "metadata": {},
     "output_type": "execute_result"
    }
   ],
   "source": [
    "# list renamed repos\n",
    "query = 'select fork, renamed, remote_id, GROUP_CONCAT(DISTINCT repo_url) AS repo_urls from repo where renamed!=0 group by \"remote_id\";'\n",
    "pd.read_sql_query(query, db.conn)"
   ]
  },
  {
   "cell_type": "code",
   "execution_count": 25,
   "metadata": {},
   "outputs": [
    {
     "data": {
      "text/html": [
       "<div>\n",
       "<style scoped>\n",
       "    .dataframe tbody tr th:only-of-type {\n",
       "        vertical-align: middle;\n",
       "    }\n",
       "\n",
       "    .dataframe tbody tr th {\n",
       "        vertical-align: top;\n",
       "    }\n",
       "\n",
       "    .dataframe thead th {\n",
       "        text-align: right;\n",
       "    }\n",
       "</style>\n",
       "<table border=\"1\" class=\"dataframe\">\n",
       "  <thead>\n",
       "    <tr style=\"text-align: right;\">\n",
       "      <th></th>\n",
       "      <th>fork</th>\n",
       "      <th>renamed</th>\n",
       "      <th>remote_id</th>\n",
       "      <th>repo_url</th>\n",
       "    </tr>\n",
       "  </thead>\n",
       "  <tbody>\n",
       "    <tr>\n",
       "      <th>0</th>\n",
       "      <td>0</td>\n",
       "      <td>1.0</td>\n",
       "      <td>102113664</td>\n",
       "      <td>https://github.com/eamonnmag/cern-csc-2018,htt...</td>\n",
       "    </tr>\n",
       "    <tr>\n",
       "      <th>1</th>\n",
       "      <td>0</td>\n",
       "      <td>1.0</td>\n",
       "      <td>102488943</td>\n",
       "      <td>https://github.com/belfasttechtraining/python-...</td>\n",
       "    </tr>\n",
       "    <tr>\n",
       "      <th>2</th>\n",
       "      <td>0</td>\n",
       "      <td>1.0</td>\n",
       "      <td>103370184</td>\n",
       "      <td>https://github.com/stklik/crest,https://github...</td>\n",
       "    </tr>\n",
       "    <tr>\n",
       "      <th>3</th>\n",
       "      <td>0</td>\n",
       "      <td>1.0</td>\n",
       "      <td>103943609</td>\n",
       "      <td>https://github.com/jordan-melendez/gsum,https:...</td>\n",
       "    </tr>\n",
       "    <tr>\n",
       "      <th>4</th>\n",
       "      <td>0</td>\n",
       "      <td>1.0</td>\n",
       "      <td>104022893</td>\n",
       "      <td>https://github.com/moeshana/shana_php,https://...</td>\n",
       "    </tr>\n",
       "    <tr>\n",
       "      <th>...</th>\n",
       "      <td>...</td>\n",
       "      <td>...</td>\n",
       "      <td>...</td>\n",
       "      <td>...</td>\n",
       "    </tr>\n",
       "    <tr>\n",
       "      <th>1010</th>\n",
       "      <td>1</td>\n",
       "      <td>1.0</td>\n",
       "      <td>98225713</td>\n",
       "      <td>https://github.com/alleninstitute/multipatch_a...</td>\n",
       "    </tr>\n",
       "    <tr>\n",
       "      <th>1011</th>\n",
       "      <td>1</td>\n",
       "      <td>2.0</td>\n",
       "      <td>159360441</td>\n",
       "      <td>https://github.com/keckelt/python-tutorial-va2...</td>\n",
       "    </tr>\n",
       "    <tr>\n",
       "      <th>1012</th>\n",
       "      <td>1</td>\n",
       "      <td>2.0</td>\n",
       "      <td>171341996</td>\n",
       "      <td>https://github.com/astrobiomike/conda,https://...</td>\n",
       "    </tr>\n",
       "    <tr>\n",
       "      <th>1013</th>\n",
       "      <td>1</td>\n",
       "      <td>2.0</td>\n",
       "      <td>183420043</td>\n",
       "      <td>https://github.com/tsyshiu/python3,https://git...</td>\n",
       "    </tr>\n",
       "    <tr>\n",
       "      <th>1014</th>\n",
       "      <td>1</td>\n",
       "      <td>2.0</td>\n",
       "      <td>95946535</td>\n",
       "      <td>https://github.com/binder-examples/julia-pytho...</td>\n",
       "    </tr>\n",
       "  </tbody>\n",
       "</table>\n",
       "<p>1015 rows × 4 columns</p>\n",
       "</div>"
      ],
      "text/plain": [
       "      fork  renamed  remote_id  \\\n",
       "0        0      1.0  102113664   \n",
       "1        0      1.0  102488943   \n",
       "2        0      1.0  103370184   \n",
       "3        0      1.0  103943609   \n",
       "4        0      1.0  104022893   \n",
       "...    ...      ...        ...   \n",
       "1010     1      1.0   98225713   \n",
       "1011     1      2.0  159360441   \n",
       "1012     1      2.0  171341996   \n",
       "1013     1      2.0  183420043   \n",
       "1014     1      2.0   95946535   \n",
       "\n",
       "                                               repo_url  \n",
       "0     https://github.com/eamonnmag/cern-csc-2018,htt...  \n",
       "1     https://github.com/belfasttechtraining/python-...  \n",
       "2     https://github.com/stklik/crest,https://github...  \n",
       "3     https://github.com/jordan-melendez/gsum,https:...  \n",
       "4     https://github.com/moeshana/shana_php,https://...  \n",
       "...                                                 ...  \n",
       "1010  https://github.com/alleninstitute/multipatch_a...  \n",
       "1011  https://github.com/keckelt/python-tutorial-va2...  \n",
       "1012  https://github.com/astrobiomike/conda,https://...  \n",
       "1013  https://github.com/tsyshiu/python3,https://git...  \n",
       "1014  https://github.com/binder-examples/julia-pytho...  \n",
       "\n",
       "[1015 rows x 4 columns]"
      ]
     },
     "execution_count": 25,
     "metadata": {},
     "output_type": "execute_result"
    }
   ],
   "source": [
    "# list renamed repos (in pandas)\n",
    "repos[repos[\"renamed\"] != 0].\\\n",
    "    groupby([\"fork\", \"renamed\", \"remote_id\"])[\"repo_url\"].\\\n",
    "    apply(\",\".join).reset_index()"
   ]
  },
  {
   "cell_type": "markdown",
   "metadata": {},
   "source": [
    "### Number of repos"
   ]
  },
  {
   "cell_type": "code",
   "execution_count": 26,
   "metadata": {},
   "outputs": [
    {
     "data": {
      "text/plain": [
       "52949"
      ]
     },
     "execution_count": 26,
     "metadata": {},
     "output_type": "execute_result"
    }
   ],
   "source": [
    "# db[repo_table].count\n",
    "len(repos)"
   ]
  },
  {
   "cell_type": "markdown",
   "metadata": {},
   "source": [
    "### Number of unique repos"
   ]
  },
  {
   "cell_type": "code",
   "execution_count": 27,
   "metadata": {},
   "outputs": [
    {
     "data": {
      "text/plain": [
       "45756"
      ]
     },
     "execution_count": 27,
     "metadata": {},
     "output_type": "execute_result"
    }
   ],
   "source": [
    "# renamed repos have the same remote_id\n",
    "len(repos.groupby(\"remote_id\"))"
   ]
  },
  {
   "cell_type": "code",
   "execution_count": 28,
   "metadata": {},
   "outputs": [
    {
     "data": {
      "text/plain": [
       "(40943,)"
      ]
     },
     "execution_count": 28,
     "metadata": {},
     "output_type": "execute_result"
    }
   ],
   "source": [
    "# unique repos which are not fork\n",
    "query = f\"select count(*) from (select * from {repo_table} where remote_id is not null group by remote_id) where fork=0;\"\n",
    "db.conn.execute(query).fetchone()"
   ]
  },
  {
   "cell_type": "markdown",
   "metadata": {},
   "source": [
    "### Number of launches"
   ]
  },
  {
   "cell_type": "code",
   "execution_count": 29,
   "metadata": {
    "scrolled": true
   },
   "outputs": [
    {
     "data": {
      "text/plain": [
       "36809"
      ]
     },
     "execution_count": 29,
     "metadata": {},
     "output_type": "execute_result"
    }
   ],
   "source": [
    "len(repos[repos[\"launch_count\"] < 10])"
   ]
  },
  {
   "cell_type": "code",
   "execution_count": 30,
   "metadata": {},
   "outputs": [
    {
     "data": {
      "text/plain": [
       "16140"
      ]
     },
     "execution_count": 30,
     "metadata": {},
     "output_type": "execute_result"
    }
   ],
   "source": [
    "len(repos[repos[\"launch_count\"] >= 10])"
   ]
  },
  {
   "cell_type": "code",
   "execution_count": 31,
   "metadata": {},
   "outputs": [
    {
     "data": {
      "text/plain": [
       "14979"
      ]
     },
     "execution_count": 31,
     "metadata": {},
     "output_type": "execute_result"
    }
   ],
   "source": [
    "# repos that still exist with valid spec and launched at least 10 times\n",
    "repos_10 = repos[(~repos[\"fork\"].isin([404,451])) & \n",
    "          (~repos[\"resolved_ref\"].isnull()) & \n",
    "          (repos[\"resolved_ref\"] != \"404\") &\n",
    "         (repos[\"launch_count\"] >= 10)]\n",
    "len(repos_10)"
   ]
  },
  {
   "cell_type": "code",
   "execution_count": 32,
   "metadata": {},
   "outputs": [
    {
     "data": {
      "text/plain": [
       "buildpack\n",
       "CondaBuildPack                 4174\n",
       "DockerBuildPack                1222\n",
       "JuliaProjectTomlBuildPack       223\n",
       "JuliaRequireBuildPack            44\n",
       "LegacyBinderDockerBuildPack      79\n",
       "NixBuildPack                     11\n",
       "PipfileBuildPack                102\n",
       "PythonBuildPack                8431\n",
       "RBuildPack                      693\n",
       "dtype: int64"
      ]
     },
     "execution_count": 32,
     "metadata": {},
     "output_type": "execute_result"
    }
   ],
   "source": [
    "repos_10.fillna(-1).groupby(\"buildpack\").size()"
   ]
  },
  {
   "cell_type": "code",
   "execution_count": 33,
   "metadata": {},
   "outputs": [
    {
     "data": {
      "text/plain": [
       "array([[<AxesSubplot:title={'center':'launch_count'}>]], dtype=object)"
      ]
     },
     "execution_count": 33,
     "metadata": {},
     "output_type": "execute_result"
    },
    {
     "data": {
      "image/png": "[encoded data removed]",
      "text/plain": [
       "<Figure size 432x288 with 1 Axes>"
      ]
     },
     "metadata": {},
     "output_type": "display_data"
    }
   ],
   "source": [
    "repos_10_600 = repos_10[repos_10[\"launch_count\"] < 600]\n",
    "repos_10_600.hist(column=\"launch_count\", log=True)"
   ]
  },
  {
   "cell_type": "code",
   "execution_count": 34,
   "metadata": {},
   "outputs": [
    {
     "data": {
      "image/png": "[encoded data removed]",
      "text/plain": [
       "<Figure size 432x288 with 1 Axes>"
      ]
     },
     "metadata": {},
     "output_type": "display_data"
    }
   ],
   "source": [
    "sns.distplot(repos_10_600[\"launch_count\"]);"
   ]
  },
  {
   "cell_type": "markdown",
   "metadata": {},
   "source": [
    "### Buildpacks"
   ]
  },
  {
   "cell_type": "code",
   "execution_count": 35,
   "metadata": {},
   "outputs": [
    {
     "data": {
      "text/plain": [
       "buildpack\n",
       "-1                              6467\n",
       "CondaBuildPack                  7912\n",
       "DockerBuildPack                 2253\n",
       "JuliaProjectTomlBuildPack        464\n",
       "JuliaRequireBuildPack             89\n",
       "LegacyBinderDockerBuildPack      106\n",
       "NixBuildPack                      16\n",
       "PipfileBuildPack                 290\n",
       "PythonBuildPack                33937\n",
       "RBuildPack                      1415\n",
       "dtype: int64"
      ]
     },
     "execution_count": 35,
     "metadata": {},
     "output_type": "execute_result"
    }
   ],
   "source": [
    "repos.fillna(-1).groupby(\"buildpack\").size()"
   ]
  },
  {
   "cell_type": "markdown",
   "metadata": {},
   "source": [
    "### Binder dirs"
   ]
  },
  {
   "cell_type": "code",
   "execution_count": 36,
   "metadata": {
    "scrolled": true
   },
   "outputs": [
    {
     "data": {
      "text/plain": [
       "binder_dir\n",
       "-1          6467\n",
       "           42893\n",
       ".binder      459\n",
       "binder      3130\n",
       "dtype: int64"
      ]
     },
     "execution_count": 36,
     "metadata": {},
     "output_type": "execute_result"
    }
   ],
   "source": [
    "repos.fillna(-1).groupby(\"binder_dir\").size()"
   ]
  },
  {
   "cell_type": "code",
   "execution_count": null,
   "metadata": {},
   "outputs": [],
   "source": []
  }
 ],
 "metadata": {
  "kernelspec": {
   "display_name": "Python 3",
   "language": "python",
   "name": "python3"
  },
  "language_info": {
   "codemirror_mode": {
    "name": "ipython",
    "version": 3
   },
   "file_extension": ".py",
   "mimetype": "text/x-python",
   "name": "python",
   "nbconvert_exporter": "python",
   "pygments_lexer": "ipython3",
   "version": "3.7.8"
  },
  "toc": {
   "base_numbering": 1,
   "nav_menu": {},
   "number_sections": true,
   "sideBar": true,
   "skip_h1_title": false,
   "title_cell": "Table of Contents",
   "title_sidebar": "Contents",
   "toc_cell": false,
   "toc_position": {},
   "toc_section_display": true,
   "toc_window_display": true
  }
 },
 "nbformat": 4,
 "nbformat_minor": 4
}
