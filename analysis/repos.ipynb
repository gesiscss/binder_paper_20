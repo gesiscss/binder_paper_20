{
 "cells": [
  {
   "cell_type": "code",
   "execution_count": 1,
   "metadata": {},
   "outputs": [],
   "source": [
    "%matplotlib inline\n",
    "import pandas as pd\n",
    "import matplotlib.pyplot as plt\n",
    "import seaborn as sns\n",
    "from sqlite_utils import Database\n",
    "\n",
    "sns.set(color_codes=True)"
   ]
  },
  {
   "cell_type": "code",
   "execution_count": 2,
   "metadata": {},
   "outputs": [],
   "source": [
    "db = Database(\"mybinder_archive.db\")"
   ]
  },
  {
   "cell_type": "code",
   "execution_count": 3,
   "metadata": {},
   "outputs": [
    {
     "data": {
      "text/plain": [
       "['mybinderlaunch', 'repo', 'notebook']"
      ]
     },
     "execution_count": 3,
     "metadata": {},
     "output_type": "execute_result"
    }
   ],
   "source": [
    "# get table names\n",
    "db.table_names()"
   ]
  },
  {
   "cell_type": "code",
   "execution_count": 4,
   "metadata": {},
   "outputs": [],
   "source": [
    "repo_table = 'repo'\n",
    "notebook_table = 'notebook'"
   ]
  },
  {
   "cell_type": "code",
   "execution_count": 5,
   "metadata": {},
   "outputs": [
    {
     "data": {
      "text/plain": [
       "{'id': int,\n",
       " 'remote_id': str,\n",
       " 'provider': str,\n",
       " 'repo_url': str,\n",
       " 'first_launch_ts': str,\n",
       " 'last_launch_ts': str,\n",
       " 'last_spec': str,\n",
       " 'ref': str,\n",
       " 'resolved_ref': str,\n",
       " 'resolved_date': str,\n",
       " 'resolved_ref_date': str,\n",
       " 'fork': int,\n",
       " 'renamed': int,\n",
       " 'launch_count': int,\n",
       " 'binder_dir': str,\n",
       " 'buildpack': str,\n",
       " 'nbs_count': int}"
      ]
     },
     "execution_count": 5,
     "metadata": {},
     "output_type": "execute_result"
    }
   ],
   "source": [
    "# db[repo_table].columns\n",
    "db[repo_table].columns_dict"
   ]
  },
  {
   "cell_type": "code",
   "execution_count": 6,
   "metadata": {},
   "outputs": [
    {
     "data": {
      "text/plain": [
       "{'repo_id': int, 'nb_rel_path': str}"
      ]
     },
     "execution_count": 6,
     "metadata": {},
     "output_type": "execute_result"
    }
   ],
   "source": [
    "db[notebook_table].columns_dict"
   ]
  },
  {
   "cell_type": "code",
   "execution_count": 7,
   "metadata": {},
   "outputs": [],
   "source": [
    "query = f'SELECT * FROM {repo_table} ORDER BY first_launch_ts;'\n",
    "repos = pd.read_sql_query(query, db.conn)\n",
    "# repos = repos[\n",
    "#     [\"id\", \"remote_id\", \"provider\", \"repo_url\", \n",
    "#      \"last_spec\", \"resolved_ref\", \"launch_count\", \n",
    "#      \"fork\",\"renamed\", \"launch_count\", \n",
    "#      \"binder_dir\", \"buildpack\", \"nbs_count\"]]"
   ]
  },
  {
   "cell_type": "code",
   "execution_count": 8,
   "metadata": {},
   "outputs": [],
   "source": [
    "# def make_clickable(val):\n",
    "#     return '<a target=\"_blank\" href=\"{}\">{}</a>'.format(val, val)"
   ]
  },
  {
   "cell_type": "code",
   "execution_count": 9,
   "metadata": {},
   "outputs": [],
   "source": [
    "# repos.style.format({'repo_url': make_clickable})"
   ]
  },
  {
   "cell_type": "code",
   "execution_count": 10,
   "metadata": {},
   "outputs": [
    {
     "data": {
      "text/plain": [
       "52639"
      ]
     },
     "execution_count": 10,
     "metadata": {},
     "output_type": "execute_result"
    }
   ],
   "source": [
    "len(repos)"
   ]
  },
  {
   "cell_type": "code",
   "execution_count": 11,
   "metadata": {
    "scrolled": true
   },
   "outputs": [
    {
     "data": {
      "text/html": [
       "<div>\n",
       "<style scoped>\n",
       "    .dataframe tbody tr th:only-of-type {\n",
       "        vertical-align: middle;\n",
       "    }\n",
       "\n",
       "    .dataframe tbody tr th {\n",
       "        vertical-align: top;\n",
       "    }\n",
       "\n",
       "    .dataframe thead th {\n",
       "        text-align: right;\n",
       "    }\n",
       "</style>\n",
       "<table border=\"1\" class=\"dataframe\">\n",
       "  <thead>\n",
       "    <tr style=\"text-align: right;\">\n",
       "      <th></th>\n",
       "      <th>id</th>\n",
       "      <th>remote_id</th>\n",
       "      <th>provider</th>\n",
       "      <th>repo_url</th>\n",
       "      <th>first_launch_ts</th>\n",
       "      <th>last_launch_ts</th>\n",
       "      <th>last_spec</th>\n",
       "      <th>ref</th>\n",
       "      <th>resolved_ref</th>\n",
       "      <th>resolved_date</th>\n",
       "      <th>resolved_ref_date</th>\n",
       "      <th>fork</th>\n",
       "      <th>renamed</th>\n",
       "      <th>launch_count</th>\n",
       "      <th>binder_dir</th>\n",
       "      <th>buildpack</th>\n",
       "      <th>nbs_count</th>\n",
       "    </tr>\n",
       "  </thead>\n",
       "  <tbody>\n",
       "    <tr>\n",
       "      <th>0</th>\n",
       "      <td>1</td>\n",
       "      <td>3641953</td>\n",
       "      <td>GitHub</td>\n",
       "      <td>https://github.com/ipython/ipython-in-depth</td>\n",
       "      <td>2018-11-03T00:00:00</td>\n",
       "      <td>2020-07-26T23:58:00</td>\n",
       "      <td>ipython/ipython-in-depth/master</td>\n",
       "      <td>master</td>\n",
       "      <td>7e5ce96cc9251083979efdfc393425f1229a4a68</td>\n",
       "      <td>2020-07-27T11:46:00</td>\n",
       "      <td>2019-04-22T15:12:08</td>\n",
       "      <td>0</td>\n",
       "      <td>0.0</td>\n",
       "      <td>3720790</td>\n",
       "      <td>binder</td>\n",
       "      <td>CondaBuildPack</td>\n",
       "      <td>94.0</td>\n",
       "    </tr>\n",
       "    <tr>\n",
       "      <th>1</th>\n",
       "      <td>2</td>\n",
       "      <td>99244384</td>\n",
       "      <td>GitHub</td>\n",
       "      <td>https://github.com/qiskit/qiskit-tutorial</td>\n",
       "      <td>2018-11-03T00:00:00</td>\n",
       "      <td>2020-07-25T15:47:00</td>\n",
       "      <td>QISKit/qiskit-tutorial/15f92d45dc0df6c1201dcac...</td>\n",
       "      <td>15f92d45dc0df6c1201dcacd3d3d9c46e32da9c9</td>\n",
       "      <td>15f92d45dc0df6c1201dcacd3d3d9c46e32da9c9</td>\n",
       "      <td>2020-07-27T11:46:00</td>\n",
       "      <td>2020-07-23T11:02:09</td>\n",
       "      <td>0</td>\n",
       "      <td>2.0</td>\n",
       "      <td>22341</td>\n",
       "      <td></td>\n",
       "      <td>CondaBuildPack</td>\n",
       "      <td>63.0</td>\n",
       "    </tr>\n",
       "    <tr>\n",
       "      <th>2</th>\n",
       "      <td>3</td>\n",
       "      <td>None</td>\n",
       "      <td>GitHub</td>\n",
       "      <td>https://github.com/eniocsj/dados</td>\n",
       "      <td>2018-11-03T00:01:00</td>\n",
       "      <td>2018-11-14T12:15:00</td>\n",
       "      <td>eniocsj/dados/master</td>\n",
       "      <td>master</td>\n",
       "      <td>None</td>\n",
       "      <td>None</td>\n",
       "      <td>None</td>\n",
       "      <td>404</td>\n",
       "      <td>NaN</td>\n",
       "      <td>42</td>\n",
       "      <td>None</td>\n",
       "      <td>None</td>\n",
       "      <td>NaN</td>\n",
       "    </tr>\n",
       "    <tr>\n",
       "      <th>3</th>\n",
       "      <td>4</td>\n",
       "      <td>69698350</td>\n",
       "      <td>GitHub</td>\n",
       "      <td>https://github.com/jupyterlab/jupyterlab-demo</td>\n",
       "      <td>2018-11-03T00:01:00</td>\n",
       "      <td>2020-07-26T23:59:00</td>\n",
       "      <td>jupyterlab/jupyterlab-demo/try.jupyter.org</td>\n",
       "      <td>try.jupyter.org</td>\n",
       "      <td>71b616307dcb9cba18262d8e5fa46ad828ca51e4</td>\n",
       "      <td>2020-07-27T11:46:00</td>\n",
       "      <td>2019-07-10T17:08:41</td>\n",
       "      <td>0</td>\n",
       "      <td>0.0</td>\n",
       "      <td>1768836</td>\n",
       "      <td>binder</td>\n",
       "      <td>CondaBuildPack</td>\n",
       "      <td>6.0</td>\n",
       "    </tr>\n",
       "    <tr>\n",
       "      <th>4</th>\n",
       "      <td>5</td>\n",
       "      <td>21578345</td>\n",
       "      <td>GitHub</td>\n",
       "      <td>https://github.com/bokeh/bokeh-notebooks</td>\n",
       "      <td>2018-11-03T00:02:00</td>\n",
       "      <td>2020-07-26T23:14:00</td>\n",
       "      <td>bokeh/bokeh-notebooks/master</td>\n",
       "      <td>master</td>\n",
       "      <td>7b6da26945e284b19df07daecc6beabdb7adbe81</td>\n",
       "      <td>2020-07-27T11:46:00</td>\n",
       "      <td>2020-07-20T22:34:18</td>\n",
       "      <td>0</td>\n",
       "      <td>0.0</td>\n",
       "      <td>151967</td>\n",
       "      <td></td>\n",
       "      <td>CondaBuildPack</td>\n",
       "      <td>18.0</td>\n",
       "    </tr>\n",
       "  </tbody>\n",
       "</table>\n",
       "</div>"
      ],
      "text/plain": [
       "   id remote_id provider                                       repo_url  \\\n",
       "0   1   3641953   GitHub    https://github.com/ipython/ipython-in-depth   \n",
       "1   2  99244384   GitHub      https://github.com/qiskit/qiskit-tutorial   \n",
       "2   3      None   GitHub               https://github.com/eniocsj/dados   \n",
       "3   4  69698350   GitHub  https://github.com/jupyterlab/jupyterlab-demo   \n",
       "4   5  21578345   GitHub       https://github.com/bokeh/bokeh-notebooks   \n",
       "\n",
       "       first_launch_ts       last_launch_ts  \\\n",
       "0  2018-11-03T00:00:00  2020-07-26T23:58:00   \n",
       "1  2018-11-03T00:00:00  2020-07-25T15:47:00   \n",
       "2  2018-11-03T00:01:00  2018-11-14T12:15:00   \n",
       "3  2018-11-03T00:01:00  2020-07-26T23:59:00   \n",
       "4  2018-11-03T00:02:00  2020-07-26T23:14:00   \n",
       "\n",
       "                                           last_spec  \\\n",
       "0                    ipython/ipython-in-depth/master   \n",
       "1  QISKit/qiskit-tutorial/15f92d45dc0df6c1201dcac...   \n",
       "2                               eniocsj/dados/master   \n",
       "3         jupyterlab/jupyterlab-demo/try.jupyter.org   \n",
       "4                       bokeh/bokeh-notebooks/master   \n",
       "\n",
       "                                        ref  \\\n",
       "0                                    master   \n",
       "1  15f92d45dc0df6c1201dcacd3d3d9c46e32da9c9   \n",
       "2                                    master   \n",
       "3                           try.jupyter.org   \n",
       "4                                    master   \n",
       "\n",
       "                               resolved_ref        resolved_date  \\\n",
       "0  7e5ce96cc9251083979efdfc393425f1229a4a68  2020-07-27T11:46:00   \n",
       "1  15f92d45dc0df6c1201dcacd3d3d9c46e32da9c9  2020-07-27T11:46:00   \n",
       "2                                      None                 None   \n",
       "3  71b616307dcb9cba18262d8e5fa46ad828ca51e4  2020-07-27T11:46:00   \n",
       "4  7b6da26945e284b19df07daecc6beabdb7adbe81  2020-07-27T11:46:00   \n",
       "\n",
       "     resolved_ref_date  fork  renamed  launch_count binder_dir  \\\n",
       "0  2019-04-22T15:12:08     0      0.0       3720790     binder   \n",
       "1  2020-07-23T11:02:09     0      2.0         22341              \n",
       "2                 None   404      NaN            42       None   \n",
       "3  2019-07-10T17:08:41     0      0.0       1768836     binder   \n",
       "4  2020-07-20T22:34:18     0      0.0        151967              \n",
       "\n",
       "        buildpack  nbs_count  \n",
       "0  CondaBuildPack       94.0  \n",
       "1  CondaBuildPack       63.0  \n",
       "2            None        NaN  \n",
       "3  CondaBuildPack        6.0  \n",
       "4  CondaBuildPack       18.0  "
      ]
     },
     "execution_count": 11,
     "metadata": {},
     "output_type": "execute_result"
    }
   ],
   "source": [
    "repos.head()"
   ]
  },
  {
   "cell_type": "markdown",
   "metadata": {},
   "source": [
    "### Understanding repos table"
   ]
  },
  {
   "cell_type": "markdown",
   "metadata": {},
   "source": [
    "#### Forks"
   ]
  },
  {
   "cell_type": "code",
   "execution_count": 12,
   "metadata": {},
   "outputs": [
    {
     "data": {
      "text/plain": [
       "fork\n",
       "0      41732\n",
       "1       4854\n",
       "404     6051\n",
       "451        2\n",
       "dtype: int64"
      ]
     },
     "execution_count": 12,
     "metadata": {},
     "output_type": "execute_result"
    }
   ],
   "source": [
    "repos.fillna(-1).groupby(\"fork\").size()\n",
    "# query = f'select fork, count(*) from {repo_table} group by \"fork\";'\n",
    "# forks = pd.read_sql_query(query, db.conn)"
   ]
  },
  {
   "cell_type": "markdown",
   "metadata": {},
   "source": [
    "fork=404 means that repo doesnt exist anymore.\n",
    "\n",
    "now check those 2 repos which have fork as 451"
   ]
  },
  {
   "cell_type": "code",
   "execution_count": 13,
   "metadata": {},
   "outputs": [
    {
     "data": {
      "text/html": [
       "<div>\n",
       "<style scoped>\n",
       "    .dataframe tbody tr th:only-of-type {\n",
       "        vertical-align: middle;\n",
       "    }\n",
       "\n",
       "    .dataframe tbody tr th {\n",
       "        vertical-align: top;\n",
       "    }\n",
       "\n",
       "    .dataframe thead th {\n",
       "        text-align: right;\n",
       "    }\n",
       "</style>\n",
       "<table border=\"1\" class=\"dataframe\">\n",
       "  <thead>\n",
       "    <tr style=\"text-align: right;\">\n",
       "      <th></th>\n",
       "      <th>resolved_ref</th>\n",
       "      <th>repo_url</th>\n",
       "    </tr>\n",
       "  </thead>\n",
       "  <tbody>\n",
       "    <tr>\n",
       "      <th>16581</th>\n",
       "      <td>None</td>\n",
       "      <td>https://github.com/doublelabyrinth/mobaxterm-k...</td>\n",
       "    </tr>\n",
       "    <tr>\n",
       "      <th>25415</th>\n",
       "      <td>None</td>\n",
       "      <td>https://github.com/abhat222/data-science--chea...</td>\n",
       "    </tr>\n",
       "  </tbody>\n",
       "</table>\n",
       "</div>"
      ],
      "text/plain": [
       "      resolved_ref                                           repo_url\n",
       "16581         None  https://github.com/doublelabyrinth/mobaxterm-k...\n",
       "25415         None  https://github.com/abhat222/data-science--chea..."
      ]
     },
     "execution_count": 13,
     "metadata": {},
     "output_type": "execute_result"
    }
   ],
   "source": [
    "repos[repos[\"fork\"] == 451][[\"resolved_ref\", \"repo_url\"]]"
   ]
  },
  {
   "cell_type": "markdown",
   "metadata": {},
   "source": [
    "These 2 repos returns \"Repository access blocked\" (\"HTTP 451: Unavailable for Legal Reasons\")\n",
    "- https://github.com/doublelabyrinth/mobaxterm-keygen\n",
    "- https://github.com/abhat222/data-science--cheat-sheet"
   ]
  },
  {
   "cell_type": "code",
   "execution_count": 14,
   "metadata": {},
   "outputs": [
    {
     "data": {
      "text/plain": [
       "6053"
      ]
     },
     "execution_count": 14,
     "metadata": {},
     "output_type": "execute_result"
    }
   ],
   "source": [
    "len(repos[repos[\"fork\"].isin([404, 451])])"
   ]
  },
  {
   "cell_type": "code",
   "execution_count": 15,
   "metadata": {},
   "outputs": [
    {
     "data": {
      "text/plain": [
       "fork\n",
       "404    6051\n",
       "451       2\n",
       "dtype: int64"
      ]
     },
     "execution_count": 15,
     "metadata": {},
     "output_type": "execute_result"
    }
   ],
   "source": [
    "# if fork is 404, remote_id should be null (not available)\n",
    "repos[repos[\"remote_id\"].isnull()].fillna(-1).groupby(\"fork\", as_index = False).size()"
   ]
  },
  {
   "cell_type": "code",
   "execution_count": 16,
   "metadata": {},
   "outputs": [
    {
     "data": {
      "text/html": [
       "<div>\n",
       "<style scoped>\n",
       "    .dataframe tbody tr th:only-of-type {\n",
       "        vertical-align: middle;\n",
       "    }\n",
       "\n",
       "    .dataframe tbody tr th {\n",
       "        vertical-align: top;\n",
       "    }\n",
       "\n",
       "    .dataframe thead th {\n",
       "        text-align: right;\n",
       "    }\n",
       "</style>\n",
       "<table border=\"1\" class=\"dataframe\">\n",
       "  <thead>\n",
       "    <tr style=\"text-align: right;\">\n",
       "      <th></th>\n",
       "      <th>repo_url</th>\n",
       "      <th>remote_id</th>\n",
       "      <th>last_spec</th>\n",
       "      <th>ref</th>\n",
       "      <th>resolved_ref</th>\n",
       "      <th>resolved_date</th>\n",
       "      <th>resolved_ref_date</th>\n",
       "      <th>binder_dir</th>\n",
       "      <th>buildpack</th>\n",
       "      <th>nbs_count</th>\n",
       "    </tr>\n",
       "  </thead>\n",
       "  <tbody>\n",
       "    <tr>\n",
       "      <th>2</th>\n",
       "      <td>https://github.com/eniocsj/dados</td>\n",
       "      <td>None</td>\n",
       "      <td>eniocsj/dados/master</td>\n",
       "      <td>master</td>\n",
       "      <td>None</td>\n",
       "      <td>None</td>\n",
       "      <td>None</td>\n",
       "      <td>None</td>\n",
       "      <td>None</td>\n",
       "      <td>NaN</td>\n",
       "    </tr>\n",
       "    <tr>\n",
       "      <th>15</th>\n",
       "      <td>https://github.com/udm88/home_work_2</td>\n",
       "      <td>None</td>\n",
       "      <td>udm88/home_work_2/master</td>\n",
       "      <td>master</td>\n",
       "      <td>None</td>\n",
       "      <td>None</td>\n",
       "      <td>None</td>\n",
       "      <td>None</td>\n",
       "      <td>None</td>\n",
       "      <td>NaN</td>\n",
       "    </tr>\n",
       "    <tr>\n",
       "      <th>17</th>\n",
       "      <td>https://github.com/liviu-anita/calcul-numeric</td>\n",
       "      <td>None</td>\n",
       "      <td>liviu-anita/Calcul-Numeric/master</td>\n",
       "      <td>master</td>\n",
       "      <td>None</td>\n",
       "      <td>None</td>\n",
       "      <td>None</td>\n",
       "      <td>None</td>\n",
       "      <td>None</td>\n",
       "      <td>NaN</td>\n",
       "    </tr>\n",
       "    <tr>\n",
       "      <th>38</th>\n",
       "      <td>https://github.com/bengal-tiger/youcandothermo...</td>\n",
       "      <td>None</td>\n",
       "      <td>BENGAL-TIGER/YOUcanDoThermodynamics/master</td>\n",
       "      <td>master</td>\n",
       "      <td>None</td>\n",
       "      <td>None</td>\n",
       "      <td>None</td>\n",
       "      <td>None</td>\n",
       "      <td>None</td>\n",
       "      <td>NaN</td>\n",
       "    </tr>\n",
       "    <tr>\n",
       "      <th>39</th>\n",
       "      <td>https://github.com/marlohaering/se1-notebook</td>\n",
       "      <td>None</td>\n",
       "      <td>marlohaering/SE1-Notebook/master</td>\n",
       "      <td>master</td>\n",
       "      <td>None</td>\n",
       "      <td>None</td>\n",
       "      <td>None</td>\n",
       "      <td>None</td>\n",
       "      <td>None</td>\n",
       "      <td>NaN</td>\n",
       "    </tr>\n",
       "    <tr>\n",
       "      <th>...</th>\n",
       "      <td>...</td>\n",
       "      <td>...</td>\n",
       "      <td>...</td>\n",
       "      <td>...</td>\n",
       "      <td>...</td>\n",
       "      <td>...</td>\n",
       "      <td>...</td>\n",
       "      <td>...</td>\n",
       "      <td>...</td>\n",
       "      <td>...</td>\n",
       "    </tr>\n",
       "    <tr>\n",
       "      <th>52497</th>\n",
       "      <td>https://github.com/smeetpatelx/s-p-quad-witching</td>\n",
       "      <td>None</td>\n",
       "      <td>smeetpatelx/S-P-Quad-Witching/afb8558ca71ecbb0...</td>\n",
       "      <td>afb8558ca71ecbb0e9016d572a67c8529e75439e</td>\n",
       "      <td>None</td>\n",
       "      <td>None</td>\n",
       "      <td>None</td>\n",
       "      <td>None</td>\n",
       "      <td>None</td>\n",
       "      <td>NaN</td>\n",
       "    </tr>\n",
       "    <tr>\n",
       "      <th>52527</th>\n",
       "      <td>https://github.com/marangiop/diff_bum_hmm</td>\n",
       "      <td>None</td>\n",
       "      <td>marangiop/diff_BUM_HMM/master</td>\n",
       "      <td>master</td>\n",
       "      <td>None</td>\n",
       "      <td>None</td>\n",
       "      <td>None</td>\n",
       "      <td>None</td>\n",
       "      <td>None</td>\n",
       "      <td>NaN</td>\n",
       "    </tr>\n",
       "    <tr>\n",
       "      <th>52558</th>\n",
       "      <td>https://github.com/nblaznik/notebook</td>\n",
       "      <td>None</td>\n",
       "      <td>nblaznik/notebook/master</td>\n",
       "      <td>master</td>\n",
       "      <td>None</td>\n",
       "      <td>None</td>\n",
       "      <td>None</td>\n",
       "      <td>None</td>\n",
       "      <td>None</td>\n",
       "      <td>NaN</td>\n",
       "    </tr>\n",
       "    <tr>\n",
       "      <th>52576</th>\n",
       "      <td>https://github.com/lzmore/test_1_1</td>\n",
       "      <td>None</td>\n",
       "      <td>LzMore/Test_1_1.git/master</td>\n",
       "      <td>master</td>\n",
       "      <td>None</td>\n",
       "      <td>None</td>\n",
       "      <td>None</td>\n",
       "      <td>None</td>\n",
       "      <td>None</td>\n",
       "      <td>NaN</td>\n",
       "    </tr>\n",
       "    <tr>\n",
       "      <th>52590</th>\n",
       "      <td>https://github.com/ngzhankang/nushackathon</td>\n",
       "      <td>None</td>\n",
       "      <td>ngzhankang/nusHackathon/master</td>\n",
       "      <td>master</td>\n",
       "      <td>None</td>\n",
       "      <td>None</td>\n",
       "      <td>None</td>\n",
       "      <td>None</td>\n",
       "      <td>None</td>\n",
       "      <td>NaN</td>\n",
       "    </tr>\n",
       "  </tbody>\n",
       "</table>\n",
       "<p>6053 rows × 10 columns</p>\n",
       "</div>"
      ],
      "text/plain": [
       "                                                repo_url remote_id  \\\n",
       "2                       https://github.com/eniocsj/dados      None   \n",
       "15                  https://github.com/udm88/home_work_2      None   \n",
       "17         https://github.com/liviu-anita/calcul-numeric      None   \n",
       "38     https://github.com/bengal-tiger/youcandothermo...      None   \n",
       "39          https://github.com/marlohaering/se1-notebook      None   \n",
       "...                                                  ...       ...   \n",
       "52497   https://github.com/smeetpatelx/s-p-quad-witching      None   \n",
       "52527          https://github.com/marangiop/diff_bum_hmm      None   \n",
       "52558               https://github.com/nblaznik/notebook      None   \n",
       "52576                 https://github.com/lzmore/test_1_1      None   \n",
       "52590         https://github.com/ngzhankang/nushackathon      None   \n",
       "\n",
       "                                               last_spec  \\\n",
       "2                                   eniocsj/dados/master   \n",
       "15                              udm88/home_work_2/master   \n",
       "17                     liviu-anita/Calcul-Numeric/master   \n",
       "38            BENGAL-TIGER/YOUcanDoThermodynamics/master   \n",
       "39                      marlohaering/SE1-Notebook/master   \n",
       "...                                                  ...   \n",
       "52497  smeetpatelx/S-P-Quad-Witching/afb8558ca71ecbb0...   \n",
       "52527                      marangiop/diff_BUM_HMM/master   \n",
       "52558                           nblaznik/notebook/master   \n",
       "52576                         LzMore/Test_1_1.git/master   \n",
       "52590                     ngzhankang/nusHackathon/master   \n",
       "\n",
       "                                            ref resolved_ref resolved_date  \\\n",
       "2                                        master         None          None   \n",
       "15                                       master         None          None   \n",
       "17                                       master         None          None   \n",
       "38                                       master         None          None   \n",
       "39                                       master         None          None   \n",
       "...                                         ...          ...           ...   \n",
       "52497  afb8558ca71ecbb0e9016d572a67c8529e75439e         None          None   \n",
       "52527                                    master         None          None   \n",
       "52558                                    master         None          None   \n",
       "52576                                    master         None          None   \n",
       "52590                                    master         None          None   \n",
       "\n",
       "      resolved_ref_date binder_dir buildpack  nbs_count  \n",
       "2                  None       None      None        NaN  \n",
       "15                 None       None      None        NaN  \n",
       "17                 None       None      None        NaN  \n",
       "38                 None       None      None        NaN  \n",
       "39                 None       None      None        NaN  \n",
       "...                 ...        ...       ...        ...  \n",
       "52497              None       None      None        NaN  \n",
       "52527              None       None      None        NaN  \n",
       "52558              None       None      None        NaN  \n",
       "52576              None       None      None        NaN  \n",
       "52590              None       None      None        NaN  \n",
       "\n",
       "[6053 rows x 10 columns]"
      ]
     },
     "execution_count": 16,
     "metadata": {},
     "output_type": "execute_result"
    }
   ],
   "source": [
    "repos[repos[\"fork\"].isin([404, 451])][[\"repo_url\", \"remote_id\", \"last_spec\", \"ref\", \"resolved_ref\",\n",
    "                                   \"resolved_date\", \"resolved_ref_date\", \"binder_dir\", \n",
    "                                    \"buildpack\", \"nbs_count\"]]"
   ]
  },
  {
   "cell_type": "markdown",
   "metadata": {},
   "source": [
    "#### Resolved refs\n",
    "\n",
    "`create_repo_table.py` fetches resolved ref of the last spec at the time that the script is running (resolved_date).\n",
    "`resolved_ref=\"404\"` means that the specs is not valid anymore."
   ]
  },
  {
   "cell_type": "code",
   "execution_count": 17,
   "metadata": {},
   "outputs": [
    {
     "data": {
      "text/html": [
       "<div>\n",
       "<style scoped>\n",
       "    .dataframe tbody tr th:only-of-type {\n",
       "        vertical-align: middle;\n",
       "    }\n",
       "\n",
       "    .dataframe tbody tr th {\n",
       "        vertical-align: top;\n",
       "    }\n",
       "\n",
       "    .dataframe thead th {\n",
       "        text-align: right;\n",
       "    }\n",
       "</style>\n",
       "<table border=\"1\" class=\"dataframe\">\n",
       "  <thead>\n",
       "    <tr style=\"text-align: right;\">\n",
       "      <th></th>\n",
       "      <th>repo_url</th>\n",
       "      <th>last_spec</th>\n",
       "      <th>ref</th>\n",
       "      <th>resolved_ref</th>\n",
       "      <th>fork</th>\n",
       "    </tr>\n",
       "  </thead>\n",
       "  <tbody>\n",
       "    <tr>\n",
       "      <th>0</th>\n",
       "      <td>https://github.com/ipython/ipython-in-depth</td>\n",
       "      <td>ipython/ipython-in-depth/master</td>\n",
       "      <td>master</td>\n",
       "      <td>7e5ce96cc9251083979efdfc393425f1229a4a68</td>\n",
       "      <td>0</td>\n",
       "    </tr>\n",
       "    <tr>\n",
       "      <th>1</th>\n",
       "      <td>https://github.com/qiskit/qiskit-tutorial</td>\n",
       "      <td>QISKit/qiskit-tutorial/15f92d45dc0df6c1201dcac...</td>\n",
       "      <td>15f92d45dc0df6c1201dcacd3d3d9c46e32da9c9</td>\n",
       "      <td>15f92d45dc0df6c1201dcacd3d3d9c46e32da9c9</td>\n",
       "      <td>0</td>\n",
       "    </tr>\n",
       "    <tr>\n",
       "      <th>2</th>\n",
       "      <td>https://github.com/eniocsj/dados</td>\n",
       "      <td>eniocsj/dados/master</td>\n",
       "      <td>master</td>\n",
       "      <td>None</td>\n",
       "      <td>404</td>\n",
       "    </tr>\n",
       "    <tr>\n",
       "      <th>3</th>\n",
       "      <td>https://github.com/jupyterlab/jupyterlab-demo</td>\n",
       "      <td>jupyterlab/jupyterlab-demo/try.jupyter.org</td>\n",
       "      <td>try.jupyter.org</td>\n",
       "      <td>71b616307dcb9cba18262d8e5fa46ad828ca51e4</td>\n",
       "      <td>0</td>\n",
       "    </tr>\n",
       "    <tr>\n",
       "      <th>4</th>\n",
       "      <td>https://github.com/bokeh/bokeh-notebooks</td>\n",
       "      <td>bokeh/bokeh-notebooks/master</td>\n",
       "      <td>master</td>\n",
       "      <td>7b6da26945e284b19df07daecc6beabdb7adbe81</td>\n",
       "      <td>0</td>\n",
       "    </tr>\n",
       "    <tr>\n",
       "      <th>...</th>\n",
       "      <td>...</td>\n",
       "      <td>...</td>\n",
       "      <td>...</td>\n",
       "      <td>...</td>\n",
       "      <td>...</td>\n",
       "    </tr>\n",
       "    <tr>\n",
       "      <th>52634</th>\n",
       "      <td>https://github.com/techfanetechnologies/1minca...</td>\n",
       "      <td>TechfaneTechnologies/1MinCandleTest/master</td>\n",
       "      <td>master</td>\n",
       "      <td>f6b0f4b2e2fb188997386d7f090a2b14b212b12a</td>\n",
       "      <td>0</td>\n",
       "    </tr>\n",
       "    <tr>\n",
       "      <th>52635</th>\n",
       "      <td>https://github.com/haileytran/fkocpython10answers</td>\n",
       "      <td>haileytran/FKOCpython10answers.git/master</td>\n",
       "      <td>master</td>\n",
       "      <td>8a7a51853cba22be61f2140afb3747c89f46945e</td>\n",
       "      <td>0</td>\n",
       "    </tr>\n",
       "    <tr>\n",
       "      <th>52636</th>\n",
       "      <td>https://github.com/srgari/jupyter-notebook-labs</td>\n",
       "      <td>srgari/Jupyter-Notebook-Labs/master</td>\n",
       "      <td>master</td>\n",
       "      <td>0c7270d14ac76ec8b484a3b46f30c69cb778ee5d</td>\n",
       "      <td>0</td>\n",
       "    </tr>\n",
       "    <tr>\n",
       "      <th>52637</th>\n",
       "      <td>https://github.com/ccordoba12/spyder</td>\n",
       "      <td>ccordoba12/spyder/test-binder</td>\n",
       "      <td>test-binder</td>\n",
       "      <td>404</td>\n",
       "      <td>1</td>\n",
       "    </tr>\n",
       "    <tr>\n",
       "      <th>52638</th>\n",
       "      <td>https://github.com/csedlee/udacity_supervised</td>\n",
       "      <td>csedlee/Udacity_Supervised/Linear-Regression-i...</td>\n",
       "      <td>Linear-Regression-in-scikit-learn</td>\n",
       "      <td>e22bccbb02f7990e699062c5b35431eceab09710</td>\n",
       "      <td>0</td>\n",
       "    </tr>\n",
       "  </tbody>\n",
       "</table>\n",
       "<p>52639 rows × 5 columns</p>\n",
       "</div>"
      ],
      "text/plain": [
       "                                                repo_url  \\\n",
       "0            https://github.com/ipython/ipython-in-depth   \n",
       "1              https://github.com/qiskit/qiskit-tutorial   \n",
       "2                       https://github.com/eniocsj/dados   \n",
       "3          https://github.com/jupyterlab/jupyterlab-demo   \n",
       "4               https://github.com/bokeh/bokeh-notebooks   \n",
       "...                                                  ...   \n",
       "52634  https://github.com/techfanetechnologies/1minca...   \n",
       "52635  https://github.com/haileytran/fkocpython10answers   \n",
       "52636    https://github.com/srgari/jupyter-notebook-labs   \n",
       "52637               https://github.com/ccordoba12/spyder   \n",
       "52638      https://github.com/csedlee/udacity_supervised   \n",
       "\n",
       "                                               last_spec  \\\n",
       "0                        ipython/ipython-in-depth/master   \n",
       "1      QISKit/qiskit-tutorial/15f92d45dc0df6c1201dcac...   \n",
       "2                                   eniocsj/dados/master   \n",
       "3             jupyterlab/jupyterlab-demo/try.jupyter.org   \n",
       "4                           bokeh/bokeh-notebooks/master   \n",
       "...                                                  ...   \n",
       "52634         TechfaneTechnologies/1MinCandleTest/master   \n",
       "52635          haileytran/FKOCpython10answers.git/master   \n",
       "52636                srgari/Jupyter-Notebook-Labs/master   \n",
       "52637                      ccordoba12/spyder/test-binder   \n",
       "52638  csedlee/Udacity_Supervised/Linear-Regression-i...   \n",
       "\n",
       "                                            ref  \\\n",
       "0                                        master   \n",
       "1      15f92d45dc0df6c1201dcacd3d3d9c46e32da9c9   \n",
       "2                                        master   \n",
       "3                               try.jupyter.org   \n",
       "4                                        master   \n",
       "...                                         ...   \n",
       "52634                                    master   \n",
       "52635                                    master   \n",
       "52636                                    master   \n",
       "52637                               test-binder   \n",
       "52638         Linear-Regression-in-scikit-learn   \n",
       "\n",
       "                                   resolved_ref  fork  \n",
       "0      7e5ce96cc9251083979efdfc393425f1229a4a68     0  \n",
       "1      15f92d45dc0df6c1201dcacd3d3d9c46e32da9c9     0  \n",
       "2                                          None   404  \n",
       "3      71b616307dcb9cba18262d8e5fa46ad828ca51e4     0  \n",
       "4      7b6da26945e284b19df07daecc6beabdb7adbe81     0  \n",
       "...                                         ...   ...  \n",
       "52634  f6b0f4b2e2fb188997386d7f090a2b14b212b12a     0  \n",
       "52635  8a7a51853cba22be61f2140afb3747c89f46945e     0  \n",
       "52636  0c7270d14ac76ec8b484a3b46f30c69cb778ee5d     0  \n",
       "52637                                       404     1  \n",
       "52638  e22bccbb02f7990e699062c5b35431eceab09710     0  \n",
       "\n",
       "[52639 rows x 5 columns]"
      ]
     },
     "execution_count": 17,
     "metadata": {},
     "output_type": "execute_result"
    }
   ],
   "source": [
    "repos[[\"repo_url\", \"last_spec\", \"ref\", \"resolved_ref\", \"fork\"]]"
   ]
  },
  {
   "cell_type": "code",
   "execution_count": 18,
   "metadata": {},
   "outputs": [
    {
     "data": {
      "text/plain": [
       "6398"
      ]
     },
     "execution_count": 18,
     "metadata": {},
     "output_type": "execute_result"
    }
   ],
   "source": [
    "len(repos[repos[\"resolved_ref\"].isnull() |  (repos[\"resolved_ref\"] == \"404\")])"
   ]
  },
  {
   "cell_type": "markdown",
   "metadata": {},
   "source": [
    "resolved ref is null, if fork is 404 or 451"
   ]
  },
  {
   "cell_type": "code",
   "execution_count": 19,
   "metadata": {},
   "outputs": [
    {
     "name": "stdout",
     "output_type": "stream",
     "text": [
      "6060\n",
      "6053\n"
     ]
    }
   ],
   "source": [
    "print(len(repos[repos[\"resolved_ref\"].isnull()]))\n",
    "print(len(repos[repos[\"resolved_ref\"].isnull() & repos[\"fork\"].isin([404, 451])]))"
   ]
  },
  {
   "cell_type": "markdown",
   "metadata": {},
   "source": [
    "These 7 repos exist but had error while getting the resolved ref info:\n",
    "\n",
    "- https://github.com/twbs/bootstrap : \n",
    "```\n",
    "Exception: ['git', 'checkout', 'gh-pages']: error: Your local changes to the following files would be overwritten by checkout:\n",
    "...\n",
    "Please, commit your changes or stash them before you can switch branches.\n",
    "```\n",
    "- https://github.com/lakarstens/controllingcontaminants16s:\n",
    "```\n",
    "Exception: ['git', 'clone', 'https://github.com/lakarstens/controllingcontaminants16s', '/tmp/tmplvvc0_ux']: Cloning into '/tmp/tmplvvc0_ux'...\n",
    "error: Invalid path '.git:info:exclude'\n",
    "fatal: unable to checkout working tree\n",
    "warning: Clone succeeded, but checkout failed.\n",
    "You can inspect what was checked out with 'git status'\n",
    "and retry the checkout with 'git checkout -f HEAD'\n",
    "```\n",
    "- https://github.com/noahgriff99/320-final-project: \n",
    "```\n",
    "Exception: ['git', 'checkout', '925075b4aec9bf4f2329bd60e6d5fd5fbc8c2bd3']: error: Your local changes to the following files would be overwritten by checkout:\n",
    "\tBillboardNSpotify.html\n",
    "\tindex.html\n",
    "\tindex.html.html\n",
    "Please, commit your changes or stash them before you can switch branches.\n",
    "```\n",
    "- https://gist.github.com/vb16/0827905b1e8f4a0a76ff: \n",
    "```\n",
    "Exception: ['git', 'clone', 'https://gist.github.com/vb16/0827905b1e8f4a0a76ff', '/tmp/tmp2amqsj1u']: Cloning into '/tmp/tmp2amqsj1u'...\n",
    "fatal: could not read Username for 'https://gist.github.com': terminal prompts disabled\n",
    "```\n",
    "- https://github.com/koldanya/water:\n",
    "```\n",
    "Exception: ['git', 'checkout', '96b97b2ec30213b29ee602c76f14ea515fbd97a4']: error: Your local changes to the following files would be overwritten by checkout:\n",
    "\tREADME.md\n",
    "Please, commit your changes or stash them before you can switch branches.\n",
    "```\n",
    "- https://github.com/dsyme/diffsharp:\n",
    "```\n",
    "Exception: ['git', 'checkout', 'gh-pages']: error: Your local changes to the following files would be overwritten by checkout:\n",
    "        DiffSharp.sln\n",
    "        src/DiffSharp.Core/Tensor.fs\n",
    "```\n",
    "- https://github.com/1-2-3-4-5ggg/melnikov.zhuravlev:\n",
    "```\n",
    "Exception: ['git', 'checkout', 'Titanic']: error: Your local changes to the following files would be overwritten by checkout:\n",
    "        titanic-machine-learning-from-disaster.html\n",
    "```"
   ]
  },
  {
   "cell_type": "markdown",
   "metadata": {},
   "source": [
    "Some repos exists but resolved_ref of their spec doesn't\n",
    "\n",
    "TODO what are reasons for this?\n",
    "1. spec is not valid anymore, e.g. branch is deleted"
   ]
  },
  {
   "cell_type": "code",
   "execution_count": 20,
   "metadata": {},
   "outputs": [
    {
     "data": {
      "text/plain": [
       "338"
      ]
     },
     "execution_count": 20,
     "metadata": {},
     "output_type": "execute_result"
    }
   ],
   "source": [
    "len(repos[repos[\"resolved_ref\"] == \"404\"])"
   ]
  },
  {
   "cell_type": "code",
   "execution_count": 21,
   "metadata": {
    "scrolled": false
   },
   "outputs": [
    {
     "data": {
      "text/html": [
       "<div>\n",
       "<style scoped>\n",
       "    .dataframe tbody tr th:only-of-type {\n",
       "        vertical-align: middle;\n",
       "    }\n",
       "\n",
       "    .dataframe tbody tr th {\n",
       "        vertical-align: top;\n",
       "    }\n",
       "\n",
       "    .dataframe thead th {\n",
       "        text-align: right;\n",
       "    }\n",
       "</style>\n",
       "<table border=\"1\" class=\"dataframe\">\n",
       "  <thead>\n",
       "    <tr style=\"text-align: right;\">\n",
       "      <th></th>\n",
       "      <th>repo_url</th>\n",
       "      <th>last_spec</th>\n",
       "      <th>ref</th>\n",
       "      <th>resolved_ref</th>\n",
       "      <th>resolved_date</th>\n",
       "      <th>resolved_ref_date</th>\n",
       "      <th>binder_dir</th>\n",
       "      <th>buildpack</th>\n",
       "      <th>nbs_count</th>\n",
       "    </tr>\n",
       "  </thead>\n",
       "  <tbody>\n",
       "    <tr>\n",
       "      <th>70</th>\n",
       "      <td>https://github.com/delsim/jupyter-plotly-dash</td>\n",
       "      <td>delsim/jupyter-plotly-dash/messaging</td>\n",
       "      <td>messaging</td>\n",
       "      <td>404</td>\n",
       "      <td>2020-07-27T11:46:00</td>\n",
       "      <td>None</td>\n",
       "      <td>None</td>\n",
       "      <td>None</td>\n",
       "      <td>NaN</td>\n",
       "    </tr>\n",
       "    <tr>\n",
       "      <th>87</th>\n",
       "      <td>https://github.com/jiaweizhuang/geoschem-pytho...</td>\n",
       "      <td>JiaweiZhuang/GEOSChem-python-tutorial/master</td>\n",
       "      <td>master</td>\n",
       "      <td>404</td>\n",
       "      <td>2020-07-27T11:46:00</td>\n",
       "      <td>None</td>\n",
       "      <td>None</td>\n",
       "      <td>None</td>\n",
       "      <td>NaN</td>\n",
       "    </tr>\n",
       "    <tr>\n",
       "      <th>270</th>\n",
       "      <td>https://github.com/jhamman/dask-examples</td>\n",
       "      <td>jhamman/dask-examples/xarray</td>\n",
       "      <td>xarray</td>\n",
       "      <td>404</td>\n",
       "      <td>2020-07-27T11:49:00</td>\n",
       "      <td>None</td>\n",
       "      <td>None</td>\n",
       "      <td>None</td>\n",
       "      <td>NaN</td>\n",
       "    </tr>\n",
       "    <tr>\n",
       "      <th>455</th>\n",
       "      <td>https://github.com/pymlvizard/mlpyviz</td>\n",
       "      <td>PyMLVizard/MLPyViz/develop_GD</td>\n",
       "      <td>develop_GD</td>\n",
       "      <td>404</td>\n",
       "      <td>2020-07-27T11:52:00</td>\n",
       "      <td>None</td>\n",
       "      <td>None</td>\n",
       "      <td>None</td>\n",
       "      <td>NaN</td>\n",
       "    </tr>\n",
       "    <tr>\n",
       "      <th>785</th>\n",
       "      <td>https://github.com/binderhub-ci-repos/requirem...</td>\n",
       "      <td>binderhub-ci-repos/requirements/1595482798.343...</td>\n",
       "      <td>1595482798.3436182</td>\n",
       "      <td>404</td>\n",
       "      <td>2020-07-27T11:55:00</td>\n",
       "      <td>None</td>\n",
       "      <td>None</td>\n",
       "      <td>None</td>\n",
       "      <td>NaN</td>\n",
       "    </tr>\n",
       "    <tr>\n",
       "      <th>...</th>\n",
       "      <td>...</td>\n",
       "      <td>...</td>\n",
       "      <td>...</td>\n",
       "      <td>...</td>\n",
       "      <td>...</td>\n",
       "      <td>...</td>\n",
       "      <td>...</td>\n",
       "      <td>...</td>\n",
       "      <td>...</td>\n",
       "    </tr>\n",
       "    <tr>\n",
       "      <th>52187</th>\n",
       "      <td>https://github.com/ameliorater/sonar-equation</td>\n",
       "      <td>ameliorater/sonar-equation/e02fa3e7aa97b8602ce...</td>\n",
       "      <td>e02fa3e7aa97b8602ce74ee854f7ef14d9e70130</td>\n",
       "      <td>404</td>\n",
       "      <td>2020-07-28T03:28:00</td>\n",
       "      <td>None</td>\n",
       "      <td>None</td>\n",
       "      <td>None</td>\n",
       "      <td>NaN</td>\n",
       "    </tr>\n",
       "    <tr>\n",
       "      <th>52313</th>\n",
       "      <td>https://github.com/jgwerner/julia</td>\n",
       "      <td>jgwerner/julia/feat/update-packages</td>\n",
       "      <td>feat/update-packages</td>\n",
       "      <td>404</td>\n",
       "      <td>2020-07-28T03:28:00</td>\n",
       "      <td>None</td>\n",
       "      <td>None</td>\n",
       "      <td>None</td>\n",
       "      <td>NaN</td>\n",
       "    </tr>\n",
       "    <tr>\n",
       "      <th>52502</th>\n",
       "      <td>https://github.com/zuphilip/artikel-vorlage</td>\n",
       "      <td>zuphilip/artikel-vorlage/make</td>\n",
       "      <td>make</td>\n",
       "      <td>404</td>\n",
       "      <td>2020-07-28T03:29:00</td>\n",
       "      <td>None</td>\n",
       "      <td>None</td>\n",
       "      <td>None</td>\n",
       "      <td>NaN</td>\n",
       "    </tr>\n",
       "    <tr>\n",
       "      <th>52553</th>\n",
       "      <td>https://github.com/obar1/books</td>\n",
       "      <td>obar1/books/book/9781449359034</td>\n",
       "      <td>book/9781449359034</td>\n",
       "      <td>404</td>\n",
       "      <td>2020-07-28T03:30:00</td>\n",
       "      <td>None</td>\n",
       "      <td>None</td>\n",
       "      <td>None</td>\n",
       "      <td>NaN</td>\n",
       "    </tr>\n",
       "    <tr>\n",
       "      <th>52637</th>\n",
       "      <td>https://github.com/ccordoba12/spyder</td>\n",
       "      <td>ccordoba12/spyder/test-binder</td>\n",
       "      <td>test-binder</td>\n",
       "      <td>404</td>\n",
       "      <td>2020-07-28T03:30:00</td>\n",
       "      <td>None</td>\n",
       "      <td>None</td>\n",
       "      <td>None</td>\n",
       "      <td>NaN</td>\n",
       "    </tr>\n",
       "  </tbody>\n",
       "</table>\n",
       "<p>338 rows × 9 columns</p>\n",
       "</div>"
      ],
      "text/plain": [
       "                                                repo_url  \\\n",
       "70         https://github.com/delsim/jupyter-plotly-dash   \n",
       "87     https://github.com/jiaweizhuang/geoschem-pytho...   \n",
       "270             https://github.com/jhamman/dask-examples   \n",
       "455                https://github.com/pymlvizard/mlpyviz   \n",
       "785    https://github.com/binderhub-ci-repos/requirem...   \n",
       "...                                                  ...   \n",
       "52187      https://github.com/ameliorater/sonar-equation   \n",
       "52313                  https://github.com/jgwerner/julia   \n",
       "52502        https://github.com/zuphilip/artikel-vorlage   \n",
       "52553                     https://github.com/obar1/books   \n",
       "52637               https://github.com/ccordoba12/spyder   \n",
       "\n",
       "                                               last_spec  \\\n",
       "70                  delsim/jupyter-plotly-dash/messaging   \n",
       "87          JiaweiZhuang/GEOSChem-python-tutorial/master   \n",
       "270                         jhamman/dask-examples/xarray   \n",
       "455                        PyMLVizard/MLPyViz/develop_GD   \n",
       "785    binderhub-ci-repos/requirements/1595482798.343...   \n",
       "...                                                  ...   \n",
       "52187  ameliorater/sonar-equation/e02fa3e7aa97b8602ce...   \n",
       "52313                jgwerner/julia/feat/update-packages   \n",
       "52502                      zuphilip/artikel-vorlage/make   \n",
       "52553                     obar1/books/book/9781449359034   \n",
       "52637                      ccordoba12/spyder/test-binder   \n",
       "\n",
       "                                            ref resolved_ref  \\\n",
       "70                                    messaging          404   \n",
       "87                                       master          404   \n",
       "270                                      xarray          404   \n",
       "455                                  develop_GD          404   \n",
       "785                          1595482798.3436182          404   \n",
       "...                                         ...          ...   \n",
       "52187  e02fa3e7aa97b8602ce74ee854f7ef14d9e70130          404   \n",
       "52313                      feat/update-packages          404   \n",
       "52502                                      make          404   \n",
       "52553                        book/9781449359034          404   \n",
       "52637                               test-binder          404   \n",
       "\n",
       "             resolved_date resolved_ref_date binder_dir buildpack  nbs_count  \n",
       "70     2020-07-27T11:46:00              None       None      None        NaN  \n",
       "87     2020-07-27T11:46:00              None       None      None        NaN  \n",
       "270    2020-07-27T11:49:00              None       None      None        NaN  \n",
       "455    2020-07-27T11:52:00              None       None      None        NaN  \n",
       "785    2020-07-27T11:55:00              None       None      None        NaN  \n",
       "...                    ...               ...        ...       ...        ...  \n",
       "52187  2020-07-28T03:28:00              None       None      None        NaN  \n",
       "52313  2020-07-28T03:28:00              None       None      None        NaN  \n",
       "52502  2020-07-28T03:29:00              None       None      None        NaN  \n",
       "52553  2020-07-28T03:30:00              None       None      None        NaN  \n",
       "52637  2020-07-28T03:30:00              None       None      None        NaN  \n",
       "\n",
       "[338 rows x 9 columns]"
      ]
     },
     "execution_count": 21,
     "metadata": {},
     "output_type": "execute_result"
    }
   ],
   "source": [
    "# select fork, remote_id, last_spec, resolved_ref,refs,repo_url from repo where resolved_ref=404 and fork!=404;\n",
    "repos[(repos[\"resolved_ref\"] == \"404\") & \n",
    "      (repos[\"fork\"].isin([0,1]))][[\"repo_url\", \"last_spec\", \"ref\", \"resolved_ref\",\n",
    "                                   \"resolved_date\", \"resolved_ref_date\", \"binder_dir\", \n",
    "                                    \"buildpack\", \"nbs_count\"]]"
   ]
  },
  {
   "cell_type": "markdown",
   "metadata": {},
   "source": [
    "There are repos that have same resolved ref but have different remote ids.\n",
    "\n",
    "One reason could be that a user creates a new repo with history of another repo (without using github forking)"
   ]
  },
  {
   "cell_type": "code",
   "execution_count": 22,
   "metadata": {
    "scrolled": true
   },
   "outputs": [
    {
     "data": {
      "text/html": [
       "<div>\n",
       "<style scoped>\n",
       "    .dataframe tbody tr th:only-of-type {\n",
       "        vertical-align: middle;\n",
       "    }\n",
       "\n",
       "    .dataframe tbody tr th {\n",
       "        vertical-align: top;\n",
       "    }\n",
       "\n",
       "    .dataframe thead th {\n",
       "        text-align: right;\n",
       "    }\n",
       "</style>\n",
       "<table border=\"1\" class=\"dataframe\">\n",
       "  <thead>\n",
       "    <tr style=\"text-align: right;\">\n",
       "      <th></th>\n",
       "      <th>fork</th>\n",
       "      <th>renamed</th>\n",
       "      <th>rr_count</th>\n",
       "      <th>resolved_ref</th>\n",
       "      <th>repo_urls</th>\n",
       "    </tr>\n",
       "  </thead>\n",
       "  <tbody>\n",
       "    <tr>\n",
       "      <th>0</th>\n",
       "      <td>0</td>\n",
       "      <td>0</td>\n",
       "      <td>2</td>\n",
       "      <td>051d6dc57f10b605485bea0c3565130eaf064ec8</td>\n",
       "      <td>https://github.com/data-8/materials-su18,https...</td>\n",
       "    </tr>\n",
       "    <tr>\n",
       "      <th>1</th>\n",
       "      <td>0</td>\n",
       "      <td>0</td>\n",
       "      <td>2</td>\n",
       "      <td>13b1be597a25a1ce3c99e0aa3e714514b515346f</td>\n",
       "      <td>https://github.com/teaglesj/queueing-theory,ht...</td>\n",
       "    </tr>\n",
       "    <tr>\n",
       "      <th>2</th>\n",
       "      <td>0</td>\n",
       "      <td>0</td>\n",
       "      <td>6</td>\n",
       "      <td>20095e168f0d76da5787f914684cc3b6a58ce660</td>\n",
       "      <td>https://github.com/wshuyi/demo-spacy-text-proc...</td>\n",
       "    </tr>\n",
       "    <tr>\n",
       "      <th>3</th>\n",
       "      <td>0</td>\n",
       "      <td>0</td>\n",
       "      <td>2</td>\n",
       "      <td>218183a0845ec89cd4d27e8f350ccdc595855d87</td>\n",
       "      <td>https://github.com/ines/course-starter-python,...</td>\n",
       "    </tr>\n",
       "    <tr>\n",
       "      <th>4</th>\n",
       "      <td>0</td>\n",
       "      <td>0</td>\n",
       "      <td>2</td>\n",
       "      <td>2d2668d3b9a54546c681bc27efbbc9b326af1ab1</td>\n",
       "      <td>https://github.com/deep-diver/smartwork-with-p...</td>\n",
       "    </tr>\n",
       "    <tr>\n",
       "      <th>5</th>\n",
       "      <td>0</td>\n",
       "      <td>0</td>\n",
       "      <td>2</td>\n",
       "      <td>34f27959e509527945e3f2dfa6996f5f43b93750</td>\n",
       "      <td>https://github.com/ines/course-starter-r,https...</td>\n",
       "    </tr>\n",
       "    <tr>\n",
       "      <th>6</th>\n",
       "      <td>0</td>\n",
       "      <td>0</td>\n",
       "      <td>4</td>\n",
       "      <td>36bc4827ea1b53afd099e79a91d73614a6116bfe</td>\n",
       "      <td>https://github.com/eminentspade/codingai-pub,h...</td>\n",
       "    </tr>\n",
       "    <tr>\n",
       "      <th>7</th>\n",
       "      <td>0</td>\n",
       "      <td>0</td>\n",
       "      <td>2</td>\n",
       "      <td>3a95d118f9df5a86826e1791c5c100817f0fd924</td>\n",
       "      <td>https://github.com/udacity/deep-learning-v2-py...</td>\n",
       "    </tr>\n",
       "    <tr>\n",
       "      <th>8</th>\n",
       "      <td>0</td>\n",
       "      <td>0</td>\n",
       "      <td>2</td>\n",
       "      <td>3d0c70ddaa5c63606a043aaca35b64f4272651e0</td>\n",
       "      <td>https://github.com/jason2249/section-8-a,https...</td>\n",
       "    </tr>\n",
       "    <tr>\n",
       "      <th>9</th>\n",
       "      <td>0</td>\n",
       "      <td>0</td>\n",
       "      <td>146</td>\n",
       "      <td>404</td>\n",
       "      <td>https://github.com/jiaweizhuang/geoschem-pytho...</td>\n",
       "    </tr>\n",
       "    <tr>\n",
       "      <th>10</th>\n",
       "      <td>0</td>\n",
       "      <td>0</td>\n",
       "      <td>2</td>\n",
       "      <td>407bbe93bbfd2d0a1e3bcd10e2571a61a55661aa</td>\n",
       "      <td>https://github.com/binder-examples/bokeh,https...</td>\n",
       "    </tr>\n",
       "    <tr>\n",
       "      <th>11</th>\n",
       "      <td>0</td>\n",
       "      <td>0</td>\n",
       "      <td>2</td>\n",
       "      <td>43541f4f7f0d41b7941bc2920c6cb95b3f1ae2d3</td>\n",
       "      <td>https://github.com/sungkeunlim/markjay4k,https...</td>\n",
       "    </tr>\n",
       "    <tr>\n",
       "      <th>12</th>\n",
       "      <td>0</td>\n",
       "      <td>0</td>\n",
       "      <td>2</td>\n",
       "      <td>43730859d5bc7441de486e8f66219a001e2e13a3</td>\n",
       "      <td>https://github.com/valquir/labaqua,https://git...</td>\n",
       "    </tr>\n",
       "    <tr>\n",
       "      <th>13</th>\n",
       "      <td>0</td>\n",
       "      <td>0</td>\n",
       "      <td>2</td>\n",
       "      <td>48d0455e138cc44c329ae92c486b8b5522c47b62</td>\n",
       "      <td>https://github.com/arokem/cnn,https://github.c...</td>\n",
       "    </tr>\n",
       "    <tr>\n",
       "      <th>14</th>\n",
       "      <td>0</td>\n",
       "      <td>0</td>\n",
       "      <td>2</td>\n",
       "      <td>50ebd1d9048dfbdc0cc010095a7e6fed086b0b9d</td>\n",
       "      <td>https://github.com/philot789/data_science_2,ht...</td>\n",
       "    </tr>\n",
       "    <tr>\n",
       "      <th>15</th>\n",
       "      <td>0</td>\n",
       "      <td>0</td>\n",
       "      <td>2</td>\n",
       "      <td>5a472b2aa70faf0adf4462358d9eaf3e67e8b665</td>\n",
       "      <td>https://github.com/jafar-khan/chexnet-classifi...</td>\n",
       "    </tr>\n",
       "    <tr>\n",
       "      <th>16</th>\n",
       "      <td>0</td>\n",
       "      <td>0</td>\n",
       "      <td>2</td>\n",
       "      <td>5a6e76179ad7c1facc7314900955b9410e1d58ed</td>\n",
       "      <td>https://github.com/rasbt/matplotlib-gallery,ht...</td>\n",
       "    </tr>\n",
       "    <tr>\n",
       "      <th>17</th>\n",
       "      <td>0</td>\n",
       "      <td>0</td>\n",
       "      <td>2</td>\n",
       "      <td>69f950d356a0d9372a619ea0fd90d8e03f1279b0</td>\n",
       "      <td>https://github.com/jmportilla/python-for-algor...</td>\n",
       "    </tr>\n",
       "    <tr>\n",
       "      <th>18</th>\n",
       "      <td>0</td>\n",
       "      <td>0</td>\n",
       "      <td>2</td>\n",
       "      <td>747c506eb978dd2986d34cecccf988b37eb10533</td>\n",
       "      <td>https://github.com/ug4/xeus-ug4,https://github...</td>\n",
       "    </tr>\n",
       "    <tr>\n",
       "      <th>19</th>\n",
       "      <td>0</td>\n",
       "      <td>0</td>\n",
       "      <td>2</td>\n",
       "      <td>8a30b90fed187aaddaaf1fc868ec8e0ac92bca40</td>\n",
       "      <td>https://github.com/fchollet/deep-learning-with...</td>\n",
       "    </tr>\n",
       "    <tr>\n",
       "      <th>20</th>\n",
       "      <td>0</td>\n",
       "      <td>0</td>\n",
       "      <td>2</td>\n",
       "      <td>997fdb2e2db67acd45d29ae418212463a54be06d</td>\n",
       "      <td>https://github.com/kulbear/deep-learning-cours...</td>\n",
       "    </tr>\n",
       "    <tr>\n",
       "      <th>21</th>\n",
       "      <td>0</td>\n",
       "      <td>0</td>\n",
       "      <td>3</td>\n",
       "      <td>ae97e2fb6eb11671016c3abf492d22a9fae743b0</td>\n",
       "      <td>https://github.com/steffens/conda,https://gith...</td>\n",
       "    </tr>\n",
       "    <tr>\n",
       "      <th>22</th>\n",
       "      <td>0</td>\n",
       "      <td>0</td>\n",
       "      <td>2</td>\n",
       "      <td>b1e1fa75ca6982f3170254d70c87be52d525d743</td>\n",
       "      <td>https://github.com/shubh-kr/machinelearningusi...</td>\n",
       "    </tr>\n",
       "    <tr>\n",
       "      <th>23</th>\n",
       "      <td>0</td>\n",
       "      <td>0</td>\n",
       "      <td>2</td>\n",
       "      <td>b33a43a49b29ac6d89f04675584fa6a6ed192750</td>\n",
       "      <td>https://github.com/geo-python-2018/exercise-1-...</td>\n",
       "    </tr>\n",
       "    <tr>\n",
       "      <th>24</th>\n",
       "      <td>0</td>\n",
       "      <td>0</td>\n",
       "      <td>2</td>\n",
       "      <td>bf06a6d12a02baea17a4e31fce954cf691c74392</td>\n",
       "      <td>https://github.com/justmarkham/pycon-2018-tuto...</td>\n",
       "    </tr>\n",
       "    <tr>\n",
       "      <th>25</th>\n",
       "      <td>0</td>\n",
       "      <td>0</td>\n",
       "      <td>3</td>\n",
       "      <td>c2407e5f71f48d23e029eb66d0beb366bcb0e3c9</td>\n",
       "      <td>https://github.com/savignesh/python-bootcamp,h...</td>\n",
       "    </tr>\n",
       "    <tr>\n",
       "      <th>26</th>\n",
       "      <td>0</td>\n",
       "      <td>0</td>\n",
       "      <td>2</td>\n",
       "      <td>dca67de2fe644ae68cc50d3baab067effa47f30e</td>\n",
       "      <td>https://github.com/tyarkoni/ssi2019,https://gi...</td>\n",
       "    </tr>\n",
       "    <tr>\n",
       "      <th>27</th>\n",
       "      <td>0</td>\n",
       "      <td>0</td>\n",
       "      <td>2</td>\n",
       "      <td>e2ffee0673e854492ddaa0d65609f2035f59dda5</td>\n",
       "      <td>https://github.com/dchaimow/columnsfmri,https:...</td>\n",
       "    </tr>\n",
       "    <tr>\n",
       "      <th>28</th>\n",
       "      <td>0</td>\n",
       "      <td>0</td>\n",
       "      <td>2</td>\n",
       "      <td>e31ba16f650e1a25c52842962af2d7c1ae772522</td>\n",
       "      <td>https://github.com/biof309/group-project-marie...</td>\n",
       "    </tr>\n",
       "    <tr>\n",
       "      <th>29</th>\n",
       "      <td>0</td>\n",
       "      <td>0</td>\n",
       "      <td>2</td>\n",
       "      <td>e8dd7fb8a10c3106754ee5adda16f7db33e65be8</td>\n",
       "      <td>https://github.com/taflong/bi393,https://githu...</td>\n",
       "    </tr>\n",
       "    <tr>\n",
       "      <th>30</th>\n",
       "      <td>0</td>\n",
       "      <td>0</td>\n",
       "      <td>2</td>\n",
       "      <td>ef75c7441c84552edc437cf54da061e57d4ccea8</td>\n",
       "      <td>https://github.com/fastai/bear_voila,https://g...</td>\n",
       "    </tr>\n",
       "    <tr>\n",
       "      <th>31</th>\n",
       "      <td>0</td>\n",
       "      <td>0</td>\n",
       "      <td>2</td>\n",
       "      <td>f4ae4357f9c750bdf402b8cd1f7c269306357c8a</td>\n",
       "      <td>https://github.com/dokturpjoter/test_1,https:/...</td>\n",
       "    </tr>\n",
       "    <tr>\n",
       "      <th>32</th>\n",
       "      <td>0</td>\n",
       "      <td>0</td>\n",
       "      <td>5</td>\n",
       "      <td>fd884086961ceb1a8b884c5dae3eda615c319ec6</td>\n",
       "      <td>https://github.com/eminentspade/codingai-pub1t...</td>\n",
       "    </tr>\n",
       "    <tr>\n",
       "      <th>33</th>\n",
       "      <td>0</td>\n",
       "      <td>0</td>\n",
       "      <td>2</td>\n",
       "      <td>fe9d730f31d950528b771ba5b7cf39de72cd8b1b</td>\n",
       "      <td>https://github.com/kisgyorgy/ai_learn,https://...</td>\n",
       "    </tr>\n",
       "  </tbody>\n",
       "</table>\n",
       "</div>"
      ],
      "text/plain": [
       "    fork  renamed  rr_count                              resolved_ref  \\\n",
       "0      0        0         2  051d6dc57f10b605485bea0c3565130eaf064ec8   \n",
       "1      0        0         2  13b1be597a25a1ce3c99e0aa3e714514b515346f   \n",
       "2      0        0         6  20095e168f0d76da5787f914684cc3b6a58ce660   \n",
       "3      0        0         2  218183a0845ec89cd4d27e8f350ccdc595855d87   \n",
       "4      0        0         2  2d2668d3b9a54546c681bc27efbbc9b326af1ab1   \n",
       "5      0        0         2  34f27959e509527945e3f2dfa6996f5f43b93750   \n",
       "6      0        0         4  36bc4827ea1b53afd099e79a91d73614a6116bfe   \n",
       "7      0        0         2  3a95d118f9df5a86826e1791c5c100817f0fd924   \n",
       "8      0        0         2  3d0c70ddaa5c63606a043aaca35b64f4272651e0   \n",
       "9      0        0       146                                       404   \n",
       "10     0        0         2  407bbe93bbfd2d0a1e3bcd10e2571a61a55661aa   \n",
       "11     0        0         2  43541f4f7f0d41b7941bc2920c6cb95b3f1ae2d3   \n",
       "12     0        0         2  43730859d5bc7441de486e8f66219a001e2e13a3   \n",
       "13     0        0         2  48d0455e138cc44c329ae92c486b8b5522c47b62   \n",
       "14     0        0         2  50ebd1d9048dfbdc0cc010095a7e6fed086b0b9d   \n",
       "15     0        0         2  5a472b2aa70faf0adf4462358d9eaf3e67e8b665   \n",
       "16     0        0         2  5a6e76179ad7c1facc7314900955b9410e1d58ed   \n",
       "17     0        0         2  69f950d356a0d9372a619ea0fd90d8e03f1279b0   \n",
       "18     0        0         2  747c506eb978dd2986d34cecccf988b37eb10533   \n",
       "19     0        0         2  8a30b90fed187aaddaaf1fc868ec8e0ac92bca40   \n",
       "20     0        0         2  997fdb2e2db67acd45d29ae418212463a54be06d   \n",
       "21     0        0         3  ae97e2fb6eb11671016c3abf492d22a9fae743b0   \n",
       "22     0        0         2  b1e1fa75ca6982f3170254d70c87be52d525d743   \n",
       "23     0        0         2  b33a43a49b29ac6d89f04675584fa6a6ed192750   \n",
       "24     0        0         2  bf06a6d12a02baea17a4e31fce954cf691c74392   \n",
       "25     0        0         3  c2407e5f71f48d23e029eb66d0beb366bcb0e3c9   \n",
       "26     0        0         2  dca67de2fe644ae68cc50d3baab067effa47f30e   \n",
       "27     0        0         2  e2ffee0673e854492ddaa0d65609f2035f59dda5   \n",
       "28     0        0         2  e31ba16f650e1a25c52842962af2d7c1ae772522   \n",
       "29     0        0         2  e8dd7fb8a10c3106754ee5adda16f7db33e65be8   \n",
       "30     0        0         2  ef75c7441c84552edc437cf54da061e57d4ccea8   \n",
       "31     0        0         2  f4ae4357f9c750bdf402b8cd1f7c269306357c8a   \n",
       "32     0        0         5  fd884086961ceb1a8b884c5dae3eda615c319ec6   \n",
       "33     0        0         2  fe9d730f31d950528b771ba5b7cf39de72cd8b1b   \n",
       "\n",
       "                                            repo_urls  \n",
       "0   https://github.com/data-8/materials-su18,https...  \n",
       "1   https://github.com/teaglesj/queueing-theory,ht...  \n",
       "2   https://github.com/wshuyi/demo-spacy-text-proc...  \n",
       "3   https://github.com/ines/course-starter-python,...  \n",
       "4   https://github.com/deep-diver/smartwork-with-p...  \n",
       "5   https://github.com/ines/course-starter-r,https...  \n",
       "6   https://github.com/eminentspade/codingai-pub,h...  \n",
       "7   https://github.com/udacity/deep-learning-v2-py...  \n",
       "8   https://github.com/jason2249/section-8-a,https...  \n",
       "9   https://github.com/jiaweizhuang/geoschem-pytho...  \n",
       "10  https://github.com/binder-examples/bokeh,https...  \n",
       "11  https://github.com/sungkeunlim/markjay4k,https...  \n",
       "12  https://github.com/valquir/labaqua,https://git...  \n",
       "13  https://github.com/arokem/cnn,https://github.c...  \n",
       "14  https://github.com/philot789/data_science_2,ht...  \n",
       "15  https://github.com/jafar-khan/chexnet-classifi...  \n",
       "16  https://github.com/rasbt/matplotlib-gallery,ht...  \n",
       "17  https://github.com/jmportilla/python-for-algor...  \n",
       "18  https://github.com/ug4/xeus-ug4,https://github...  \n",
       "19  https://github.com/fchollet/deep-learning-with...  \n",
       "20  https://github.com/kulbear/deep-learning-cours...  \n",
       "21  https://github.com/steffens/conda,https://gith...  \n",
       "22  https://github.com/shubh-kr/machinelearningusi...  \n",
       "23  https://github.com/geo-python-2018/exercise-1-...  \n",
       "24  https://github.com/justmarkham/pycon-2018-tuto...  \n",
       "25  https://github.com/savignesh/python-bootcamp,h...  \n",
       "26  https://github.com/tyarkoni/ssi2019,https://gi...  \n",
       "27  https://github.com/dchaimow/columnsfmri,https:...  \n",
       "28  https://github.com/biof309/group-project-marie...  \n",
       "29  https://github.com/taflong/bi393,https://githu...  \n",
       "30  https://github.com/fastai/bear_voila,https://g...  \n",
       "31  https://github.com/dokturpjoter/test_1,https:/...  \n",
       "32  https://github.com/eminentspade/codingai-pub1t...  \n",
       "33  https://github.com/kisgyorgy/ai_learn,https://...  "
      ]
     },
     "execution_count": 22,
     "metadata": {},
     "output_type": "execute_result"
    }
   ],
   "source": [
    "query = f'select fork, renamed, count(resolved_ref) as rr_count, resolved_ref, '\\\n",
    "                 f'GROUP_CONCAT(DISTINCT repo_url) AS repo_urls '\\\n",
    "        f'from {repo_table} '\\\n",
    "        f'where fork=0 AND renamed=0 '\\\n",
    "        f'group by \"resolved_ref\" '\\\n",
    "        f'having rr_count>1;'\n",
    "pd.read_sql_query(query, db.conn)\n",
    "# query = 'select fork, renamed, count(resolved_ref) as rrn_count, resolved_ref, GROUP_CONCAT(DISTINCT repo_url) AS repo_urls from repo where fork!=1 AND renamed!=1 group by \"resolved_ref\" having rrn_count>1;'\n",
    "# pd.read_sql_query(query, db.conn)"
   ]
  },
  {
   "cell_type": "markdown",
   "metadata": {},
   "source": [
    "#### Renamed repos\n",
    "If repo x is renamed to y, then both rows have same \"remote_id\" and have \"renamed\" as \"number of times that repo is renamed\""
   ]
  },
  {
   "cell_type": "code",
   "execution_count": 23,
   "metadata": {},
   "outputs": [
    {
     "data": {
      "text/plain": [
       "renamed\n",
       "-1.0     6053\n",
       " 0.0    44519\n",
       " 1.0     1890\n",
       " 2.0      165\n",
       " 3.0       12\n",
       "dtype: int64"
      ]
     },
     "execution_count": 23,
     "metadata": {},
     "output_type": "execute_result"
    }
   ],
   "source": [
    "repos.fillna(-1).groupby(\"renamed\").size()"
   ]
  },
  {
   "cell_type": "code",
   "execution_count": 24,
   "metadata": {},
   "outputs": [
    {
     "data": {
      "text/plain": [
       "fork\n",
       "404    6051\n",
       "451       2\n",
       "dtype: int64"
      ]
     },
     "execution_count": 24,
     "metadata": {},
     "output_type": "execute_result"
    }
   ],
   "source": [
    "# if renamed info is not available, this means repo doesnt exists\n",
    "repos[repos[\"renamed\"].isnull()].groupby(\"fork\", as_index = False).size()"
   ]
  },
  {
   "cell_type": "code",
   "execution_count": 25,
   "metadata": {},
   "outputs": [
    {
     "data": {
      "text/html": [
       "<div>\n",
       "<style scoped>\n",
       "    .dataframe tbody tr th:only-of-type {\n",
       "        vertical-align: middle;\n",
       "    }\n",
       "\n",
       "    .dataframe tbody tr th {\n",
       "        vertical-align: top;\n",
       "    }\n",
       "\n",
       "    .dataframe thead th {\n",
       "        text-align: right;\n",
       "    }\n",
       "</style>\n",
       "<table border=\"1\" class=\"dataframe\">\n",
       "  <thead>\n",
       "    <tr style=\"text-align: right;\">\n",
       "      <th></th>\n",
       "      <th>fork</th>\n",
       "      <th>renamed</th>\n",
       "      <th>remote_id</th>\n",
       "      <th>repo_urls</th>\n",
       "    </tr>\n",
       "  </thead>\n",
       "  <tbody>\n",
       "    <tr>\n",
       "      <th>0</th>\n",
       "      <td>0</td>\n",
       "      <td>1</td>\n",
       "      <td>102113664</td>\n",
       "      <td>https://github.com/eamonnmag/cern-csc-2018,htt...</td>\n",
       "    </tr>\n",
       "    <tr>\n",
       "      <th>1</th>\n",
       "      <td>0</td>\n",
       "      <td>1</td>\n",
       "      <td>102488943</td>\n",
       "      <td>https://github.com/belfasttechtraining/python-...</td>\n",
       "    </tr>\n",
       "    <tr>\n",
       "      <th>2</th>\n",
       "      <td>0</td>\n",
       "      <td>2</td>\n",
       "      <td>103228562</td>\n",
       "      <td>https://github.com/rambasnet/thinkpythonnotebo...</td>\n",
       "    </tr>\n",
       "    <tr>\n",
       "      <th>3</th>\n",
       "      <td>0</td>\n",
       "      <td>1</td>\n",
       "      <td>103370184</td>\n",
       "      <td>https://github.com/stklik/crest,https://github...</td>\n",
       "    </tr>\n",
       "    <tr>\n",
       "      <th>4</th>\n",
       "      <td>0</td>\n",
       "      <td>1</td>\n",
       "      <td>103943609</td>\n",
       "      <td>https://github.com/jordan-melendez/gsum,https:...</td>\n",
       "    </tr>\n",
       "    <tr>\n",
       "      <th>...</th>\n",
       "      <td>...</td>\n",
       "      <td>...</td>\n",
       "      <td>...</td>\n",
       "      <td>...</td>\n",
       "    </tr>\n",
       "    <tr>\n",
       "      <th>998</th>\n",
       "      <td>0</td>\n",
       "      <td>1</td>\n",
       "      <td>98531561</td>\n",
       "      <td>https://github.com/quantstack/xwidgets,https:/...</td>\n",
       "    </tr>\n",
       "    <tr>\n",
       "      <th>999</th>\n",
       "      <td>0</td>\n",
       "      <td>1</td>\n",
       "      <td>99154413</td>\n",
       "      <td>https://github.com/swyddfa/stylo,https://githu...</td>\n",
       "    </tr>\n",
       "    <tr>\n",
       "      <th>1000</th>\n",
       "      <td>0</td>\n",
       "      <td>2</td>\n",
       "      <td>99244384</td>\n",
       "      <td>https://github.com/qiskit/qiskit-tutorial,http...</td>\n",
       "    </tr>\n",
       "    <tr>\n",
       "      <th>1001</th>\n",
       "      <td>0</td>\n",
       "      <td>1</td>\n",
       "      <td>d47484ac43a964fcea6547f36a5fdaa0</td>\n",
       "      <td>https://gist.github.com/akuzmanoski/d47484ac43...</td>\n",
       "    </tr>\n",
       "    <tr>\n",
       "      <th>1002</th>\n",
       "      <td>0</td>\n",
       "      <td>1</td>\n",
       "      <td>f7dfbc33bf08158057a4e1517cdd4189</td>\n",
       "      <td>https://gist.github.com/rutuja027/f7dfbc33bf08...</td>\n",
       "    </tr>\n",
       "  </tbody>\n",
       "</table>\n",
       "<p>1003 rows × 4 columns</p>\n",
       "</div>"
      ],
      "text/plain": [
       "      fork  renamed                         remote_id  \\\n",
       "0        0        1                         102113664   \n",
       "1        0        1                         102488943   \n",
       "2        0        2                         103228562   \n",
       "3        0        1                         103370184   \n",
       "4        0        1                         103943609   \n",
       "...    ...      ...                               ...   \n",
       "998      0        1                          98531561   \n",
       "999      0        1                          99154413   \n",
       "1000     0        2                          99244384   \n",
       "1001     0        1  d47484ac43a964fcea6547f36a5fdaa0   \n",
       "1002     0        1  f7dfbc33bf08158057a4e1517cdd4189   \n",
       "\n",
       "                                              repo_urls  \n",
       "0     https://github.com/eamonnmag/cern-csc-2018,htt...  \n",
       "1     https://github.com/belfasttechtraining/python-...  \n",
       "2     https://github.com/rambasnet/thinkpythonnotebo...  \n",
       "3     https://github.com/stklik/crest,https://github...  \n",
       "4     https://github.com/jordan-melendez/gsum,https:...  \n",
       "...                                                 ...  \n",
       "998   https://github.com/quantstack/xwidgets,https:/...  \n",
       "999   https://github.com/swyddfa/stylo,https://githu...  \n",
       "1000  https://github.com/qiskit/qiskit-tutorial,http...  \n",
       "1001  https://gist.github.com/akuzmanoski/d47484ac43...  \n",
       "1002  https://gist.github.com/rutuja027/f7dfbc33bf08...  \n",
       "\n",
       "[1003 rows x 4 columns]"
      ]
     },
     "execution_count": 25,
     "metadata": {},
     "output_type": "execute_result"
    }
   ],
   "source": [
    "# list renamed repos\n",
    "query = 'select fork, renamed, remote_id, GROUP_CONCAT(DISTINCT repo_url) AS repo_urls from repo where renamed!=0 group by \"remote_id\";'\n",
    "pd.read_sql_query(query, db.conn)"
   ]
  },
  {
   "cell_type": "code",
   "execution_count": 26,
   "metadata": {},
   "outputs": [
    {
     "data": {
      "text/html": [
       "<div>\n",
       "<style scoped>\n",
       "    .dataframe tbody tr th:only-of-type {\n",
       "        vertical-align: middle;\n",
       "    }\n",
       "\n",
       "    .dataframe tbody tr th {\n",
       "        vertical-align: top;\n",
       "    }\n",
       "\n",
       "    .dataframe thead th {\n",
       "        text-align: right;\n",
       "    }\n",
       "</style>\n",
       "<table border=\"1\" class=\"dataframe\">\n",
       "  <thead>\n",
       "    <tr style=\"text-align: right;\">\n",
       "      <th></th>\n",
       "      <th>fork</th>\n",
       "      <th>renamed</th>\n",
       "      <th>remote_id</th>\n",
       "      <th>repo_url</th>\n",
       "    </tr>\n",
       "  </thead>\n",
       "  <tbody>\n",
       "    <tr>\n",
       "      <th>0</th>\n",
       "      <td>0</td>\n",
       "      <td>1.0</td>\n",
       "      <td>102113664</td>\n",
       "      <td>https://github.com/eamonnmag/cern-csc-2018,htt...</td>\n",
       "    </tr>\n",
       "    <tr>\n",
       "      <th>1</th>\n",
       "      <td>0</td>\n",
       "      <td>1.0</td>\n",
       "      <td>102488943</td>\n",
       "      <td>https://github.com/belfasttechtraining/python-...</td>\n",
       "    </tr>\n",
       "    <tr>\n",
       "      <th>2</th>\n",
       "      <td>0</td>\n",
       "      <td>1.0</td>\n",
       "      <td>103370184</td>\n",
       "      <td>https://github.com/stklik/crest,https://github...</td>\n",
       "    </tr>\n",
       "    <tr>\n",
       "      <th>3</th>\n",
       "      <td>0</td>\n",
       "      <td>1.0</td>\n",
       "      <td>103943609</td>\n",
       "      <td>https://github.com/jordan-melendez/gsum,https:...</td>\n",
       "    </tr>\n",
       "    <tr>\n",
       "      <th>4</th>\n",
       "      <td>0</td>\n",
       "      <td>1.0</td>\n",
       "      <td>104022893</td>\n",
       "      <td>https://github.com/moeshana/shana_php,https://...</td>\n",
       "    </tr>\n",
       "    <tr>\n",
       "      <th>...</th>\n",
       "      <td>...</td>\n",
       "      <td>...</td>\n",
       "      <td>...</td>\n",
       "      <td>...</td>\n",
       "    </tr>\n",
       "    <tr>\n",
       "      <th>998</th>\n",
       "      <td>1</td>\n",
       "      <td>1.0</td>\n",
       "      <td>98225713</td>\n",
       "      <td>https://github.com/alleninstitute/multipatch_a...</td>\n",
       "    </tr>\n",
       "    <tr>\n",
       "      <th>999</th>\n",
       "      <td>1</td>\n",
       "      <td>2.0</td>\n",
       "      <td>159360441</td>\n",
       "      <td>https://github.com/keckelt/python-tutorial-va2...</td>\n",
       "    </tr>\n",
       "    <tr>\n",
       "      <th>1000</th>\n",
       "      <td>1</td>\n",
       "      <td>2.0</td>\n",
       "      <td>171341996</td>\n",
       "      <td>https://github.com/astrobiomike/conda,https://...</td>\n",
       "    </tr>\n",
       "    <tr>\n",
       "      <th>1001</th>\n",
       "      <td>1</td>\n",
       "      <td>2.0</td>\n",
       "      <td>183420043</td>\n",
       "      <td>https://github.com/tsyshiu/python3,https://git...</td>\n",
       "    </tr>\n",
       "    <tr>\n",
       "      <th>1002</th>\n",
       "      <td>1</td>\n",
       "      <td>2.0</td>\n",
       "      <td>95946535</td>\n",
       "      <td>https://github.com/binder-examples/julia-pytho...</td>\n",
       "    </tr>\n",
       "  </tbody>\n",
       "</table>\n",
       "<p>1003 rows × 4 columns</p>\n",
       "</div>"
      ],
      "text/plain": [
       "      fork  renamed  remote_id  \\\n",
       "0        0      1.0  102113664   \n",
       "1        0      1.0  102488943   \n",
       "2        0      1.0  103370184   \n",
       "3        0      1.0  103943609   \n",
       "4        0      1.0  104022893   \n",
       "...    ...      ...        ...   \n",
       "998      1      1.0   98225713   \n",
       "999      1      2.0  159360441   \n",
       "1000     1      2.0  171341996   \n",
       "1001     1      2.0  183420043   \n",
       "1002     1      2.0   95946535   \n",
       "\n",
       "                                               repo_url  \n",
       "0     https://github.com/eamonnmag/cern-csc-2018,htt...  \n",
       "1     https://github.com/belfasttechtraining/python-...  \n",
       "2     https://github.com/stklik/crest,https://github...  \n",
       "3     https://github.com/jordan-melendez/gsum,https:...  \n",
       "4     https://github.com/moeshana/shana_php,https://...  \n",
       "...                                                 ...  \n",
       "998   https://github.com/alleninstitute/multipatch_a...  \n",
       "999   https://github.com/keckelt/python-tutorial-va2...  \n",
       "1000  https://github.com/astrobiomike/conda,https://...  \n",
       "1001  https://github.com/tsyshiu/python3,https://git...  \n",
       "1002  https://github.com/binder-examples/julia-pytho...  \n",
       "\n",
       "[1003 rows x 4 columns]"
      ]
     },
     "execution_count": 26,
     "metadata": {},
     "output_type": "execute_result"
    }
   ],
   "source": [
    "# list renamed repos (in pandas)\n",
    "repos[repos[\"renamed\"] != 0].\\\n",
    "    groupby([\"fork\", \"renamed\", \"remote_id\"])[\"repo_url\"].\\\n",
    "    apply(\",\".join).reset_index()"
   ]
  },
  {
   "cell_type": "markdown",
   "metadata": {},
   "source": [
    "### Number of repos"
   ]
  },
  {
   "cell_type": "code",
   "execution_count": 27,
   "metadata": {},
   "outputs": [
    {
     "data": {
      "text/plain": [
       "52639"
      ]
     },
     "execution_count": 27,
     "metadata": {},
     "output_type": "execute_result"
    }
   ],
   "source": [
    "# db[repo_table].count\n",
    "len(repos)"
   ]
  },
  {
   "cell_type": "markdown",
   "metadata": {},
   "source": [
    "### Number of unique repos"
   ]
  },
  {
   "cell_type": "code",
   "execution_count": 28,
   "metadata": {},
   "outputs": [
    {
     "data": {
      "text/plain": [
       "45522"
      ]
     },
     "execution_count": 28,
     "metadata": {},
     "output_type": "execute_result"
    }
   ],
   "source": [
    "# renamed repos have the same remote_id\n",
    "len(repos.groupby(\"remote_id\"))"
   ]
  },
  {
   "cell_type": "code",
   "execution_count": 29,
   "metadata": {},
   "outputs": [],
   "source": [
    "# query = f\"select count(*) from (select * from {repo_table} where remote_id is not null group by remote_id);\"\n",
    "# db.conn.execute(query).fetchone()"
   ]
  },
  {
   "cell_type": "code",
   "execution_count": 30,
   "metadata": {},
   "outputs": [
    {
     "data": {
      "text/plain": [
       "(40731,)"
      ]
     },
     "execution_count": 30,
     "metadata": {},
     "output_type": "execute_result"
    }
   ],
   "source": [
    "# unique repos which are not fork\n",
    "query = f\"select count(*) from (select * from {repo_table} where remote_id is not null group by remote_id) where fork=0;\"\n",
    "db.conn.execute(query).fetchone()"
   ]
  },
  {
   "cell_type": "markdown",
   "metadata": {},
   "source": [
    "### Number of notebooks"
   ]
  },
  {
   "cell_type": "code",
   "execution_count": 31,
   "metadata": {},
   "outputs": [],
   "source": [
    "query = f'SELECT * FROM {notebook_table} ORDER BY repo_id;'\n",
    "notebooks = pd.read_sql_query(query, db.conn)"
   ]
  },
  {
   "cell_type": "code",
   "execution_count": 32,
   "metadata": {},
   "outputs": [
    {
     "data": {
      "text/plain": [
       "424776"
      ]
     },
     "execution_count": 32,
     "metadata": {},
     "output_type": "execute_result"
    }
   ],
   "source": [
    "len(notebooks)"
   ]
  },
  {
   "cell_type": "code",
   "execution_count": 33,
   "metadata": {},
   "outputs": [
    {
     "data": {
      "text/html": [
       "<div>\n",
       "<style scoped>\n",
       "    .dataframe tbody tr th:only-of-type {\n",
       "        vertical-align: middle;\n",
       "    }\n",
       "\n",
       "    .dataframe tbody tr th {\n",
       "        vertical-align: top;\n",
       "    }\n",
       "\n",
       "    .dataframe thead th {\n",
       "        text-align: right;\n",
       "    }\n",
       "</style>\n",
       "<table border=\"1\" class=\"dataframe\">\n",
       "  <thead>\n",
       "    <tr style=\"text-align: right;\">\n",
       "      <th></th>\n",
       "      <th>repo_id</th>\n",
       "      <th>nb_rel_path</th>\n",
       "    </tr>\n",
       "  </thead>\n",
       "  <tbody>\n",
       "    <tr>\n",
       "      <th>0</th>\n",
       "      <td>1</td>\n",
       "      <td>Index.ipynb</td>\n",
       "    </tr>\n",
       "    <tr>\n",
       "      <th>1</th>\n",
       "      <td>1</td>\n",
       "      <td>examples/Index.ipynb</td>\n",
       "    </tr>\n",
       "    <tr>\n",
       "      <th>2</th>\n",
       "      <td>1</td>\n",
       "      <td>examples/Parallel Computing/Index.ipynb</td>\n",
       "    </tr>\n",
       "    <tr>\n",
       "      <th>3</th>\n",
       "      <td>1</td>\n",
       "      <td>examples/Parallel Computing/Monitoring an MPI ...</td>\n",
       "    </tr>\n",
       "    <tr>\n",
       "      <th>4</th>\n",
       "      <td>1</td>\n",
       "      <td>examples/Parallel Computing/Monte Carlo Option...</td>\n",
       "    </tr>\n",
       "  </tbody>\n",
       "</table>\n",
       "</div>"
      ],
      "text/plain": [
       "   repo_id                                        nb_rel_path\n",
       "0        1                                        Index.ipynb\n",
       "1        1                               examples/Index.ipynb\n",
       "2        1            examples/Parallel Computing/Index.ipynb\n",
       "3        1  examples/Parallel Computing/Monitoring an MPI ...\n",
       "4        1  examples/Parallel Computing/Monte Carlo Option..."
      ]
     },
     "execution_count": 33,
     "metadata": {},
     "output_type": "execute_result"
    }
   ],
   "source": [
    "notebooks.head()"
   ]
  },
  {
   "cell_type": "code",
   "execution_count": 34,
   "metadata": {},
   "outputs": [
    {
     "data": {
      "text/html": [
       "<div>\n",
       "<style scoped>\n",
       "    .dataframe tbody tr th:only-of-type {\n",
       "        vertical-align: middle;\n",
       "    }\n",
       "\n",
       "    .dataframe tbody tr th {\n",
       "        vertical-align: top;\n",
       "    }\n",
       "\n",
       "    .dataframe thead th {\n",
       "        text-align: right;\n",
       "    }\n",
       "</style>\n",
       "<table border=\"1\" class=\"dataframe\">\n",
       "  <thead>\n",
       "    <tr style=\"text-align: right;\">\n",
       "      <th></th>\n",
       "      <th>nbs</th>\n",
       "    </tr>\n",
       "    <tr>\n",
       "      <th>repo_id</th>\n",
       "      <th></th>\n",
       "    </tr>\n",
       "  </thead>\n",
       "  <tbody>\n",
       "    <tr>\n",
       "      <th>1</th>\n",
       "      <td>94</td>\n",
       "    </tr>\n",
       "    <tr>\n",
       "      <th>2</th>\n",
       "      <td>63</td>\n",
       "    </tr>\n",
       "    <tr>\n",
       "      <th>4</th>\n",
       "      <td>6</td>\n",
       "    </tr>\n",
       "    <tr>\n",
       "      <th>5</th>\n",
       "      <td>18</td>\n",
       "    </tr>\n",
       "    <tr>\n",
       "      <th>6</th>\n",
       "      <td>2</td>\n",
       "    </tr>\n",
       "  </tbody>\n",
       "</table>\n",
       "</div>"
      ],
      "text/plain": [
       "         nbs\n",
       "repo_id     \n",
       "1         94\n",
       "2         63\n",
       "4          6\n",
       "5         18\n",
       "6          2"
      ]
     },
     "execution_count": 34,
     "metadata": {},
     "output_type": "execute_result"
    }
   ],
   "source": [
    "repo_nbs = notebooks.groupby(\"repo_id\").size().to_frame(name=\"nbs\")\n",
    "repo_nbs.head()"
   ]
  },
  {
   "cell_type": "code",
   "execution_count": 35,
   "metadata": {},
   "outputs": [
    {
     "data": {
      "text/plain": [
       "1515"
      ]
     },
     "execution_count": 35,
     "metadata": {},
     "output_type": "execute_result"
    }
   ],
   "source": [
    "len(repo_nbs[repo_nbs[\"nbs\"] >= 50])\n",
    "# len(repos[repos[\"nbs_count\"]>=50])"
   ]
  },
  {
   "cell_type": "code",
   "execution_count": 36,
   "metadata": {},
   "outputs": [
    {
     "data": {
      "text/plain": [
       "44726"
      ]
     },
     "execution_count": 36,
     "metadata": {},
     "output_type": "execute_result"
    }
   ],
   "source": [
    "len(repos[repos[\"nbs_count\"]<50])"
   ]
  },
  {
   "cell_type": "code",
   "execution_count": 37,
   "metadata": {
    "scrolled": true
   },
   "outputs": [
    {
     "data": {
      "text/plain": [
       "7171"
      ]
     },
     "execution_count": 37,
     "metadata": {},
     "output_type": "execute_result"
    }
   ],
   "source": [
    "# repo contains 0 notebook\n",
    "len(repos[repos[\"nbs_count\"] == 0])\n",
    "# len(repos[(repos[\"nbs_count\"] == 0) & (repos[\"launch_count\"] >= 10)])"
   ]
  },
  {
   "cell_type": "code",
   "execution_count": 38,
   "metadata": {},
   "outputs": [
    {
     "data": {
      "text/plain": [
       "39070"
      ]
     },
     "execution_count": 38,
     "metadata": {},
     "output_type": "execute_result"
    }
   ],
   "source": [
    "# len(repos[~repos[\"nbs_count\"].isnull() & (repos[\"nbs_count\"] != 0)])\n",
    "len(repos[repos[\"nbs_count\"]>0])"
   ]
  },
  {
   "cell_type": "code",
   "execution_count": 39,
   "metadata": {},
   "outputs": [
    {
     "data": {
      "text/plain": [
       "6398"
      ]
     },
     "execution_count": 39,
     "metadata": {},
     "output_type": "execute_result"
    }
   ],
   "source": [
    "# fork or resolved_ref not available\n",
    "len(repos[repos[\"nbs_count\"].isnull()])"
   ]
  },
  {
   "cell_type": "code",
   "execution_count": 40,
   "metadata": {},
   "outputs": [
    {
     "data": {
      "text/plain": [
       "array([[<AxesSubplot:title={'center':'nbs_count'}>]], dtype=object)"
      ]
     },
     "execution_count": 40,
     "metadata": {},
     "output_type": "execute_result"
    },
    {
     "data": {
      "image/png": "[encoded data removed]",
      "text/plain": [
       "<Figure size 432x288 with 1 Axes>"
      ]
     },
     "metadata": {},
     "output_type": "display_data"
    }
   ],
   "source": [
    "x = repos[(repos[\"nbs_count\"].notnull()) & (repos[\"nbs_count\"]<50)]\n",
    "x.hist(column=\"nbs_count\", bins=20)"
   ]
  },
  {
   "cell_type": "code",
   "execution_count": 41,
   "metadata": {},
   "outputs": [
    {
     "data": {
      "image/png": "[encoded data removed]",
      "text/plain": [
       "<Figure size 432x288 with 1 Axes>"
      ]
     },
     "metadata": {},
     "output_type": "display_data"
    }
   ],
   "source": [
    "sns.distplot(x[\"nbs_count\"]);"
   ]
  },
  {
   "cell_type": "markdown",
   "metadata": {},
   "source": [
    "### Number of launches"
   ]
  },
  {
   "cell_type": "code",
   "execution_count": 42,
   "metadata": {
    "scrolled": true
   },
   "outputs": [
    {
     "data": {
      "text/plain": [
       "36575"
      ]
     },
     "execution_count": 42,
     "metadata": {},
     "output_type": "execute_result"
    }
   ],
   "source": [
    "len(repos[repos[\"launch_count\"] < 10])"
   ]
  },
  {
   "cell_type": "code",
   "execution_count": 43,
   "metadata": {},
   "outputs": [
    {
     "data": {
      "text/plain": [
       "16064"
      ]
     },
     "execution_count": 43,
     "metadata": {},
     "output_type": "execute_result"
    }
   ],
   "source": [
    "len(repos[repos[\"launch_count\"] >= 10])"
   ]
  },
  {
   "cell_type": "code",
   "execution_count": 44,
   "metadata": {
    "scrolled": true
   },
   "outputs": [
    {
     "data": {
      "text/plain": [
       "14371"
      ]
     },
     "execution_count": 44,
     "metadata": {},
     "output_type": "execute_result"
    }
   ],
   "source": [
    "len(repos[(repos[\"nbs_count\"] < 50) & (repos[\"launch_count\"] >= 10)])"
   ]
  },
  {
   "cell_type": "code",
   "execution_count": 45,
   "metadata": {},
   "outputs": [
    {
     "data": {
      "text/plain": [
       "array([[<AxesSubplot:title={'center':'launch_count'}>]], dtype=object)"
      ]
     },
     "execution_count": 45,
     "metadata": {},
     "output_type": "execute_result"
    },
    {
     "data": {
      "image/png": "[encoded data removed]",
      "text/plain": [
       "<Figure size 432x288 with 1 Axes>"
      ]
     },
     "metadata": {},
     "output_type": "display_data"
    }
   ],
   "source": [
    "x = repos[(repos[\"launch_count\"] >= 10) & (repos[\"launch_count\"] < 600)]\n",
    "x.hist(column=\"launch_count\", bins=20)"
   ]
  },
  {
   "cell_type": "code",
   "execution_count": 46,
   "metadata": {},
   "outputs": [
    {
     "data": {
      "image/png": "[encoded data removed]",
      "text/plain": [
       "<Figure size 432x288 with 1 Axes>"
      ]
     },
     "metadata": {},
     "output_type": "display_data"
    }
   ],
   "source": [
    "sns.distplot(x[\"launch_count\"]);"
   ]
  },
  {
   "cell_type": "markdown",
   "metadata": {},
   "source": [
    "### Buildpacks"
   ]
  },
  {
   "cell_type": "code",
   "execution_count": 47,
   "metadata": {},
   "outputs": [
    {
     "data": {
      "text/plain": [
       "buildpack\n",
       "-1                              6398\n",
       "CondaBuildPack                  7882\n",
       "DockerBuildPack                 2238\n",
       "JuliaProjectTomlBuildPack        457\n",
       "JuliaRequireBuildPack             89\n",
       "LegacyBinderDockerBuildPack      107\n",
       "NixBuildPack                      16\n",
       "PipfileBuildPack                 288\n",
       "PythonBuildPack                33759\n",
       "RBuildPack                      1405\n",
       "dtype: int64"
      ]
     },
     "execution_count": 47,
     "metadata": {},
     "output_type": "execute_result"
    }
   ],
   "source": [
    "repos.fillna(-1).groupby(\"buildpack\").size()"
   ]
  },
  {
   "cell_type": "markdown",
   "metadata": {},
   "source": [
    "### Binder dirs"
   ]
  },
  {
   "cell_type": "code",
   "execution_count": 48,
   "metadata": {
    "scrolled": true
   },
   "outputs": [
    {
     "data": {
      "text/plain": [
       "binder_dir\n",
       "-1          6398\n",
       "           42688\n",
       ".binder      457\n",
       "binder      3096\n",
       "dtype: int64"
      ]
     },
     "execution_count": 48,
     "metadata": {},
     "output_type": "execute_result"
    }
   ],
   "source": [
    "repos.fillna(-1).groupby(\"binder_dir\").size()"
   ]
  },
  {
   "cell_type": "code",
   "execution_count": null,
   "metadata": {},
   "outputs": [],
   "source": []
  }
 ],
 "metadata": {
  "kernelspec": {
   "display_name": "Python 3",
   "language": "python",
   "name": "python3"
  },
  "language_info": {
   "codemirror_mode": {
    "name": "ipython",
    "version": 3
   },
   "file_extension": ".py",
   "mimetype": "text/x-python",
   "name": "python",
   "nbconvert_exporter": "python",
   "pygments_lexer": "ipython3",
   "version": "3.7.8"
  },
  "toc": {
   "base_numbering": 1,
   "nav_menu": {},
   "number_sections": true,
   "sideBar": true,
   "skip_h1_title": false,
   "title_cell": "Table of Contents",
   "title_sidebar": "Contents",
   "toc_cell": false,
   "toc_position": {},
   "toc_section_display": true,
   "toc_window_display": false
  }
 },
 "nbformat": 4,
 "nbformat_minor": 4
}
