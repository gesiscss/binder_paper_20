{
 "cells": [
  {
   "cell_type": "code",
   "execution_count": 1,
   "metadata": {},
   "outputs": [],
   "source": [
    "import pandas as pd\n",
    "from sqlite_utils import Database"
   ]
  },
  {
   "cell_type": "code",
   "execution_count": 2,
   "metadata": {},
   "outputs": [],
   "source": [
    "db = Database(\"mybinder_archive.db\")"
   ]
  },
  {
   "cell_type": "code",
   "execution_count": 3,
   "metadata": {},
   "outputs": [
    {
     "data": {
      "text/plain": [
       "['mybinderlaunch', 'repo']"
      ]
     },
     "execution_count": 3,
     "metadata": {},
     "output_type": "execute_result"
    }
   ],
   "source": [
    "# get table names\n",
    "db.table_names()"
   ]
  },
  {
   "cell_type": "code",
   "execution_count": 4,
   "metadata": {},
   "outputs": [],
   "source": [
    "repo_table = 'repo'"
   ]
  },
  {
   "cell_type": "code",
   "execution_count": 5,
   "metadata": {},
   "outputs": [
    {
     "data": {
      "text/plain": [
       "{'id': int,\n",
       " 'repo_url': str,\n",
       " 'provider': str,\n",
       " 'launch_count': int,\n",
       " 'first_launch': str,\n",
       " 'last_launch': str,\n",
       " 'last_spec': str,\n",
       " 'refs': str,\n",
       " 'resolved_refs': str,\n",
       " 'remote_id': str,\n",
       " 'fork': str,\n",
       " 'dockerfile': int,\n",
       " 'resolved_ref_now': str,\n",
       " 'image_name': str,\n",
       " 'renamed': int}"
      ]
     },
     "execution_count": 5,
     "metadata": {},
     "output_type": "execute_result"
    }
   ],
   "source": [
    "# db[repo_table].columns\n",
    "db[repo_table].columns_dict"
   ]
  },
  {
   "cell_type": "code",
   "execution_count": 6,
   "metadata": {},
   "outputs": [],
   "source": [
    "query = f'SELECT * FROM {repo_table} ORDER BY first_launch;'\n",
    "repos = pd.read_sql_query(query, db.conn)\n",
    "repos = repos[\n",
    "    [\"id\", \"remote_id\", \"repo_url\", \"provider\", \n",
    "     \"last_spec\", \"launch_count\", \"resolved_ref_now\", \n",
    "     \"image_name\", \"fork\", \"dockerfile\",\"renamed\"]]"
   ]
  },
  {
   "cell_type": "code",
   "execution_count": 7,
   "metadata": {},
   "outputs": [],
   "source": [
    "# def make_clickable(val):\n",
    "#     return '<a target=\"_blank\" href=\"{}\">{}</a>'.format(val, val)"
   ]
  },
  {
   "cell_type": "code",
   "execution_count": 8,
   "metadata": {},
   "outputs": [],
   "source": [
    "# repos.style.format({'repo_url': make_clickable})"
   ]
  },
  {
   "cell_type": "code",
   "execution_count": 9,
   "metadata": {},
   "outputs": [
    {
     "data": {
      "text/html": [
       "<div>\n",
       "<style scoped>\n",
       "    .dataframe tbody tr th:only-of-type {\n",
       "        vertical-align: middle;\n",
       "    }\n",
       "\n",
       "    .dataframe tbody tr th {\n",
       "        vertical-align: top;\n",
       "    }\n",
       "\n",
       "    .dataframe thead th {\n",
       "        text-align: right;\n",
       "    }\n",
       "</style>\n",
       "<table border=\"1\" class=\"dataframe\">\n",
       "  <thead>\n",
       "    <tr style=\"text-align: right;\">\n",
       "      <th></th>\n",
       "      <th>id</th>\n",
       "      <th>remote_id</th>\n",
       "      <th>repo_url</th>\n",
       "      <th>provider</th>\n",
       "      <th>last_spec</th>\n",
       "      <th>launch_count</th>\n",
       "      <th>resolved_ref_now</th>\n",
       "      <th>image_name</th>\n",
       "      <th>fork</th>\n",
       "      <th>dockerfile</th>\n",
       "      <th>renamed</th>\n",
       "    </tr>\n",
       "  </thead>\n",
       "  <tbody>\n",
       "    <tr>\n",
       "      <th>0</th>\n",
       "      <td>1</td>\n",
       "      <td>3641953</td>\n",
       "      <td>https://github.com/ipython/ipython-in-depth</td>\n",
       "      <td>GitHub</td>\n",
       "      <td>ipython/ipython-in-depth/master</td>\n",
       "      <td>3581285</td>\n",
       "      <td>7e5ce96cc9251083979efdfc393425f1229a4a68</td>\n",
       "      <td>bp20-ipython-2dipython-2din-2ddepth-65852f:7e5...</td>\n",
       "      <td>0</td>\n",
       "      <td>0.0</td>\n",
       "      <td>0.0</td>\n",
       "    </tr>\n",
       "    <tr>\n",
       "      <th>1</th>\n",
       "      <td>2</td>\n",
       "      <td>99244384</td>\n",
       "      <td>https://github.com/qiskit/qiskit-tutorial</td>\n",
       "      <td>GitHub</td>\n",
       "      <td>QISKit/qiskit-tutorial/master</td>\n",
       "      <td>22333</td>\n",
       "      <td>e87c14c4303fc9cd9ab06727c9c49845864deb58</td>\n",
       "      <td>bp20-qiskit-2dqiskit-2dtutorial-d06a1e:e87c14c...</td>\n",
       "      <td>0</td>\n",
       "      <td>0.0</td>\n",
       "      <td>1.0</td>\n",
       "    </tr>\n",
       "    <tr>\n",
       "      <th>2</th>\n",
       "      <td>3</td>\n",
       "      <td>None</td>\n",
       "      <td>https://github.com/eniocsj/dados</td>\n",
       "      <td>GitHub</td>\n",
       "      <td>eniocsj/dados/master</td>\n",
       "      <td>42</td>\n",
       "      <td>404</td>\n",
       "      <td>None</td>\n",
       "      <td>404</td>\n",
       "      <td>NaN</td>\n",
       "      <td>NaN</td>\n",
       "    </tr>\n",
       "    <tr>\n",
       "      <th>3</th>\n",
       "      <td>4</td>\n",
       "      <td>69698350</td>\n",
       "      <td>https://github.com/jupyterlab/jupyterlab-demo</td>\n",
       "      <td>GitHub</td>\n",
       "      <td>jupyterlab/jupyterlab-demo/try.jupyter.org</td>\n",
       "      <td>1680558</td>\n",
       "      <td>71b616307dcb9cba18262d8e5fa46ad828ca51e4</td>\n",
       "      <td>bp20-jupyterlab-2djupyterlab-2ddemo-b2f8d0:71b...</td>\n",
       "      <td>0</td>\n",
       "      <td>0.0</td>\n",
       "      <td>0.0</td>\n",
       "    </tr>\n",
       "    <tr>\n",
       "      <th>4</th>\n",
       "      <td>5</td>\n",
       "      <td>21578345</td>\n",
       "      <td>https://github.com/bokeh/bokeh-notebooks</td>\n",
       "      <td>GitHub</td>\n",
       "      <td>bokeh/bokeh-notebooks/master</td>\n",
       "      <td>146801</td>\n",
       "      <td>7c697252c89805390d14f04eb0468162d2a65f24</td>\n",
       "      <td>bp20-bokeh-2dbokeh-2dnotebooks-6dc098:7c697252...</td>\n",
       "      <td>0</td>\n",
       "      <td>0.0</td>\n",
       "      <td>0.0</td>\n",
       "    </tr>\n",
       "  </tbody>\n",
       "</table>\n",
       "</div>"
      ],
      "text/plain": [
       "   id remote_id                                       repo_url provider  \\\n",
       "0   1   3641953    https://github.com/ipython/ipython-in-depth   GitHub   \n",
       "1   2  99244384      https://github.com/qiskit/qiskit-tutorial   GitHub   \n",
       "2   3      None               https://github.com/eniocsj/dados   GitHub   \n",
       "3   4  69698350  https://github.com/jupyterlab/jupyterlab-demo   GitHub   \n",
       "4   5  21578345       https://github.com/bokeh/bokeh-notebooks   GitHub   \n",
       "\n",
       "                                    last_spec  launch_count  \\\n",
       "0             ipython/ipython-in-depth/master       3581285   \n",
       "1               QISKit/qiskit-tutorial/master         22333   \n",
       "2                        eniocsj/dados/master            42   \n",
       "3  jupyterlab/jupyterlab-demo/try.jupyter.org       1680558   \n",
       "4                bokeh/bokeh-notebooks/master        146801   \n",
       "\n",
       "                           resolved_ref_now  \\\n",
       "0  7e5ce96cc9251083979efdfc393425f1229a4a68   \n",
       "1  e87c14c4303fc9cd9ab06727c9c49845864deb58   \n",
       "2                                       404   \n",
       "3  71b616307dcb9cba18262d8e5fa46ad828ca51e4   \n",
       "4  7c697252c89805390d14f04eb0468162d2a65f24   \n",
       "\n",
       "                                          image_name fork  dockerfile  renamed  \n",
       "0  bp20-ipython-2dipython-2din-2ddepth-65852f:7e5...    0         0.0      0.0  \n",
       "1  bp20-qiskit-2dqiskit-2dtutorial-d06a1e:e87c14c...    0         0.0      1.0  \n",
       "2                                               None  404         NaN      NaN  \n",
       "3  bp20-jupyterlab-2djupyterlab-2ddemo-b2f8d0:71b...    0         0.0      0.0  \n",
       "4  bp20-bokeh-2dbokeh-2dnotebooks-6dc098:7c697252...    0         0.0      0.0  "
      ]
     },
     "execution_count": 9,
     "metadata": {},
     "output_type": "execute_result"
    }
   ],
   "source": [
    "repos.head()"
   ]
  },
  {
   "cell_type": "markdown",
   "metadata": {},
   "source": [
    "### Understanding repos table"
   ]
  },
  {
   "cell_type": "markdown",
   "metadata": {},
   "source": [
    "#### Resolved refs\n",
    "\n",
    "`create_repo_table.py` fetches resolved ref of the last spec at the time that the script is running.\n",
    "`resolved_ref_now=404` means that the specs is not valid anymore."
   ]
  },
  {
   "cell_type": "code",
   "execution_count": 10,
   "metadata": {},
   "outputs": [
    {
     "data": {
      "text/html": [
       "<div>\n",
       "<style scoped>\n",
       "    .dataframe tbody tr th:only-of-type {\n",
       "        vertical-align: middle;\n",
       "    }\n",
       "\n",
       "    .dataframe tbody tr th {\n",
       "        vertical-align: top;\n",
       "    }\n",
       "\n",
       "    .dataframe thead th {\n",
       "        text-align: right;\n",
       "    }\n",
       "</style>\n",
       "<table border=\"1\" class=\"dataframe\">\n",
       "  <thead>\n",
       "    <tr style=\"text-align: right;\">\n",
       "      <th></th>\n",
       "      <th>repo_url</th>\n",
       "      <th>provider</th>\n",
       "      <th>last_spec</th>\n",
       "      <th>resolved_ref_now</th>\n",
       "      <th>fork</th>\n",
       "    </tr>\n",
       "  </thead>\n",
       "  <tbody>\n",
       "    <tr>\n",
       "      <th>0</th>\n",
       "      <td>https://github.com/ipython/ipython-in-depth</td>\n",
       "      <td>GitHub</td>\n",
       "      <td>ipython/ipython-in-depth/master</td>\n",
       "      <td>7e5ce96cc9251083979efdfc393425f1229a4a68</td>\n",
       "      <td>0</td>\n",
       "    </tr>\n",
       "    <tr>\n",
       "      <th>1</th>\n",
       "      <td>https://github.com/qiskit/qiskit-tutorial</td>\n",
       "      <td>GitHub</td>\n",
       "      <td>QISKit/qiskit-tutorial/master</td>\n",
       "      <td>e87c14c4303fc9cd9ab06727c9c49845864deb58</td>\n",
       "      <td>0</td>\n",
       "    </tr>\n",
       "    <tr>\n",
       "      <th>2</th>\n",
       "      <td>https://github.com/eniocsj/dados</td>\n",
       "      <td>GitHub</td>\n",
       "      <td>eniocsj/dados/master</td>\n",
       "      <td>404</td>\n",
       "      <td>404</td>\n",
       "    </tr>\n",
       "    <tr>\n",
       "      <th>3</th>\n",
       "      <td>https://github.com/jupyterlab/jupyterlab-demo</td>\n",
       "      <td>GitHub</td>\n",
       "      <td>jupyterlab/jupyterlab-demo/try.jupyter.org</td>\n",
       "      <td>71b616307dcb9cba18262d8e5fa46ad828ca51e4</td>\n",
       "      <td>0</td>\n",
       "    </tr>\n",
       "    <tr>\n",
       "      <th>4</th>\n",
       "      <td>https://github.com/bokeh/bokeh-notebooks</td>\n",
       "      <td>GitHub</td>\n",
       "      <td>bokeh/bokeh-notebooks/master</td>\n",
       "      <td>7c697252c89805390d14f04eb0468162d2a65f24</td>\n",
       "      <td>0</td>\n",
       "    </tr>\n",
       "    <tr>\n",
       "      <th>...</th>\n",
       "      <td>...</td>\n",
       "      <td>...</td>\n",
       "      <td>...</td>\n",
       "      <td>...</td>\n",
       "      <td>...</td>\n",
       "    </tr>\n",
       "    <tr>\n",
       "      <th>50260</th>\n",
       "      <td>https://github.com/zap1295/my-first-binder</td>\n",
       "      <td>GitHub</td>\n",
       "      <td>zap1295/my-first-binder/master</td>\n",
       "      <td>fb8d541160424ba26e1bd1180dd9dbbde39a850c</td>\n",
       "      <td>0</td>\n",
       "    </tr>\n",
       "    <tr>\n",
       "      <th>50261</th>\n",
       "      <td>https://github.com/mgill25/jupyter-playground</td>\n",
       "      <td>GitHub</td>\n",
       "      <td>mgill25/jupyter-playground/master</td>\n",
       "      <td>dabd67884a845e202b689ca695597a156b996833</td>\n",
       "      <td>0</td>\n",
       "    </tr>\n",
       "    <tr>\n",
       "      <th>50262</th>\n",
       "      <td>https://github.com/secregister01/datasciencemi...</td>\n",
       "      <td>GitHub</td>\n",
       "      <td>secregister01/DataScienceMiniProject.github.io...</td>\n",
       "      <td>404</td>\n",
       "      <td>404</td>\n",
       "    </tr>\n",
       "    <tr>\n",
       "      <th>50263</th>\n",
       "      <td>https://github.com/elewah/2d-3d-radviz-lib</td>\n",
       "      <td>GitHub</td>\n",
       "      <td>elewah/2D-3D-RadViz-lib/master</td>\n",
       "      <td>404</td>\n",
       "      <td>404</td>\n",
       "    </tr>\n",
       "    <tr>\n",
       "      <th>50264</th>\n",
       "      <td>https://github.com/enthought/numpy-tutorial-sc...</td>\n",
       "      <td>GitHub</td>\n",
       "      <td>enthought/Numpy-Tutorial-SciPyConf-2020/notebooks</td>\n",
       "      <td>404</td>\n",
       "      <td>0</td>\n",
       "    </tr>\n",
       "  </tbody>\n",
       "</table>\n",
       "<p>50265 rows × 5 columns</p>\n",
       "</div>"
      ],
      "text/plain": [
       "                                                repo_url provider  \\\n",
       "0            https://github.com/ipython/ipython-in-depth   GitHub   \n",
       "1              https://github.com/qiskit/qiskit-tutorial   GitHub   \n",
       "2                       https://github.com/eniocsj/dados   GitHub   \n",
       "3          https://github.com/jupyterlab/jupyterlab-demo   GitHub   \n",
       "4               https://github.com/bokeh/bokeh-notebooks   GitHub   \n",
       "...                                                  ...      ...   \n",
       "50260         https://github.com/zap1295/my-first-binder   GitHub   \n",
       "50261      https://github.com/mgill25/jupyter-playground   GitHub   \n",
       "50262  https://github.com/secregister01/datasciencemi...   GitHub   \n",
       "50263         https://github.com/elewah/2d-3d-radviz-lib   GitHub   \n",
       "50264  https://github.com/enthought/numpy-tutorial-sc...   GitHub   \n",
       "\n",
       "                                               last_spec  \\\n",
       "0                        ipython/ipython-in-depth/master   \n",
       "1                          QISKit/qiskit-tutorial/master   \n",
       "2                                   eniocsj/dados/master   \n",
       "3             jupyterlab/jupyterlab-demo/try.jupyter.org   \n",
       "4                           bokeh/bokeh-notebooks/master   \n",
       "...                                                  ...   \n",
       "50260                     zap1295/my-first-binder/master   \n",
       "50261                  mgill25/jupyter-playground/master   \n",
       "50262  secregister01/DataScienceMiniProject.github.io...   \n",
       "50263                     elewah/2D-3D-RadViz-lib/master   \n",
       "50264  enthought/Numpy-Tutorial-SciPyConf-2020/notebooks   \n",
       "\n",
       "                               resolved_ref_now fork  \n",
       "0      7e5ce96cc9251083979efdfc393425f1229a4a68    0  \n",
       "1      e87c14c4303fc9cd9ab06727c9c49845864deb58    0  \n",
       "2                                           404  404  \n",
       "3      71b616307dcb9cba18262d8e5fa46ad828ca51e4    0  \n",
       "4      7c697252c89805390d14f04eb0468162d2a65f24    0  \n",
       "...                                         ...  ...  \n",
       "50260  fb8d541160424ba26e1bd1180dd9dbbde39a850c    0  \n",
       "50261  dabd67884a845e202b689ca695597a156b996833    0  \n",
       "50262                                       404  404  \n",
       "50263                                       404  404  \n",
       "50264                                       404    0  \n",
       "\n",
       "[50265 rows x 5 columns]"
      ]
     },
     "execution_count": 10,
     "metadata": {},
     "output_type": "execute_result"
    }
   ],
   "source": [
    "repos[[\"repo_url\", \"provider\", \"last_spec\", \"resolved_ref_now\", \"fork\"]]"
   ]
  },
  {
   "cell_type": "code",
   "execution_count": 11,
   "metadata": {},
   "outputs": [
    {
     "data": {
      "text/html": [
       "<div>\n",
       "<style scoped>\n",
       "    .dataframe tbody tr th:only-of-type {\n",
       "        vertical-align: middle;\n",
       "    }\n",
       "\n",
       "    .dataframe tbody tr th {\n",
       "        vertical-align: top;\n",
       "    }\n",
       "\n",
       "    .dataframe thead th {\n",
       "        text-align: right;\n",
       "    }\n",
       "</style>\n",
       "<table border=\"1\" class=\"dataframe\">\n",
       "  <thead>\n",
       "    <tr style=\"text-align: right;\">\n",
       "      <th></th>\n",
       "      <th>repo_url</th>\n",
       "      <th>provider</th>\n",
       "      <th>last_spec</th>\n",
       "      <th>resolved_ref_now</th>\n",
       "      <th>fork</th>\n",
       "    </tr>\n",
       "  </thead>\n",
       "  <tbody>\n",
       "  </tbody>\n",
       "</table>\n",
       "</div>"
      ],
      "text/plain": [
       "Empty DataFrame\n",
       "Columns: [repo_url, provider, last_spec, resolved_ref_now, fork]\n",
       "Index: []"
      ]
     },
     "execution_count": 11,
     "metadata": {},
     "output_type": "execute_result"
    }
   ],
   "source": [
    "repos[repos[\"resolved_ref_now\"].isnull()][[\"repo_url\", \"provider\", \"last_spec\", \"resolved_ref_now\", \"fork\"]]"
   ]
  },
  {
   "cell_type": "code",
   "execution_count": 12,
   "metadata": {},
   "outputs": [
    {
     "data": {
      "text/html": [
       "<div>\n",
       "<style scoped>\n",
       "    .dataframe tbody tr th:only-of-type {\n",
       "        vertical-align: middle;\n",
       "    }\n",
       "\n",
       "    .dataframe tbody tr th {\n",
       "        vertical-align: top;\n",
       "    }\n",
       "\n",
       "    .dataframe thead th {\n",
       "        text-align: right;\n",
       "    }\n",
       "</style>\n",
       "<table border=\"1\" class=\"dataframe\">\n",
       "  <thead>\n",
       "    <tr style=\"text-align: right;\">\n",
       "      <th></th>\n",
       "      <th>repo_url</th>\n",
       "      <th>provider</th>\n",
       "      <th>last_spec</th>\n",
       "      <th>resolved_ref_now</th>\n",
       "      <th>fork</th>\n",
       "    </tr>\n",
       "  </thead>\n",
       "  <tbody>\n",
       "    <tr>\n",
       "      <th>2</th>\n",
       "      <td>https://github.com/eniocsj/dados</td>\n",
       "      <td>GitHub</td>\n",
       "      <td>eniocsj/dados/master</td>\n",
       "      <td>404</td>\n",
       "      <td>404</td>\n",
       "    </tr>\n",
       "    <tr>\n",
       "      <th>15</th>\n",
       "      <td>https://github.com/udm88/home_work_2</td>\n",
       "      <td>GitHub</td>\n",
       "      <td>udm88/home_work_2/master</td>\n",
       "      <td>404</td>\n",
       "      <td>404</td>\n",
       "    </tr>\n",
       "    <tr>\n",
       "      <th>17</th>\n",
       "      <td>https://github.com/liviu-anita/calcul-numeric</td>\n",
       "      <td>GitHub</td>\n",
       "      <td>liviu-anita/Calcul-Numeric/master</td>\n",
       "      <td>404</td>\n",
       "      <td>404</td>\n",
       "    </tr>\n",
       "    <tr>\n",
       "      <th>38</th>\n",
       "      <td>https://github.com/bengal-tiger/youcandothermo...</td>\n",
       "      <td>GitHub</td>\n",
       "      <td>BENGAL-TIGER/YOUcanDoThermodynamics/master</td>\n",
       "      <td>404</td>\n",
       "      <td>404</td>\n",
       "    </tr>\n",
       "    <tr>\n",
       "      <th>39</th>\n",
       "      <td>https://github.com/marlohaering/se1-notebook</td>\n",
       "      <td>GitHub</td>\n",
       "      <td>marlohaering/SE1-Notebook/master</td>\n",
       "      <td>404</td>\n",
       "      <td>404</td>\n",
       "    </tr>\n",
       "    <tr>\n",
       "      <th>...</th>\n",
       "      <td>...</td>\n",
       "      <td>...</td>\n",
       "      <td>...</td>\n",
       "      <td>...</td>\n",
       "      <td>...</td>\n",
       "    </tr>\n",
       "    <tr>\n",
       "      <th>50243</th>\n",
       "      <td>https://github.com/hwhk/test</td>\n",
       "      <td>GitHub</td>\n",
       "      <td>hwhk/test/master</td>\n",
       "      <td>404</td>\n",
       "      <td>404</td>\n",
       "    </tr>\n",
       "    <tr>\n",
       "      <th>50249</th>\n",
       "      <td>https://github.com/hwhk/temtations</td>\n",
       "      <td>GitHub</td>\n",
       "      <td>hwhk/Temtations/master</td>\n",
       "      <td>404</td>\n",
       "      <td>404</td>\n",
       "    </tr>\n",
       "    <tr>\n",
       "      <th>50262</th>\n",
       "      <td>https://github.com/secregister01/datasciencemi...</td>\n",
       "      <td>GitHub</td>\n",
       "      <td>secregister01/DataScienceMiniProject.github.io...</td>\n",
       "      <td>404</td>\n",
       "      <td>404</td>\n",
       "    </tr>\n",
       "    <tr>\n",
       "      <th>50263</th>\n",
       "      <td>https://github.com/elewah/2d-3d-radviz-lib</td>\n",
       "      <td>GitHub</td>\n",
       "      <td>elewah/2D-3D-RadViz-lib/master</td>\n",
       "      <td>404</td>\n",
       "      <td>404</td>\n",
       "    </tr>\n",
       "    <tr>\n",
       "      <th>50264</th>\n",
       "      <td>https://github.com/enthought/numpy-tutorial-sc...</td>\n",
       "      <td>GitHub</td>\n",
       "      <td>enthought/Numpy-Tutorial-SciPyConf-2020/notebooks</td>\n",
       "      <td>404</td>\n",
       "      <td>0</td>\n",
       "    </tr>\n",
       "  </tbody>\n",
       "</table>\n",
       "<p>6027 rows × 5 columns</p>\n",
       "</div>"
      ],
      "text/plain": [
       "                                                repo_url provider  \\\n",
       "2                       https://github.com/eniocsj/dados   GitHub   \n",
       "15                  https://github.com/udm88/home_work_2   GitHub   \n",
       "17         https://github.com/liviu-anita/calcul-numeric   GitHub   \n",
       "38     https://github.com/bengal-tiger/youcandothermo...   GitHub   \n",
       "39          https://github.com/marlohaering/se1-notebook   GitHub   \n",
       "...                                                  ...      ...   \n",
       "50243                       https://github.com/hwhk/test   GitHub   \n",
       "50249                 https://github.com/hwhk/temtations   GitHub   \n",
       "50262  https://github.com/secregister01/datasciencemi...   GitHub   \n",
       "50263         https://github.com/elewah/2d-3d-radviz-lib   GitHub   \n",
       "50264  https://github.com/enthought/numpy-tutorial-sc...   GitHub   \n",
       "\n",
       "                                               last_spec resolved_ref_now fork  \n",
       "2                                   eniocsj/dados/master              404  404  \n",
       "15                              udm88/home_work_2/master              404  404  \n",
       "17                     liviu-anita/Calcul-Numeric/master              404  404  \n",
       "38            BENGAL-TIGER/YOUcanDoThermodynamics/master              404  404  \n",
       "39                      marlohaering/SE1-Notebook/master              404  404  \n",
       "...                                                  ...              ...  ...  \n",
       "50243                                   hwhk/test/master              404  404  \n",
       "50249                             hwhk/Temtations/master              404  404  \n",
       "50262  secregister01/DataScienceMiniProject.github.io...              404  404  \n",
       "50263                     elewah/2D-3D-RadViz-lib/master              404  404  \n",
       "50264  enthought/Numpy-Tutorial-SciPyConf-2020/notebooks              404    0  \n",
       "\n",
       "[6027 rows x 5 columns]"
      ]
     },
     "execution_count": 12,
     "metadata": {},
     "output_type": "execute_result"
    }
   ],
   "source": [
    "repos[repos[\"resolved_ref_now\"] == \"404\"][[\"repo_url\", \"provider\", \"last_spec\", \"resolved_ref_now\", \"fork\"]]"
   ]
  },
  {
   "cell_type": "code",
   "execution_count": 13,
   "metadata": {},
   "outputs": [
    {
     "data": {
      "text/plain": [
       "6027"
      ]
     },
     "execution_count": 13,
     "metadata": {},
     "output_type": "execute_result"
    }
   ],
   "source": [
    "len(repos[repos[\"resolved_ref_now\"] == \"404\"])"
   ]
  },
  {
   "cell_type": "markdown",
   "metadata": {},
   "source": [
    "if `resolved_ref_now` is not available, `image_name` is not available neither"
   ]
  },
  {
   "cell_type": "code",
   "execution_count": 14,
   "metadata": {},
   "outputs": [
    {
     "data": {
      "text/plain": [
       "6032"
      ]
     },
     "execution_count": 14,
     "metadata": {},
     "output_type": "execute_result"
    }
   ],
   "source": [
    "len(repos[repos[\"image_name\"].isnull()])"
   ]
  },
  {
   "cell_type": "code",
   "execution_count": 15,
   "metadata": {},
   "outputs": [
    {
     "data": {
      "text/plain": [
       "resolved_ref_now\n",
       "404    6027\n",
       "409       3\n",
       "451       2\n",
       "dtype: int64"
      ]
     },
     "execution_count": 15,
     "metadata": {},
     "output_type": "execute_result"
    }
   ],
   "source": [
    "# select resolved_ref_now from repo where image_name is null group by resolved_ref_now;\n",
    "repos[repos[\"image_name\"].isnull()].groupby(\"resolved_ref_now\", as_index = False).size()"
   ]
  },
  {
   "cell_type": "markdown",
   "metadata": {},
   "source": [
    "There are repos that have same resolved ref but have different remote ids.\n",
    "\n",
    "One reason could be that a user creates a new repo with history of another repo (without using github forking)"
   ]
  },
  {
   "cell_type": "code",
   "execution_count": 16,
   "metadata": {},
   "outputs": [
    {
     "data": {
      "text/html": [
       "<div>\n",
       "<style scoped>\n",
       "    .dataframe tbody tr th:only-of-type {\n",
       "        vertical-align: middle;\n",
       "    }\n",
       "\n",
       "    .dataframe tbody tr th {\n",
       "        vertical-align: top;\n",
       "    }\n",
       "\n",
       "    .dataframe thead th {\n",
       "        text-align: right;\n",
       "    }\n",
       "</style>\n",
       "<table border=\"1\" class=\"dataframe\">\n",
       "  <thead>\n",
       "    <tr style=\"text-align: right;\">\n",
       "      <th></th>\n",
       "      <th>fork</th>\n",
       "      <th>renamed</th>\n",
       "      <th>rrn_count</th>\n",
       "      <th>resolved_ref_now</th>\n",
       "      <th>repo_urls</th>\n",
       "    </tr>\n",
       "  </thead>\n",
       "  <tbody>\n",
       "    <tr>\n",
       "      <th>0</th>\n",
       "      <td>0</td>\n",
       "      <td>0</td>\n",
       "      <td>2</td>\n",
       "      <td>051d6dc57f10b605485bea0c3565130eaf064ec8</td>\n",
       "      <td>https://github.com/data-8/materials-su18,https...</td>\n",
       "    </tr>\n",
       "    <tr>\n",
       "      <th>1</th>\n",
       "      <td>0</td>\n",
       "      <td>0</td>\n",
       "      <td>6</td>\n",
       "      <td>20095e168f0d76da5787f914684cc3b6a58ce660</td>\n",
       "      <td>https://github.com/wshuyi/demo-spacy-text-proc...</td>\n",
       "    </tr>\n",
       "    <tr>\n",
       "      <th>2</th>\n",
       "      <td>0</td>\n",
       "      <td>0</td>\n",
       "      <td>2</td>\n",
       "      <td>2d2668d3b9a54546c681bc27efbbc9b326af1ab1</td>\n",
       "      <td>https://github.com/deep-diver/smartwork-with-p...</td>\n",
       "    </tr>\n",
       "    <tr>\n",
       "      <th>3</th>\n",
       "      <td>0</td>\n",
       "      <td>0</td>\n",
       "      <td>4</td>\n",
       "      <td>36bc4827ea1b53afd099e79a91d73614a6116bfe</td>\n",
       "      <td>https://github.com/eminentspade/codingai-pub,h...</td>\n",
       "    </tr>\n",
       "    <tr>\n",
       "      <th>4</th>\n",
       "      <td>0</td>\n",
       "      <td>0</td>\n",
       "      <td>2</td>\n",
       "      <td>3a95d118f9df5a86826e1791c5c100817f0fd924</td>\n",
       "      <td>https://github.com/udacity/deep-learning-v2-py...</td>\n",
       "    </tr>\n",
       "    <tr>\n",
       "      <th>5</th>\n",
       "      <td>0</td>\n",
       "      <td>0</td>\n",
       "      <td>2</td>\n",
       "      <td>3d0c70ddaa5c63606a043aaca35b64f4272651e0</td>\n",
       "      <td>https://github.com/jason2249/section-8-a,https...</td>\n",
       "    </tr>\n",
       "    <tr>\n",
       "      <th>6</th>\n",
       "      <td>0</td>\n",
       "      <td>0</td>\n",
       "      <td>117</td>\n",
       "      <td>404</td>\n",
       "      <td>https://github.com/blackarbsceo/mixture_models...</td>\n",
       "    </tr>\n",
       "    <tr>\n",
       "      <th>7</th>\n",
       "      <td>0</td>\n",
       "      <td>0</td>\n",
       "      <td>2</td>\n",
       "      <td>407bbe93bbfd2d0a1e3bcd10e2571a61a55661aa</td>\n",
       "      <td>https://github.com/binder-examples/bokeh,https...</td>\n",
       "    </tr>\n",
       "    <tr>\n",
       "      <th>8</th>\n",
       "      <td>0</td>\n",
       "      <td>0</td>\n",
       "      <td>2</td>\n",
       "      <td>43541f4f7f0d41b7941bc2920c6cb95b3f1ae2d3</td>\n",
       "      <td>https://github.com/sungkeunlim/markjay4k,https...</td>\n",
       "    </tr>\n",
       "    <tr>\n",
       "      <th>9</th>\n",
       "      <td>0</td>\n",
       "      <td>0</td>\n",
       "      <td>2</td>\n",
       "      <td>43730859d5bc7441de486e8f66219a001e2e13a3</td>\n",
       "      <td>https://github.com/valquir/labaqua,https://git...</td>\n",
       "    </tr>\n",
       "    <tr>\n",
       "      <th>10</th>\n",
       "      <td>0</td>\n",
       "      <td>0</td>\n",
       "      <td>2</td>\n",
       "      <td>50ebd1d9048dfbdc0cc010095a7e6fed086b0b9d</td>\n",
       "      <td>https://github.com/philot789/data_science_2,ht...</td>\n",
       "    </tr>\n",
       "    <tr>\n",
       "      <th>11</th>\n",
       "      <td>0</td>\n",
       "      <td>0</td>\n",
       "      <td>2</td>\n",
       "      <td>5a472b2aa70faf0adf4462358d9eaf3e67e8b665</td>\n",
       "      <td>https://github.com/jafar-khan/chexnet-classifi...</td>\n",
       "    </tr>\n",
       "    <tr>\n",
       "      <th>12</th>\n",
       "      <td>0</td>\n",
       "      <td>0</td>\n",
       "      <td>2</td>\n",
       "      <td>69f950d356a0d9372a619ea0fd90d8e03f1279b0</td>\n",
       "      <td>https://github.com/jmportilla/python-for-algor...</td>\n",
       "    </tr>\n",
       "    <tr>\n",
       "      <th>13</th>\n",
       "      <td>0</td>\n",
       "      <td>0</td>\n",
       "      <td>2</td>\n",
       "      <td>8a30b90fed187aaddaaf1fc868ec8e0ac92bca40</td>\n",
       "      <td>https://github.com/fchollet/deep-learning-with...</td>\n",
       "    </tr>\n",
       "    <tr>\n",
       "      <th>14</th>\n",
       "      <td>0</td>\n",
       "      <td>0</td>\n",
       "      <td>3</td>\n",
       "      <td>969de60de9e03a3d2cb6d590996bba4cfca7be68</td>\n",
       "      <td>https://github.com/ines/course-starter-python,...</td>\n",
       "    </tr>\n",
       "    <tr>\n",
       "      <th>15</th>\n",
       "      <td>0</td>\n",
       "      <td>0</td>\n",
       "      <td>2</td>\n",
       "      <td>997fdb2e2db67acd45d29ae418212463a54be06d</td>\n",
       "      <td>https://github.com/kulbear/deep-learning-cours...</td>\n",
       "    </tr>\n",
       "    <tr>\n",
       "      <th>16</th>\n",
       "      <td>0</td>\n",
       "      <td>0</td>\n",
       "      <td>5</td>\n",
       "      <td>99ece817f2c28cd171c7ca144bb8ae682427ce98</td>\n",
       "      <td>https://github.com/ines/course-starter-r,https...</td>\n",
       "    </tr>\n",
       "    <tr>\n",
       "      <th>17</th>\n",
       "      <td>0</td>\n",
       "      <td>0</td>\n",
       "      <td>3</td>\n",
       "      <td>ae97e2fb6eb11671016c3abf492d22a9fae743b0</td>\n",
       "      <td>https://github.com/steffens/conda,https://gith...</td>\n",
       "    </tr>\n",
       "    <tr>\n",
       "      <th>18</th>\n",
       "      <td>0</td>\n",
       "      <td>0</td>\n",
       "      <td>2</td>\n",
       "      <td>b1e1fa75ca6982f3170254d70c87be52d525d743</td>\n",
       "      <td>https://github.com/shubh-kr/machinelearningusi...</td>\n",
       "    </tr>\n",
       "    <tr>\n",
       "      <th>19</th>\n",
       "      <td>0</td>\n",
       "      <td>0</td>\n",
       "      <td>2</td>\n",
       "      <td>b33a43a49b29ac6d89f04675584fa6a6ed192750</td>\n",
       "      <td>https://github.com/geo-python-2018/exercise-1-...</td>\n",
       "    </tr>\n",
       "    <tr>\n",
       "      <th>20</th>\n",
       "      <td>0</td>\n",
       "      <td>0</td>\n",
       "      <td>2</td>\n",
       "      <td>bf06a6d12a02baea17a4e31fce954cf691c74392</td>\n",
       "      <td>https://github.com/justmarkham/pycon-2018-tuto...</td>\n",
       "    </tr>\n",
       "    <tr>\n",
       "      <th>21</th>\n",
       "      <td>0</td>\n",
       "      <td>0</td>\n",
       "      <td>3</td>\n",
       "      <td>c2407e5f71f48d23e029eb66d0beb366bcb0e3c9</td>\n",
       "      <td>https://github.com/savignesh/python-bootcamp,h...</td>\n",
       "    </tr>\n",
       "    <tr>\n",
       "      <th>22</th>\n",
       "      <td>0</td>\n",
       "      <td>0</td>\n",
       "      <td>2</td>\n",
       "      <td>dca67de2fe644ae68cc50d3baab067effa47f30e</td>\n",
       "      <td>https://github.com/tyarkoni/ssi2019,https://gi...</td>\n",
       "    </tr>\n",
       "    <tr>\n",
       "      <th>23</th>\n",
       "      <td>0</td>\n",
       "      <td>0</td>\n",
       "      <td>2</td>\n",
       "      <td>e2ffee0673e854492ddaa0d65609f2035f59dda5</td>\n",
       "      <td>https://github.com/dchaimow/columnsfmri,https:...</td>\n",
       "    </tr>\n",
       "    <tr>\n",
       "      <th>24</th>\n",
       "      <td>0</td>\n",
       "      <td>0</td>\n",
       "      <td>2</td>\n",
       "      <td>e31ba16f650e1a25c52842962af2d7c1ae772522</td>\n",
       "      <td>https://github.com/biof309/group-project-marie...</td>\n",
       "    </tr>\n",
       "    <tr>\n",
       "      <th>25</th>\n",
       "      <td>0</td>\n",
       "      <td>0</td>\n",
       "      <td>2</td>\n",
       "      <td>ef75c7441c84552edc437cf54da061e57d4ccea8</td>\n",
       "      <td>https://github.com/fastai/bear_voila,https://g...</td>\n",
       "    </tr>\n",
       "    <tr>\n",
       "      <th>26</th>\n",
       "      <td>0</td>\n",
       "      <td>0</td>\n",
       "      <td>2</td>\n",
       "      <td>f4ae4357f9c750bdf402b8cd1f7c269306357c8a</td>\n",
       "      <td>https://github.com/dokturpjoter/test_1,https:/...</td>\n",
       "    </tr>\n",
       "    <tr>\n",
       "      <th>27</th>\n",
       "      <td>0</td>\n",
       "      <td>0</td>\n",
       "      <td>5</td>\n",
       "      <td>fd884086961ceb1a8b884c5dae3eda615c319ec6</td>\n",
       "      <td>https://github.com/eminentspade/codingai-pub1t...</td>\n",
       "    </tr>\n",
       "    <tr>\n",
       "      <th>28</th>\n",
       "      <td>0</td>\n",
       "      <td>0</td>\n",
       "      <td>2</td>\n",
       "      <td>fe9d730f31d950528b771ba5b7cf39de72cd8b1b</td>\n",
       "      <td>https://github.com/kisgyorgy/ai_learn,https://...</td>\n",
       "    </tr>\n",
       "  </tbody>\n",
       "</table>\n",
       "</div>"
      ],
      "text/plain": [
       "   fork  renamed  rrn_count                          resolved_ref_now  \\\n",
       "0     0        0          2  051d6dc57f10b605485bea0c3565130eaf064ec8   \n",
       "1     0        0          6  20095e168f0d76da5787f914684cc3b6a58ce660   \n",
       "2     0        0          2  2d2668d3b9a54546c681bc27efbbc9b326af1ab1   \n",
       "3     0        0          4  36bc4827ea1b53afd099e79a91d73614a6116bfe   \n",
       "4     0        0          2  3a95d118f9df5a86826e1791c5c100817f0fd924   \n",
       "5     0        0          2  3d0c70ddaa5c63606a043aaca35b64f4272651e0   \n",
       "6     0        0        117                                       404   \n",
       "7     0        0          2  407bbe93bbfd2d0a1e3bcd10e2571a61a55661aa   \n",
       "8     0        0          2  43541f4f7f0d41b7941bc2920c6cb95b3f1ae2d3   \n",
       "9     0        0          2  43730859d5bc7441de486e8f66219a001e2e13a3   \n",
       "10    0        0          2  50ebd1d9048dfbdc0cc010095a7e6fed086b0b9d   \n",
       "11    0        0          2  5a472b2aa70faf0adf4462358d9eaf3e67e8b665   \n",
       "12    0        0          2  69f950d356a0d9372a619ea0fd90d8e03f1279b0   \n",
       "13    0        0          2  8a30b90fed187aaddaaf1fc868ec8e0ac92bca40   \n",
       "14    0        0          3  969de60de9e03a3d2cb6d590996bba4cfca7be68   \n",
       "15    0        0          2  997fdb2e2db67acd45d29ae418212463a54be06d   \n",
       "16    0        0          5  99ece817f2c28cd171c7ca144bb8ae682427ce98   \n",
       "17    0        0          3  ae97e2fb6eb11671016c3abf492d22a9fae743b0   \n",
       "18    0        0          2  b1e1fa75ca6982f3170254d70c87be52d525d743   \n",
       "19    0        0          2  b33a43a49b29ac6d89f04675584fa6a6ed192750   \n",
       "20    0        0          2  bf06a6d12a02baea17a4e31fce954cf691c74392   \n",
       "21    0        0          3  c2407e5f71f48d23e029eb66d0beb366bcb0e3c9   \n",
       "22    0        0          2  dca67de2fe644ae68cc50d3baab067effa47f30e   \n",
       "23    0        0          2  e2ffee0673e854492ddaa0d65609f2035f59dda5   \n",
       "24    0        0          2  e31ba16f650e1a25c52842962af2d7c1ae772522   \n",
       "25    0        0          2  ef75c7441c84552edc437cf54da061e57d4ccea8   \n",
       "26    0        0          2  f4ae4357f9c750bdf402b8cd1f7c269306357c8a   \n",
       "27    0        0          5  fd884086961ceb1a8b884c5dae3eda615c319ec6   \n",
       "28    0        0          2  fe9d730f31d950528b771ba5b7cf39de72cd8b1b   \n",
       "\n",
       "                                            repo_urls  \n",
       "0   https://github.com/data-8/materials-su18,https...  \n",
       "1   https://github.com/wshuyi/demo-spacy-text-proc...  \n",
       "2   https://github.com/deep-diver/smartwork-with-p...  \n",
       "3   https://github.com/eminentspade/codingai-pub,h...  \n",
       "4   https://github.com/udacity/deep-learning-v2-py...  \n",
       "5   https://github.com/jason2249/section-8-a,https...  \n",
       "6   https://github.com/blackarbsceo/mixture_models...  \n",
       "7   https://github.com/binder-examples/bokeh,https...  \n",
       "8   https://github.com/sungkeunlim/markjay4k,https...  \n",
       "9   https://github.com/valquir/labaqua,https://git...  \n",
       "10  https://github.com/philot789/data_science_2,ht...  \n",
       "11  https://github.com/jafar-khan/chexnet-classifi...  \n",
       "12  https://github.com/jmportilla/python-for-algor...  \n",
       "13  https://github.com/fchollet/deep-learning-with...  \n",
       "14  https://github.com/ines/course-starter-python,...  \n",
       "15  https://github.com/kulbear/deep-learning-cours...  \n",
       "16  https://github.com/ines/course-starter-r,https...  \n",
       "17  https://github.com/steffens/conda,https://gith...  \n",
       "18  https://github.com/shubh-kr/machinelearningusi...  \n",
       "19  https://github.com/geo-python-2018/exercise-1-...  \n",
       "20  https://github.com/justmarkham/pycon-2018-tuto...  \n",
       "21  https://github.com/savignesh/python-bootcamp,h...  \n",
       "22  https://github.com/tyarkoni/ssi2019,https://gi...  \n",
       "23  https://github.com/dchaimow/columnsfmri,https:...  \n",
       "24  https://github.com/biof309/group-project-marie...  \n",
       "25  https://github.com/fastai/bear_voila,https://g...  \n",
       "26  https://github.com/dokturpjoter/test_1,https:/...  \n",
       "27  https://github.com/eminentspade/codingai-pub1t...  \n",
       "28  https://github.com/kisgyorgy/ai_learn,https://...  "
      ]
     },
     "execution_count": 16,
     "metadata": {},
     "output_type": "execute_result"
    }
   ],
   "source": [
    "query = f'select fork, renamed, count(resolved_ref_now) as rrn_count, resolved_ref_now, '\\\n",
    "                 f'GROUP_CONCAT(DISTINCT repo_url) AS repo_urls '\\\n",
    "        f'from {repo_table} '\\\n",
    "        f'where fork=0 AND renamed=0 '\\\n",
    "        f'group by \"resolved_ref_now\" '\\\n",
    "        f'having rrn_count>1;'\n",
    "pd.read_sql_query(query, db.conn)\n",
    "# query = 'select fork, renamed, count(resolved_ref_now) as rrn_count, resolved_ref_now, GROUP_CONCAT(DISTINCT repo_url) AS repo_urls from repo where fork!=1 AND renamed!=1 group by \"resolved_ref_now\" having rrn_count>1;'\n",
    "# pd.read_sql_query(query, db.conn)"
   ]
  },
  {
   "cell_type": "markdown",
   "metadata": {},
   "source": [
    "#### Forks"
   ]
  },
  {
   "cell_type": "code",
   "execution_count": 17,
   "metadata": {},
   "outputs": [
    {
     "data": {
      "text/plain": [
       "fork\n",
       "-1         5\n",
       "0      39851\n",
       "1       4674\n",
       "404     5735\n",
       "dtype: int64"
      ]
     },
     "execution_count": 17,
     "metadata": {},
     "output_type": "execute_result"
    }
   ],
   "source": [
    "repos.fillna(-1).groupby(\"fork\").size()\n",
    "# query = f'select fork, count(*) from {repo_table} group by \"fork\";'\n",
    "# forks = pd.read_sql_query(query, db.conn)"
   ]
  },
  {
   "cell_type": "markdown",
   "metadata": {},
   "source": [
    "fork=404 means that repo doesnt exist anymore.\n",
    "\n",
    "now check those 5 repos which have no fork info"
   ]
  },
  {
   "cell_type": "code",
   "execution_count": 18,
   "metadata": {},
   "outputs": [
    {
     "data": {
      "text/html": [
       "<div>\n",
       "<style scoped>\n",
       "    .dataframe tbody tr th:only-of-type {\n",
       "        vertical-align: middle;\n",
       "    }\n",
       "\n",
       "    .dataframe tbody tr th {\n",
       "        vertical-align: top;\n",
       "    }\n",
       "\n",
       "    .dataframe thead th {\n",
       "        text-align: right;\n",
       "    }\n",
       "</style>\n",
       "<table border=\"1\" class=\"dataframe\">\n",
       "  <thead>\n",
       "    <tr style=\"text-align: right;\">\n",
       "      <th></th>\n",
       "      <th>repo_url</th>\n",
       "      <th>fork</th>\n",
       "      <th>resolved_ref_now</th>\n",
       "    </tr>\n",
       "  </thead>\n",
       "  <tbody>\n",
       "    <tr>\n",
       "      <th>1035</th>\n",
       "      <td>https://github.com/gx158/python</td>\n",
       "      <td>None</td>\n",
       "      <td>409</td>\n",
       "    </tr>\n",
       "    <tr>\n",
       "      <th>8419</th>\n",
       "      <td>https://github.com/amit112amit/notebook</td>\n",
       "      <td>None</td>\n",
       "      <td>409</td>\n",
       "    </tr>\n",
       "    <tr>\n",
       "      <th>16581</th>\n",
       "      <td>https://github.com/doublelabyrinth/mobaxterm-k...</td>\n",
       "      <td>None</td>\n",
       "      <td>451</td>\n",
       "    </tr>\n",
       "    <tr>\n",
       "      <th>25415</th>\n",
       "      <td>https://github.com/abhat222/data-science--chea...</td>\n",
       "      <td>None</td>\n",
       "      <td>451</td>\n",
       "    </tr>\n",
       "    <tr>\n",
       "      <th>49030</th>\n",
       "      <td>https://github.com/juholland/smooth_with_voila2</td>\n",
       "      <td>None</td>\n",
       "      <td>409</td>\n",
       "    </tr>\n",
       "  </tbody>\n",
       "</table>\n",
       "</div>"
      ],
      "text/plain": [
       "                                                repo_url  fork  \\\n",
       "1035                     https://github.com/gx158/python  None   \n",
       "8419             https://github.com/amit112amit/notebook  None   \n",
       "16581  https://github.com/doublelabyrinth/mobaxterm-k...  None   \n",
       "25415  https://github.com/abhat222/data-science--chea...  None   \n",
       "49030    https://github.com/juholland/smooth_with_voila2  None   \n",
       "\n",
       "      resolved_ref_now  \n",
       "1035               409  \n",
       "8419               409  \n",
       "16581              451  \n",
       "25415              451  \n",
       "49030              409  "
      ]
     },
     "execution_count": 18,
     "metadata": {},
     "output_type": "execute_result"
    }
   ],
   "source": [
    "repos[repos[\"fork\"].isnull()][[\"repo_url\", \"fork\", \"resolved_ref_now\"]]"
   ]
  },
  {
   "cell_type": "markdown",
   "metadata": {},
   "source": [
    "These 3 repos returns \"HTTP 409: Conflict\" (because they are empty)\n",
    "- https://github.com/gx158/python\n",
    "- https://github.com/amit112amit/notebook\n",
    "- https://github.com/juholland/smooth_with_voila2\n",
    "\n",
    "These 2 repos returns \"HTTP 451: Unavailable for Legal Reasons\"\n",
    "- https://github.com/doublelabyrinth/mobaxterm-keygen\n",
    "- https://github.com/abhat222/data-science--cheat-sheet"
   ]
  },
  {
   "cell_type": "code",
   "execution_count": 19,
   "metadata": {},
   "outputs": [
    {
     "data": {
      "text/plain": [
       "5735"
      ]
     },
     "execution_count": 19,
     "metadata": {},
     "output_type": "execute_result"
    }
   ],
   "source": [
    "len(repos[repos[\"fork\"] == \"404\"])"
   ]
  },
  {
   "cell_type": "code",
   "execution_count": 20,
   "metadata": {},
   "outputs": [
    {
     "data": {
      "text/plain": [
       "5735"
      ]
     },
     "execution_count": 20,
     "metadata": {},
     "output_type": "execute_result"
    }
   ],
   "source": [
    "len(repos[(repos[\"resolved_ref_now\"] == \"404\") & (repos[\"fork\"] == \"404\")])"
   ]
  },
  {
   "cell_type": "markdown",
   "metadata": {},
   "source": [
    "Some repos exists but resolved_ref_now of their spec doesn't\n",
    "\n",
    "TODO what are reasons for this?\n",
    "1. spec is not valid anymore, e.g. branch is deleted"
   ]
  },
  {
   "cell_type": "code",
   "execution_count": 21,
   "metadata": {},
   "outputs": [
    {
     "data": {
      "text/html": [
       "<div>\n",
       "<style scoped>\n",
       "    .dataframe tbody tr th:only-of-type {\n",
       "        vertical-align: middle;\n",
       "    }\n",
       "\n",
       "    .dataframe tbody tr th {\n",
       "        vertical-align: top;\n",
       "    }\n",
       "\n",
       "    .dataframe thead th {\n",
       "        text-align: right;\n",
       "    }\n",
       "</style>\n",
       "<table border=\"1\" class=\"dataframe\">\n",
       "  <thead>\n",
       "    <tr style=\"text-align: right;\">\n",
       "      <th></th>\n",
       "      <th>repo_url</th>\n",
       "      <th>remote_id</th>\n",
       "      <th>fork</th>\n",
       "      <th>resolved_ref_now</th>\n",
       "      <th>last_spec</th>\n",
       "    </tr>\n",
       "  </thead>\n",
       "  <tbody>\n",
       "    <tr>\n",
       "      <th>70</th>\n",
       "      <td>https://github.com/delsim/jupyter-plotly-dash</td>\n",
       "      <td>157007576</td>\n",
       "      <td>1</td>\n",
       "      <td>404</td>\n",
       "      <td>delsim/jupyter-plotly-dash/messaging</td>\n",
       "    </tr>\n",
       "    <tr>\n",
       "      <th>270</th>\n",
       "      <td>https://github.com/jhamman/dask-examples</td>\n",
       "      <td>156001234</td>\n",
       "      <td>1</td>\n",
       "      <td>404</td>\n",
       "      <td>jhamman/dask-examples/xarray</td>\n",
       "    </tr>\n",
       "    <tr>\n",
       "      <th>455</th>\n",
       "      <td>https://github.com/pymlvizard/mlpyviz</td>\n",
       "      <td>147707842</td>\n",
       "      <td>0</td>\n",
       "      <td>404</td>\n",
       "      <td>PyMLVizard/MLPyViz/develop_GD</td>\n",
       "    </tr>\n",
       "    <tr>\n",
       "      <th>785</th>\n",
       "      <td>https://github.com/binderhub-ci-repos/requirem...</td>\n",
       "      <td>106039107</td>\n",
       "      <td>1</td>\n",
       "      <td>404</td>\n",
       "      <td>binderhub-ci-repos/requirements/1593550219.663...</td>\n",
       "    </tr>\n",
       "    <tr>\n",
       "      <th>1163</th>\n",
       "      <td>https://github.com/blackarbsceo/mixture_models</td>\n",
       "      <td>85614388</td>\n",
       "      <td>0</td>\n",
       "      <td>404</td>\n",
       "      <td>BlackArbsCEO/Mixture_Models/K-Means</td>\n",
       "    </tr>\n",
       "    <tr>\n",
       "      <th>...</th>\n",
       "      <td>...</td>\n",
       "      <td>...</td>\n",
       "      <td>...</td>\n",
       "      <td>...</td>\n",
       "      <td>...</td>\n",
       "    </tr>\n",
       "    <tr>\n",
       "      <th>49727</th>\n",
       "      <td>https://github.com/ajbozarth/elyra</td>\n",
       "      <td>246361602</td>\n",
       "      <td>1</td>\n",
       "      <td>404</td>\n",
       "      <td>ajbozarth/elyra/poster</td>\n",
       "    </tr>\n",
       "    <tr>\n",
       "      <th>49850</th>\n",
       "      <td>https://github.com/betatim/mcl-dsci-011-progra...</td>\n",
       "      <td>275013051</td>\n",
       "      <td>1</td>\n",
       "      <td>404</td>\n",
       "      <td>betatim/MCL-DSCI-011-programming-in-python/pat...</td>\n",
       "    </tr>\n",
       "    <tr>\n",
       "      <th>49890</th>\n",
       "      <td>https://github.com/spinicist/quit</td>\n",
       "      <td>37066948</td>\n",
       "      <td>0</td>\n",
       "      <td>404</td>\n",
       "      <td>spinicist/QUIT/mybinder</td>\n",
       "    </tr>\n",
       "    <tr>\n",
       "      <th>50105</th>\n",
       "      <td>https://github.com/pykeen/pykeen</td>\n",
       "      <td>242672435</td>\n",
       "      <td>0</td>\n",
       "      <td>404</td>\n",
       "      <td>pykeen/pykeen/update-docs</td>\n",
       "    </tr>\n",
       "    <tr>\n",
       "      <th>50264</th>\n",
       "      <td>https://github.com/enthought/numpy-tutorial-sc...</td>\n",
       "      <td>275048066</td>\n",
       "      <td>0</td>\n",
       "      <td>404</td>\n",
       "      <td>enthought/Numpy-Tutorial-SciPyConf-2020/notebooks</td>\n",
       "    </tr>\n",
       "  </tbody>\n",
       "</table>\n",
       "<p>292 rows × 5 columns</p>\n",
       "</div>"
      ],
      "text/plain": [
       "                                                repo_url  remote_id fork  \\\n",
       "70         https://github.com/delsim/jupyter-plotly-dash  157007576    1   \n",
       "270             https://github.com/jhamman/dask-examples  156001234    1   \n",
       "455                https://github.com/pymlvizard/mlpyviz  147707842    0   \n",
       "785    https://github.com/binderhub-ci-repos/requirem...  106039107    1   \n",
       "1163      https://github.com/blackarbsceo/mixture_models   85614388    0   \n",
       "...                                                  ...        ...  ...   \n",
       "49727                 https://github.com/ajbozarth/elyra  246361602    1   \n",
       "49850  https://github.com/betatim/mcl-dsci-011-progra...  275013051    1   \n",
       "49890                  https://github.com/spinicist/quit   37066948    0   \n",
       "50105                   https://github.com/pykeen/pykeen  242672435    0   \n",
       "50264  https://github.com/enthought/numpy-tutorial-sc...  275048066    0   \n",
       "\n",
       "      resolved_ref_now                                          last_spec  \n",
       "70                 404               delsim/jupyter-plotly-dash/messaging  \n",
       "270                404                       jhamman/dask-examples/xarray  \n",
       "455                404                      PyMLVizard/MLPyViz/develop_GD  \n",
       "785                404  binderhub-ci-repos/requirements/1593550219.663...  \n",
       "1163               404                BlackArbsCEO/Mixture_Models/K-Means  \n",
       "...                ...                                                ...  \n",
       "49727              404                             ajbozarth/elyra/poster  \n",
       "49850              404  betatim/MCL-DSCI-011-programming-in-python/pat...  \n",
       "49890              404                            spinicist/QUIT/mybinder  \n",
       "50105              404                          pykeen/pykeen/update-docs  \n",
       "50264              404  enthought/Numpy-Tutorial-SciPyConf-2020/notebooks  \n",
       "\n",
       "[292 rows x 5 columns]"
      ]
     },
     "execution_count": 21,
     "metadata": {},
     "output_type": "execute_result"
    }
   ],
   "source": [
    "# select fork, remote_id, last_spec, resolved_ref_now,refs,repo_url from repo where resolved_ref_now=404 and fork!=404;\n",
    "repos[(repos[\"resolved_ref_now\"] == \"404\") & \n",
    "      (repos[\"fork\"] != \"404\")][[\"repo_url\", \"remote_id\", \"fork\", \"resolved_ref_now\", \"last_spec\"]]"
   ]
  },
  {
   "cell_type": "code",
   "execution_count": 22,
   "metadata": {},
   "outputs": [
    {
     "data": {
      "text/plain": [
       "fork\n",
       "-1        5\n",
       "404    5735\n",
       "dtype: int64"
      ]
     },
     "execution_count": 22,
     "metadata": {},
     "output_type": "execute_result"
    }
   ],
   "source": [
    "# if fork is 404, remote_id should be null (not available)\n",
    "repos[repos[\"remote_id\"].isnull()].fillna(-1).groupby(\"fork\", as_index = False).size()"
   ]
  },
  {
   "cell_type": "markdown",
   "metadata": {},
   "source": [
    "#### Dockerfile repos\n",
    "\n",
    "These are repos which has dockerfile as binder config."
   ]
  },
  {
   "cell_type": "code",
   "execution_count": 23,
   "metadata": {},
   "outputs": [
    {
     "data": {
      "text/plain": [
       "dockerfile\n",
       "-1.0     6032\n",
       " 0.0    41969\n",
       " 1.0     2264\n",
       "dtype: int64"
      ]
     },
     "execution_count": 23,
     "metadata": {},
     "output_type": "execute_result"
    }
   ],
   "source": [
    "repos.fillna(-1).groupby(\"dockerfile\").size()"
   ]
  },
  {
   "cell_type": "code",
   "execution_count": 24,
   "metadata": {},
   "outputs": [
    {
     "data": {
      "text/plain": [
       "6032"
      ]
     },
     "execution_count": 24,
     "metadata": {},
     "output_type": "execute_result"
    }
   ],
   "source": [
    "len(repos[repos[\"dockerfile\"].isnull()])"
   ]
  },
  {
   "cell_type": "code",
   "execution_count": 25,
   "metadata": {},
   "outputs": [
    {
     "data": {
      "text/plain": [
       "resolved_ref_now\n",
       "404    6027\n",
       "409       3\n",
       "451       2\n",
       "dtype: int64"
      ]
     },
     "execution_count": 25,
     "metadata": {},
     "output_type": "execute_result"
    }
   ],
   "source": [
    "# query = \"select resolved_ref_now from repo where dockerfile is null group by resolved_ref_now;\"\n",
    "repos[repos[\"dockerfile\"].isnull()].groupby(\"resolved_ref_now\", as_index = False).size()\n",
    "# repos[repos[\"dockerfile\"].isnull()].value_counts(\"resolved_ref_now\")"
   ]
  },
  {
   "cell_type": "code",
   "execution_count": 26,
   "metadata": {},
   "outputs": [
    {
     "data": {
      "text/html": [
       "<div>\n",
       "<style scoped>\n",
       "    .dataframe tbody tr th:only-of-type {\n",
       "        vertical-align: middle;\n",
       "    }\n",
       "\n",
       "    .dataframe tbody tr th {\n",
       "        vertical-align: top;\n",
       "    }\n",
       "\n",
       "    .dataframe thead th {\n",
       "        text-align: right;\n",
       "    }\n",
       "</style>\n",
       "<table border=\"1\" class=\"dataframe\">\n",
       "  <thead>\n",
       "    <tr style=\"text-align: right;\">\n",
       "      <th></th>\n",
       "      <th>provider</th>\n",
       "      <th>repo_url</th>\n",
       "      <th>fork</th>\n",
       "      <th>resolved_ref_now</th>\n",
       "    </tr>\n",
       "  </thead>\n",
       "  <tbody>\n",
       "    <tr>\n",
       "      <th>10</th>\n",
       "      <td>GitHub</td>\n",
       "      <td>https://github.com/annefou/metos_python</td>\n",
       "      <td>0</td>\n",
       "      <td>bbb499dff1e08ae0d2ff4ec92a6a3aa432dc2bce</td>\n",
       "    </tr>\n",
       "    <tr>\n",
       "      <th>23</th>\n",
       "      <td>GitHub</td>\n",
       "      <td>https://github.com/underworldcode/underworld2-...</td>\n",
       "      <td>0</td>\n",
       "      <td>0ead44853a3842941c1feacc0dfe08766c954491</td>\n",
       "    </tr>\n",
       "    <tr>\n",
       "      <th>27</th>\n",
       "      <td>GitHub</td>\n",
       "      <td>https://github.com/cpgonzal/nanodj</td>\n",
       "      <td>1</td>\n",
       "      <td>7381de4cd04e15c0820cd8e6311549f093ad5718</td>\n",
       "    </tr>\n",
       "    <tr>\n",
       "      <th>47</th>\n",
       "      <td>GitHub</td>\n",
       "      <td>https://github.com/binder-examples/jupyter-stacks</td>\n",
       "      <td>0</td>\n",
       "      <td>b33625eac93e25f8433ed56f6ad09f000f2987e8</td>\n",
       "    </tr>\n",
       "    <tr>\n",
       "      <th>51</th>\n",
       "      <td>GitHub</td>\n",
       "      <td>https://github.com/ncc-74205/jupyter_octave</td>\n",
       "      <td>0</td>\n",
       "      <td>44ad45b2df4b5b1a5a619f1cde5697fca8ba30be</td>\n",
       "    </tr>\n",
       "    <tr>\n",
       "      <th>...</th>\n",
       "      <td>...</td>\n",
       "      <td>...</td>\n",
       "      <td>...</td>\n",
       "      <td>...</td>\n",
       "    </tr>\n",
       "    <tr>\n",
       "      <th>50163</th>\n",
       "      <td>GitHub</td>\n",
       "      <td>https://github.com/vmmelo/testing-cin</td>\n",
       "      <td>0</td>\n",
       "      <td>a1b42e9648e60c8a231237455fd35e913f7fbe3a</td>\n",
       "    </tr>\n",
       "    <tr>\n",
       "      <th>50189</th>\n",
       "      <td>GitHub</td>\n",
       "      <td>https://github.com/aims/docker-example</td>\n",
       "      <td>0</td>\n",
       "      <td>97a6dae7178ad92bbd2bc4260fa0d6ec22103073</td>\n",
       "    </tr>\n",
       "    <tr>\n",
       "      <th>50191</th>\n",
       "      <td>GitHub</td>\n",
       "      <td>https://github.com/dbarneche/docker-example</td>\n",
       "      <td>1</td>\n",
       "      <td>bee61e45fb4f580c11df70aa8c40d84300e01d1c</td>\n",
       "    </tr>\n",
       "    <tr>\n",
       "      <th>50201</th>\n",
       "      <td>GitHub</td>\n",
       "      <td>https://github.com/hackfin/hdlplayground</td>\n",
       "      <td>0</td>\n",
       "      <td>f116e658050f7a2a94408d8f25c45282b6a422d6</td>\n",
       "    </tr>\n",
       "    <tr>\n",
       "      <th>50234</th>\n",
       "      <td>GitHub</td>\n",
       "      <td>https://github.com/binder-examples/jupyter-sta...</td>\n",
       "      <td>0</td>\n",
       "      <td>2df974bf0ba288933a34ae4da1a95e823cd046e9</td>\n",
       "    </tr>\n",
       "  </tbody>\n",
       "</table>\n",
       "<p>2264 rows × 4 columns</p>\n",
       "</div>"
      ],
      "text/plain": [
       "      provider                                           repo_url fork  \\\n",
       "10      GitHub            https://github.com/annefou/metos_python    0   \n",
       "23      GitHub  https://github.com/underworldcode/underworld2-...    0   \n",
       "27      GitHub                 https://github.com/cpgonzal/nanodj    1   \n",
       "47      GitHub  https://github.com/binder-examples/jupyter-stacks    0   \n",
       "51      GitHub        https://github.com/ncc-74205/jupyter_octave    0   \n",
       "...        ...                                                ...  ...   \n",
       "50163   GitHub              https://github.com/vmmelo/testing-cin    0   \n",
       "50189   GitHub             https://github.com/aims/docker-example    0   \n",
       "50191   GitHub        https://github.com/dbarneche/docker-example    1   \n",
       "50201   GitHub           https://github.com/hackfin/hdlplayground    0   \n",
       "50234   GitHub  https://github.com/binder-examples/jupyter-sta...    0   \n",
       "\n",
       "                               resolved_ref_now  \n",
       "10     bbb499dff1e08ae0d2ff4ec92a6a3aa432dc2bce  \n",
       "23     0ead44853a3842941c1feacc0dfe08766c954491  \n",
       "27     7381de4cd04e15c0820cd8e6311549f093ad5718  \n",
       "47     b33625eac93e25f8433ed56f6ad09f000f2987e8  \n",
       "51     44ad45b2df4b5b1a5a619f1cde5697fca8ba30be  \n",
       "...                                         ...  \n",
       "50163  a1b42e9648e60c8a231237455fd35e913f7fbe3a  \n",
       "50189  97a6dae7178ad92bbd2bc4260fa0d6ec22103073  \n",
       "50191  bee61e45fb4f580c11df70aa8c40d84300e01d1c  \n",
       "50201  f116e658050f7a2a94408d8f25c45282b6a422d6  \n",
       "50234  2df974bf0ba288933a34ae4da1a95e823cd046e9  \n",
       "\n",
       "[2264 rows x 4 columns]"
      ]
     },
     "execution_count": 26,
     "metadata": {},
     "output_type": "execute_result"
    }
   ],
   "source": [
    "repos[repos[\"dockerfile\"] == 1][[\"provider\", \"repo_url\", \"fork\", \"resolved_ref_now\"]]"
   ]
  },
  {
   "cell_type": "markdown",
   "metadata": {},
   "source": [
    "#### Renamed repos\n",
    "If repo x is renamed to y, then both rows have same \"remote_id\" and have \"renamed\" as 1"
   ]
  },
  {
   "cell_type": "code",
   "execution_count": 27,
   "metadata": {},
   "outputs": [
    {
     "data": {
      "text/plain": [
       "renamed\n",
       "-1.0     5740\n",
       " 0.0    42577\n",
       " 1.0     1948\n",
       "dtype: int64"
      ]
     },
     "execution_count": 27,
     "metadata": {},
     "output_type": "execute_result"
    }
   ],
   "source": [
    "repos.fillna(-1).groupby(\"renamed\").size()"
   ]
  },
  {
   "cell_type": "code",
   "execution_count": 28,
   "metadata": {},
   "outputs": [
    {
     "data": {
      "text/plain": [
       "fork\n",
       "-1        5\n",
       "404    5735\n",
       "dtype: int64"
      ]
     },
     "execution_count": 28,
     "metadata": {},
     "output_type": "execute_result"
    }
   ],
   "source": [
    "# if renamed info is not available, this means repo doesnt exists\n",
    "repos[repos[\"renamed\"].isnull()].fillna(-1).groupby(\"fork\", as_index = False).size()"
   ]
  },
  {
   "cell_type": "code",
   "execution_count": 29,
   "metadata": {},
   "outputs": [
    {
     "data": {
      "text/html": [
       "<div>\n",
       "<style scoped>\n",
       "    .dataframe tbody tr th:only-of-type {\n",
       "        vertical-align: middle;\n",
       "    }\n",
       "\n",
       "    .dataframe tbody tr th {\n",
       "        vertical-align: top;\n",
       "    }\n",
       "\n",
       "    .dataframe thead th {\n",
       "        text-align: right;\n",
       "    }\n",
       "</style>\n",
       "<table border=\"1\" class=\"dataframe\">\n",
       "  <thead>\n",
       "    <tr style=\"text-align: right;\">\n",
       "      <th></th>\n",
       "      <th>fork</th>\n",
       "      <th>renamed</th>\n",
       "      <th>remote_id</th>\n",
       "      <th>repo_urls</th>\n",
       "    </tr>\n",
       "  </thead>\n",
       "  <tbody>\n",
       "    <tr>\n",
       "      <th>0</th>\n",
       "      <td>0</td>\n",
       "      <td>1</td>\n",
       "      <td>102113664</td>\n",
       "      <td>https://github.com/eamonnmag/cern-csc-2018,htt...</td>\n",
       "    </tr>\n",
       "    <tr>\n",
       "      <th>1</th>\n",
       "      <td>0</td>\n",
       "      <td>1</td>\n",
       "      <td>102488943</td>\n",
       "      <td>https://github.com/belfasttechtraining/python-...</td>\n",
       "    </tr>\n",
       "    <tr>\n",
       "      <th>2</th>\n",
       "      <td>0</td>\n",
       "      <td>1</td>\n",
       "      <td>103228562</td>\n",
       "      <td>https://github.com/rambasnet/thinkpythonnotebo...</td>\n",
       "    </tr>\n",
       "    <tr>\n",
       "      <th>3</th>\n",
       "      <td>0</td>\n",
       "      <td>1</td>\n",
       "      <td>103370184</td>\n",
       "      <td>https://github.com/stklik/crest,https://github...</td>\n",
       "    </tr>\n",
       "    <tr>\n",
       "      <th>4</th>\n",
       "      <td>0</td>\n",
       "      <td>1</td>\n",
       "      <td>103943609</td>\n",
       "      <td>https://github.com/jordan-melendez/gsum,https:...</td>\n",
       "    </tr>\n",
       "    <tr>\n",
       "      <th>...</th>\n",
       "      <td>...</td>\n",
       "      <td>...</td>\n",
       "      <td>...</td>\n",
       "      <td>...</td>\n",
       "    </tr>\n",
       "    <tr>\n",
       "      <th>940</th>\n",
       "      <td>0</td>\n",
       "      <td>1</td>\n",
       "      <td>98531561</td>\n",
       "      <td>https://github.com/quantstack/xwidgets,https:/...</td>\n",
       "    </tr>\n",
       "    <tr>\n",
       "      <th>941</th>\n",
       "      <td>0</td>\n",
       "      <td>1</td>\n",
       "      <td>99154413</td>\n",
       "      <td>https://github.com/swyddfa/stylo,https://githu...</td>\n",
       "    </tr>\n",
       "    <tr>\n",
       "      <th>942</th>\n",
       "      <td>0</td>\n",
       "      <td>1</td>\n",
       "      <td>99244384</td>\n",
       "      <td>https://github.com/qiskit/qiskit-tutorial,http...</td>\n",
       "    </tr>\n",
       "    <tr>\n",
       "      <th>943</th>\n",
       "      <td>0</td>\n",
       "      <td>1</td>\n",
       "      <td>d47484ac43a964fcea6547f36a5fdaa0</td>\n",
       "      <td>https://gist.github.com/akuzmanoski/d47484ac43...</td>\n",
       "    </tr>\n",
       "    <tr>\n",
       "      <th>944</th>\n",
       "      <td>0</td>\n",
       "      <td>1</td>\n",
       "      <td>f7dfbc33bf08158057a4e1517cdd4189</td>\n",
       "      <td>https://gist.github.com/rutuja027/f7dfbc33bf08...</td>\n",
       "    </tr>\n",
       "  </tbody>\n",
       "</table>\n",
       "<p>945 rows × 4 columns</p>\n",
       "</div>"
      ],
      "text/plain": [
       "    fork  renamed                         remote_id  \\\n",
       "0      0        1                         102113664   \n",
       "1      0        1                         102488943   \n",
       "2      0        1                         103228562   \n",
       "3      0        1                         103370184   \n",
       "4      0        1                         103943609   \n",
       "..   ...      ...                               ...   \n",
       "940    0        1                          98531561   \n",
       "941    0        1                          99154413   \n",
       "942    0        1                          99244384   \n",
       "943    0        1  d47484ac43a964fcea6547f36a5fdaa0   \n",
       "944    0        1  f7dfbc33bf08158057a4e1517cdd4189   \n",
       "\n",
       "                                             repo_urls  \n",
       "0    https://github.com/eamonnmag/cern-csc-2018,htt...  \n",
       "1    https://github.com/belfasttechtraining/python-...  \n",
       "2    https://github.com/rambasnet/thinkpythonnotebo...  \n",
       "3    https://github.com/stklik/crest,https://github...  \n",
       "4    https://github.com/jordan-melendez/gsum,https:...  \n",
       "..                                                 ...  \n",
       "940  https://github.com/quantstack/xwidgets,https:/...  \n",
       "941  https://github.com/swyddfa/stylo,https://githu...  \n",
       "942  https://github.com/qiskit/qiskit-tutorial,http...  \n",
       "943  https://gist.github.com/akuzmanoski/d47484ac43...  \n",
       "944  https://gist.github.com/rutuja027/f7dfbc33bf08...  \n",
       "\n",
       "[945 rows x 4 columns]"
      ]
     },
     "execution_count": 29,
     "metadata": {},
     "output_type": "execute_result"
    }
   ],
   "source": [
    "# list renamed repos\n",
    "query = 'select fork, renamed, remote_id, GROUP_CONCAT(DISTINCT repo_url) AS repo_urls from repo where renamed=1 group by \"remote_id\";'\n",
    "pd.read_sql_query(query, db.conn)"
   ]
  },
  {
   "cell_type": "code",
   "execution_count": 30,
   "metadata": {},
   "outputs": [
    {
     "data": {
      "text/html": [
       "<div>\n",
       "<style scoped>\n",
       "    .dataframe tbody tr th:only-of-type {\n",
       "        vertical-align: middle;\n",
       "    }\n",
       "\n",
       "    .dataframe tbody tr th {\n",
       "        vertical-align: top;\n",
       "    }\n",
       "\n",
       "    .dataframe thead th {\n",
       "        text-align: right;\n",
       "    }\n",
       "</style>\n",
       "<table border=\"1\" class=\"dataframe\">\n",
       "  <thead>\n",
       "    <tr style=\"text-align: right;\">\n",
       "      <th></th>\n",
       "      <th>fork</th>\n",
       "      <th>renamed</th>\n",
       "      <th>remote_id</th>\n",
       "      <th>repo_url</th>\n",
       "    </tr>\n",
       "  </thead>\n",
       "  <tbody>\n",
       "    <tr>\n",
       "      <th>0</th>\n",
       "      <td>0</td>\n",
       "      <td>1.0</td>\n",
       "      <td>102113664</td>\n",
       "      <td>https://github.com/eamonnmag/cern-csc-2018,htt...</td>\n",
       "    </tr>\n",
       "    <tr>\n",
       "      <th>1</th>\n",
       "      <td>0</td>\n",
       "      <td>1.0</td>\n",
       "      <td>102488943</td>\n",
       "      <td>https://github.com/belfasttechtraining/python-...</td>\n",
       "    </tr>\n",
       "    <tr>\n",
       "      <th>2</th>\n",
       "      <td>0</td>\n",
       "      <td>1.0</td>\n",
       "      <td>103228562</td>\n",
       "      <td>https://github.com/rambasnet/thinkpythonnotebo...</td>\n",
       "    </tr>\n",
       "    <tr>\n",
       "      <th>3</th>\n",
       "      <td>0</td>\n",
       "      <td>1.0</td>\n",
       "      <td>103370184</td>\n",
       "      <td>https://github.com/stklik/crest,https://github...</td>\n",
       "    </tr>\n",
       "    <tr>\n",
       "      <th>4</th>\n",
       "      <td>0</td>\n",
       "      <td>1.0</td>\n",
       "      <td>103943609</td>\n",
       "      <td>https://github.com/jordan-melendez/gsum,https:...</td>\n",
       "    </tr>\n",
       "    <tr>\n",
       "      <th>...</th>\n",
       "      <td>...</td>\n",
       "      <td>...</td>\n",
       "      <td>...</td>\n",
       "      <td>...</td>\n",
       "    </tr>\n",
       "    <tr>\n",
       "      <th>940</th>\n",
       "      <td>1</td>\n",
       "      <td>1.0</td>\n",
       "      <td>273921616</td>\n",
       "      <td>https://github.com/jan-janssen/lammps-tutorial...</td>\n",
       "    </tr>\n",
       "    <tr>\n",
       "      <th>941</th>\n",
       "      <td>1</td>\n",
       "      <td>1.0</td>\n",
       "      <td>52304286</td>\n",
       "      <td>https://github.com/hainm/nglview-notebooks,htt...</td>\n",
       "    </tr>\n",
       "    <tr>\n",
       "      <th>942</th>\n",
       "      <td>1</td>\n",
       "      <td>1.0</td>\n",
       "      <td>90872423</td>\n",
       "      <td>https://github.com/islast/brainnetworksinpytho...</td>\n",
       "    </tr>\n",
       "    <tr>\n",
       "      <th>943</th>\n",
       "      <td>1</td>\n",
       "      <td>1.0</td>\n",
       "      <td>95946535</td>\n",
       "      <td>https://github.com/binder-examples/julia-pytho...</td>\n",
       "    </tr>\n",
       "    <tr>\n",
       "      <th>944</th>\n",
       "      <td>1</td>\n",
       "      <td>1.0</td>\n",
       "      <td>98225713</td>\n",
       "      <td>https://github.com/alleninstitute/multipatch_a...</td>\n",
       "    </tr>\n",
       "  </tbody>\n",
       "</table>\n",
       "<p>945 rows × 4 columns</p>\n",
       "</div>"
      ],
      "text/plain": [
       "    fork  renamed  remote_id  \\\n",
       "0      0      1.0  102113664   \n",
       "1      0      1.0  102488943   \n",
       "2      0      1.0  103228562   \n",
       "3      0      1.0  103370184   \n",
       "4      0      1.0  103943609   \n",
       "..   ...      ...        ...   \n",
       "940    1      1.0  273921616   \n",
       "941    1      1.0   52304286   \n",
       "942    1      1.0   90872423   \n",
       "943    1      1.0   95946535   \n",
       "944    1      1.0   98225713   \n",
       "\n",
       "                                              repo_url  \n",
       "0    https://github.com/eamonnmag/cern-csc-2018,htt...  \n",
       "1    https://github.com/belfasttechtraining/python-...  \n",
       "2    https://github.com/rambasnet/thinkpythonnotebo...  \n",
       "3    https://github.com/stklik/crest,https://github...  \n",
       "4    https://github.com/jordan-melendez/gsum,https:...  \n",
       "..                                                 ...  \n",
       "940  https://github.com/jan-janssen/lammps-tutorial...  \n",
       "941  https://github.com/hainm/nglview-notebooks,htt...  \n",
       "942  https://github.com/islast/brainnetworksinpytho...  \n",
       "943  https://github.com/binder-examples/julia-pytho...  \n",
       "944  https://github.com/alleninstitute/multipatch_a...  \n",
       "\n",
       "[945 rows x 4 columns]"
      ]
     },
     "execution_count": 30,
     "metadata": {},
     "output_type": "execute_result"
    }
   ],
   "source": [
    "# list renamed repos (in pandas)\n",
    "repos[repos[\"renamed\"] == 1].\\\n",
    "    groupby([\"fork\", \"renamed\", \"remote_id\"])[\"repo_url\"].\\\n",
    "    apply(\",\".join).reset_index()"
   ]
  },
  {
   "cell_type": "code",
   "execution_count": null,
   "metadata": {},
   "outputs": [],
   "source": []
  },
  {
   "cell_type": "markdown",
   "metadata": {},
   "source": [
    "### Number of repos"
   ]
  },
  {
   "cell_type": "code",
   "execution_count": 31,
   "metadata": {},
   "outputs": [
    {
     "data": {
      "text/plain": [
       "50265"
      ]
     },
     "execution_count": 31,
     "metadata": {},
     "output_type": "execute_result"
    }
   ],
   "source": [
    "# db[repo_table].count\n",
    "len(repos)"
   ]
  },
  {
   "cell_type": "markdown",
   "metadata": {},
   "source": [
    "### Number of unique repos"
   ]
  },
  {
   "cell_type": "code",
   "execution_count": 32,
   "metadata": {},
   "outputs": [
    {
     "data": {
      "text/plain": [
       "43522"
      ]
     },
     "execution_count": 32,
     "metadata": {},
     "output_type": "execute_result"
    }
   ],
   "source": [
    "# renamed repos have the same remote_id\n",
    "len(repos.groupby(\"remote_id\"))"
   ]
  },
  {
   "cell_type": "code",
   "execution_count": 33,
   "metadata": {},
   "outputs": [
    {
     "data": {
      "text/plain": [
       "(43523,)"
      ]
     },
     "execution_count": 33,
     "metadata": {},
     "output_type": "execute_result"
    }
   ],
   "source": [
    "query = f\"select count(*) from (select * from {repo_table} group by remote_id);\"\n",
    "db.conn.execute(query).fetchone()"
   ]
  },
  {
   "cell_type": "code",
   "execution_count": 34,
   "metadata": {},
   "outputs": [
    {
     "data": {
      "text/plain": [
       "(38906,)"
      ]
     },
     "execution_count": 34,
     "metadata": {},
     "output_type": "execute_result"
    }
   ],
   "source": [
    "# unique repos which are not fork\n",
    "query = f\"select count(*) from (select * from {repo_table} group by remote_id) where fork=0;\"\n",
    "db.conn.execute(query).fetchone()"
   ]
  },
  {
   "cell_type": "code",
   "execution_count": 35,
   "metadata": {},
   "outputs": [
    {
     "data": {
      "text/plain": [
       "(36971,)"
      ]
     },
     "execution_count": 35,
     "metadata": {},
     "output_type": "execute_result"
    }
   ],
   "source": [
    "# unique repos, which are not forked or dockerfile\n",
    "query = f\"select count(*) from (select * from {repo_table} group by remote_id) where fork=0 and dockerfile=0;\"\n",
    "db.conn.execute(query).fetchone()"
   ]
  },
  {
   "cell_type": "code",
   "execution_count": null,
   "metadata": {},
   "outputs": [],
   "source": []
  }
 ],
 "metadata": {
  "kernelspec": {
   "display_name": "Python 3",
   "language": "python",
   "name": "python3"
  },
  "language_info": {
   "codemirror_mode": {
    "name": "ipython",
    "version": 3
   },
   "file_extension": ".py",
   "mimetype": "text/x-python",
   "name": "python",
   "nbconvert_exporter": "python",
   "pygments_lexer": "ipython3",
   "version": "3.7.6"
  }
 },
 "nbformat": 4,
 "nbformat_minor": 4
}
